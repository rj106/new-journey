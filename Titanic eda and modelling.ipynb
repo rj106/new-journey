{
 "cells": [
  {
   "cell_type": "code",
   "execution_count": 1,
   "metadata": {},
   "outputs": [],
   "source": [
    "import numpy as np\n",
    "import pandas as pd\n",
    "%matplotlib inline\n",
    "import matplotlib.pyplot as plt\n",
    "import seaborn as sns\n",
    "color = sns.color_palette()\n",
    "sns.set_style('darkgrid')\n",
    "import warnings\n",
    "def ignore_warn(*args, **kwargs):\n",
    "    pass\n",
    "warnings.warn = ignore_warn #ignore annoying warning (from sklearn and seaborn)\n",
    "from scipy import stats\n",
    "from scipy.stats import norm, skew #for some statistics\n",
    "pd.set_option('display.float_format', lambda x: '{:.3f}'.format(x))"
   ]
  },
  {
   "cell_type": "markdown",
   "metadata": {},
   "source": [
    "# Titanic Dataset"
   ]
  },
  {
   "cell_type": "code",
   "execution_count": 5,
   "metadata": {},
   "outputs": [
    {
     "data": {
      "text/html": [
       "<div>\n",
       "<style scoped>\n",
       "    .dataframe tbody tr th:only-of-type {\n",
       "        vertical-align: middle;\n",
       "    }\n",
       "\n",
       "    .dataframe tbody tr th {\n",
       "        vertical-align: top;\n",
       "    }\n",
       "\n",
       "    .dataframe thead th {\n",
       "        text-align: right;\n",
       "    }\n",
       "</style>\n",
       "<table border=\"1\" class=\"dataframe\">\n",
       "  <thead>\n",
       "    <tr style=\"text-align: right;\">\n",
       "      <th></th>\n",
       "      <th>PassengerId</th>\n",
       "      <th>Survived</th>\n",
       "      <th>Pclass</th>\n",
       "      <th>Name</th>\n",
       "      <th>Sex</th>\n",
       "      <th>Age</th>\n",
       "      <th>SibSp</th>\n",
       "      <th>Parch</th>\n",
       "      <th>Ticket</th>\n",
       "      <th>Fare</th>\n",
       "      <th>Cabin</th>\n",
       "      <th>Embarked</th>\n",
       "    </tr>\n",
       "  </thead>\n",
       "  <tbody>\n",
       "    <tr>\n",
       "      <td>0</td>\n",
       "      <td>1</td>\n",
       "      <td>0</td>\n",
       "      <td>3</td>\n",
       "      <td>Braund, Mr. Owen Harris</td>\n",
       "      <td>male</td>\n",
       "      <td>22.000</td>\n",
       "      <td>1</td>\n",
       "      <td>0</td>\n",
       "      <td>A/5 21171</td>\n",
       "      <td>7.250</td>\n",
       "      <td>NaN</td>\n",
       "      <td>S</td>\n",
       "    </tr>\n",
       "    <tr>\n",
       "      <td>1</td>\n",
       "      <td>2</td>\n",
       "      <td>1</td>\n",
       "      <td>1</td>\n",
       "      <td>Cumings, Mrs. John Bradley (Florence Briggs Th...</td>\n",
       "      <td>female</td>\n",
       "      <td>38.000</td>\n",
       "      <td>1</td>\n",
       "      <td>0</td>\n",
       "      <td>PC 17599</td>\n",
       "      <td>71.283</td>\n",
       "      <td>C85</td>\n",
       "      <td>C</td>\n",
       "    </tr>\n",
       "    <tr>\n",
       "      <td>2</td>\n",
       "      <td>3</td>\n",
       "      <td>1</td>\n",
       "      <td>3</td>\n",
       "      <td>Heikkinen, Miss. Laina</td>\n",
       "      <td>female</td>\n",
       "      <td>26.000</td>\n",
       "      <td>0</td>\n",
       "      <td>0</td>\n",
       "      <td>STON/O2. 3101282</td>\n",
       "      <td>7.925</td>\n",
       "      <td>NaN</td>\n",
       "      <td>S</td>\n",
       "    </tr>\n",
       "    <tr>\n",
       "      <td>3</td>\n",
       "      <td>4</td>\n",
       "      <td>1</td>\n",
       "      <td>1</td>\n",
       "      <td>Futrelle, Mrs. Jacques Heath (Lily May Peel)</td>\n",
       "      <td>female</td>\n",
       "      <td>35.000</td>\n",
       "      <td>1</td>\n",
       "      <td>0</td>\n",
       "      <td>113803</td>\n",
       "      <td>53.100</td>\n",
       "      <td>C123</td>\n",
       "      <td>S</td>\n",
       "    </tr>\n",
       "    <tr>\n",
       "      <td>4</td>\n",
       "      <td>5</td>\n",
       "      <td>0</td>\n",
       "      <td>3</td>\n",
       "      <td>Allen, Mr. William Henry</td>\n",
       "      <td>male</td>\n",
       "      <td>35.000</td>\n",
       "      <td>0</td>\n",
       "      <td>0</td>\n",
       "      <td>373450</td>\n",
       "      <td>8.050</td>\n",
       "      <td>NaN</td>\n",
       "      <td>S</td>\n",
       "    </tr>\n",
       "  </tbody>\n",
       "</table>\n",
       "</div>"
      ],
      "text/plain": [
       "   PassengerId  Survived  Pclass  \\\n",
       "0            1         0       3   \n",
       "1            2         1       1   \n",
       "2            3         1       3   \n",
       "3            4         1       1   \n",
       "4            5         0       3   \n",
       "\n",
       "                                                Name     Sex    Age  SibSp  \\\n",
       "0                            Braund, Mr. Owen Harris    male 22.000      1   \n",
       "1  Cumings, Mrs. John Bradley (Florence Briggs Th...  female 38.000      1   \n",
       "2                             Heikkinen, Miss. Laina  female 26.000      0   \n",
       "3       Futrelle, Mrs. Jacques Heath (Lily May Peel)  female 35.000      1   \n",
       "4                           Allen, Mr. William Henry    male 35.000      0   \n",
       "\n",
       "   Parch            Ticket   Fare Cabin Embarked  \n",
       "0      0         A/5 21171  7.250   NaN        S  \n",
       "1      0          PC 17599 71.283   C85        C  \n",
       "2      0  STON/O2. 3101282  7.925   NaN        S  \n",
       "3      0            113803 53.100  C123        S  \n",
       "4      0            373450  8.050   NaN        S  "
      ]
     },
     "execution_count": 5,
     "metadata": {},
     "output_type": "execute_result"
    }
   ],
   "source": [
    "df_train = pd.read_csv('train (1).csv')\n",
    "df_train.head()"
   ]
  },
  {
   "cell_type": "code",
   "execution_count": 6,
   "metadata": {},
   "outputs": [
    {
     "data": {
      "text/plain": [
       "(891, 12)"
      ]
     },
     "execution_count": 6,
     "metadata": {},
     "output_type": "execute_result"
    }
   ],
   "source": [
    "df_train.shape"
   ]
  },
  {
   "cell_type": "code",
   "execution_count": 7,
   "metadata": {},
   "outputs": [
    {
     "name": "stdout",
     "output_type": "stream",
     "text": [
      "<class 'pandas.core.frame.DataFrame'>\n",
      "RangeIndex: 891 entries, 0 to 890\n",
      "Data columns (total 12 columns):\n",
      "PassengerId    891 non-null int64\n",
      "Survived       891 non-null int64\n",
      "Pclass         891 non-null int64\n",
      "Name           891 non-null object\n",
      "Sex            891 non-null object\n",
      "Age            714 non-null float64\n",
      "SibSp          891 non-null int64\n",
      "Parch          891 non-null int64\n",
      "Ticket         891 non-null object\n",
      "Fare           891 non-null float64\n",
      "Cabin          204 non-null object\n",
      "Embarked       889 non-null object\n",
      "dtypes: float64(2), int64(5), object(5)\n",
      "memory usage: 83.7+ KB\n"
     ]
    }
   ],
   "source": [
    "df_train.info()"
   ]
  },
  {
   "cell_type": "code",
   "execution_count": 8,
   "metadata": {},
   "outputs": [
    {
     "data": {
      "text/html": [
       "<div>\n",
       "<style scoped>\n",
       "    .dataframe tbody tr th:only-of-type {\n",
       "        vertical-align: middle;\n",
       "    }\n",
       "\n",
       "    .dataframe tbody tr th {\n",
       "        vertical-align: top;\n",
       "    }\n",
       "\n",
       "    .dataframe thead th {\n",
       "        text-align: right;\n",
       "    }\n",
       "</style>\n",
       "<table border=\"1\" class=\"dataframe\">\n",
       "  <thead>\n",
       "    <tr style=\"text-align: right;\">\n",
       "      <th></th>\n",
       "      <th>PassengerId</th>\n",
       "      <th>Pclass</th>\n",
       "      <th>Name</th>\n",
       "      <th>Sex</th>\n",
       "      <th>Age</th>\n",
       "      <th>SibSp</th>\n",
       "      <th>Parch</th>\n",
       "      <th>Ticket</th>\n",
       "      <th>Fare</th>\n",
       "      <th>Cabin</th>\n",
       "      <th>Embarked</th>\n",
       "    </tr>\n",
       "  </thead>\n",
       "  <tbody>\n",
       "    <tr>\n",
       "      <td>0</td>\n",
       "      <td>892</td>\n",
       "      <td>3</td>\n",
       "      <td>Kelly, Mr. James</td>\n",
       "      <td>male</td>\n",
       "      <td>34.500</td>\n",
       "      <td>0</td>\n",
       "      <td>0</td>\n",
       "      <td>330911</td>\n",
       "      <td>7.829</td>\n",
       "      <td>NaN</td>\n",
       "      <td>Q</td>\n",
       "    </tr>\n",
       "    <tr>\n",
       "      <td>1</td>\n",
       "      <td>893</td>\n",
       "      <td>3</td>\n",
       "      <td>Wilkes, Mrs. James (Ellen Needs)</td>\n",
       "      <td>female</td>\n",
       "      <td>47.000</td>\n",
       "      <td>1</td>\n",
       "      <td>0</td>\n",
       "      <td>363272</td>\n",
       "      <td>7.000</td>\n",
       "      <td>NaN</td>\n",
       "      <td>S</td>\n",
       "    </tr>\n",
       "    <tr>\n",
       "      <td>2</td>\n",
       "      <td>894</td>\n",
       "      <td>2</td>\n",
       "      <td>Myles, Mr. Thomas Francis</td>\n",
       "      <td>male</td>\n",
       "      <td>62.000</td>\n",
       "      <td>0</td>\n",
       "      <td>0</td>\n",
       "      <td>240276</td>\n",
       "      <td>9.688</td>\n",
       "      <td>NaN</td>\n",
       "      <td>Q</td>\n",
       "    </tr>\n",
       "    <tr>\n",
       "      <td>3</td>\n",
       "      <td>895</td>\n",
       "      <td>3</td>\n",
       "      <td>Wirz, Mr. Albert</td>\n",
       "      <td>male</td>\n",
       "      <td>27.000</td>\n",
       "      <td>0</td>\n",
       "      <td>0</td>\n",
       "      <td>315154</td>\n",
       "      <td>8.662</td>\n",
       "      <td>NaN</td>\n",
       "      <td>S</td>\n",
       "    </tr>\n",
       "    <tr>\n",
       "      <td>4</td>\n",
       "      <td>896</td>\n",
       "      <td>3</td>\n",
       "      <td>Hirvonen, Mrs. Alexander (Helga E Lindqvist)</td>\n",
       "      <td>female</td>\n",
       "      <td>22.000</td>\n",
       "      <td>1</td>\n",
       "      <td>1</td>\n",
       "      <td>3101298</td>\n",
       "      <td>12.287</td>\n",
       "      <td>NaN</td>\n",
       "      <td>S</td>\n",
       "    </tr>\n",
       "  </tbody>\n",
       "</table>\n",
       "</div>"
      ],
      "text/plain": [
       "   PassengerId  Pclass                                          Name     Sex  \\\n",
       "0          892       3                              Kelly, Mr. James    male   \n",
       "1          893       3              Wilkes, Mrs. James (Ellen Needs)  female   \n",
       "2          894       2                     Myles, Mr. Thomas Francis    male   \n",
       "3          895       3                              Wirz, Mr. Albert    male   \n",
       "4          896       3  Hirvonen, Mrs. Alexander (Helga E Lindqvist)  female   \n",
       "\n",
       "     Age  SibSp  Parch   Ticket   Fare Cabin Embarked  \n",
       "0 34.500      0      0   330911  7.829   NaN        Q  \n",
       "1 47.000      1      0   363272  7.000   NaN        S  \n",
       "2 62.000      0      0   240276  9.688   NaN        Q  \n",
       "3 27.000      0      0   315154  8.662   NaN        S  \n",
       "4 22.000      1      1  3101298 12.287   NaN        S  "
      ]
     },
     "execution_count": 8,
     "metadata": {},
     "output_type": "execute_result"
    }
   ],
   "source": [
    "df_test = pd.read_csv('test (1).csv')\n",
    "df_test.head()"
   ]
  },
  {
   "cell_type": "code",
   "execution_count": 9,
   "metadata": {},
   "outputs": [
    {
     "data": {
      "text/plain": [
       "(418, 11)"
      ]
     },
     "execution_count": 9,
     "metadata": {},
     "output_type": "execute_result"
    }
   ],
   "source": [
    "df_test.shape"
   ]
  },
  {
   "cell_type": "code",
   "execution_count": 10,
   "metadata": {},
   "outputs": [
    {
     "name": "stdout",
     "output_type": "stream",
     "text": [
      "<class 'pandas.core.frame.DataFrame'>\n",
      "RangeIndex: 418 entries, 0 to 417\n",
      "Data columns (total 11 columns):\n",
      "PassengerId    418 non-null int64\n",
      "Pclass         418 non-null int64\n",
      "Name           418 non-null object\n",
      "Sex            418 non-null object\n",
      "Age            332 non-null float64\n",
      "SibSp          418 non-null int64\n",
      "Parch          418 non-null int64\n",
      "Ticket         418 non-null object\n",
      "Fare           417 non-null float64\n",
      "Cabin          91 non-null object\n",
      "Embarked       418 non-null object\n",
      "dtypes: float64(2), int64(4), object(5)\n",
      "memory usage: 36.0+ KB\n"
     ]
    }
   ],
   "source": [
    "df_test.info()"
   ]
  },
  {
   "cell_type": "code",
   "execution_count": 11,
   "metadata": {},
   "outputs": [
    {
     "data": {
      "text/html": [
       "<div>\n",
       "<style scoped>\n",
       "    .dataframe tbody tr th:only-of-type {\n",
       "        vertical-align: middle;\n",
       "    }\n",
       "\n",
       "    .dataframe tbody tr th {\n",
       "        vertical-align: top;\n",
       "    }\n",
       "\n",
       "    .dataframe thead th {\n",
       "        text-align: right;\n",
       "    }\n",
       "</style>\n",
       "<table border=\"1\" class=\"dataframe\">\n",
       "  <thead>\n",
       "    <tr style=\"text-align: right;\">\n",
       "      <th></th>\n",
       "      <th>PassengerId</th>\n",
       "      <th>Survived</th>\n",
       "      <th>Pclass</th>\n",
       "      <th>Age</th>\n",
       "      <th>SibSp</th>\n",
       "      <th>Parch</th>\n",
       "      <th>Fare</th>\n",
       "    </tr>\n",
       "  </thead>\n",
       "  <tbody>\n",
       "    <tr>\n",
       "      <td>count</td>\n",
       "      <td>891.000</td>\n",
       "      <td>891.000</td>\n",
       "      <td>891.000</td>\n",
       "      <td>714.000</td>\n",
       "      <td>891.000</td>\n",
       "      <td>891.000</td>\n",
       "      <td>891.000</td>\n",
       "    </tr>\n",
       "    <tr>\n",
       "      <td>mean</td>\n",
       "      <td>446.000</td>\n",
       "      <td>0.384</td>\n",
       "      <td>2.309</td>\n",
       "      <td>29.699</td>\n",
       "      <td>0.523</td>\n",
       "      <td>0.382</td>\n",
       "      <td>32.204</td>\n",
       "    </tr>\n",
       "    <tr>\n",
       "      <td>std</td>\n",
       "      <td>257.354</td>\n",
       "      <td>0.487</td>\n",
       "      <td>0.836</td>\n",
       "      <td>14.526</td>\n",
       "      <td>1.103</td>\n",
       "      <td>0.806</td>\n",
       "      <td>49.693</td>\n",
       "    </tr>\n",
       "    <tr>\n",
       "      <td>min</td>\n",
       "      <td>1.000</td>\n",
       "      <td>0.000</td>\n",
       "      <td>1.000</td>\n",
       "      <td>0.420</td>\n",
       "      <td>0.000</td>\n",
       "      <td>0.000</td>\n",
       "      <td>0.000</td>\n",
       "    </tr>\n",
       "    <tr>\n",
       "      <td>25%</td>\n",
       "      <td>223.500</td>\n",
       "      <td>0.000</td>\n",
       "      <td>2.000</td>\n",
       "      <td>20.125</td>\n",
       "      <td>0.000</td>\n",
       "      <td>0.000</td>\n",
       "      <td>7.910</td>\n",
       "    </tr>\n",
       "    <tr>\n",
       "      <td>50%</td>\n",
       "      <td>446.000</td>\n",
       "      <td>0.000</td>\n",
       "      <td>3.000</td>\n",
       "      <td>28.000</td>\n",
       "      <td>0.000</td>\n",
       "      <td>0.000</td>\n",
       "      <td>14.454</td>\n",
       "    </tr>\n",
       "    <tr>\n",
       "      <td>75%</td>\n",
       "      <td>668.500</td>\n",
       "      <td>1.000</td>\n",
       "      <td>3.000</td>\n",
       "      <td>38.000</td>\n",
       "      <td>1.000</td>\n",
       "      <td>0.000</td>\n",
       "      <td>31.000</td>\n",
       "    </tr>\n",
       "    <tr>\n",
       "      <td>max</td>\n",
       "      <td>891.000</td>\n",
       "      <td>1.000</td>\n",
       "      <td>3.000</td>\n",
       "      <td>80.000</td>\n",
       "      <td>8.000</td>\n",
       "      <td>6.000</td>\n",
       "      <td>512.329</td>\n",
       "    </tr>\n",
       "  </tbody>\n",
       "</table>\n",
       "</div>"
      ],
      "text/plain": [
       "       PassengerId  Survived  Pclass     Age   SibSp   Parch    Fare\n",
       "count      891.000   891.000 891.000 714.000 891.000 891.000 891.000\n",
       "mean       446.000     0.384   2.309  29.699   0.523   0.382  32.204\n",
       "std        257.354     0.487   0.836  14.526   1.103   0.806  49.693\n",
       "min          1.000     0.000   1.000   0.420   0.000   0.000   0.000\n",
       "25%        223.500     0.000   2.000  20.125   0.000   0.000   7.910\n",
       "50%        446.000     0.000   3.000  28.000   0.000   0.000  14.454\n",
       "75%        668.500     1.000   3.000  38.000   1.000   0.000  31.000\n",
       "max        891.000     1.000   3.000  80.000   8.000   6.000 512.329"
      ]
     },
     "execution_count": 11,
     "metadata": {},
     "output_type": "execute_result"
    }
   ],
   "source": [
    "df_train.describe()"
   ]
  },
  {
   "cell_type": "code",
   "execution_count": 12,
   "metadata": {},
   "outputs": [
    {
     "data": {
      "text/html": [
       "<div>\n",
       "<style scoped>\n",
       "    .dataframe tbody tr th:only-of-type {\n",
       "        vertical-align: middle;\n",
       "    }\n",
       "\n",
       "    .dataframe tbody tr th {\n",
       "        vertical-align: top;\n",
       "    }\n",
       "\n",
       "    .dataframe thead th {\n",
       "        text-align: right;\n",
       "    }\n",
       "</style>\n",
       "<table border=\"1\" class=\"dataframe\">\n",
       "  <thead>\n",
       "    <tr style=\"text-align: right;\">\n",
       "      <th></th>\n",
       "      <th>PassengerId</th>\n",
       "      <th>Pclass</th>\n",
       "      <th>Age</th>\n",
       "      <th>SibSp</th>\n",
       "      <th>Parch</th>\n",
       "      <th>Fare</th>\n",
       "    </tr>\n",
       "  </thead>\n",
       "  <tbody>\n",
       "    <tr>\n",
       "      <td>count</td>\n",
       "      <td>418.000</td>\n",
       "      <td>418.000</td>\n",
       "      <td>332.000</td>\n",
       "      <td>418.000</td>\n",
       "      <td>418.000</td>\n",
       "      <td>417.000</td>\n",
       "    </tr>\n",
       "    <tr>\n",
       "      <td>mean</td>\n",
       "      <td>1100.500</td>\n",
       "      <td>2.266</td>\n",
       "      <td>30.273</td>\n",
       "      <td>0.447</td>\n",
       "      <td>0.392</td>\n",
       "      <td>35.627</td>\n",
       "    </tr>\n",
       "    <tr>\n",
       "      <td>std</td>\n",
       "      <td>120.810</td>\n",
       "      <td>0.842</td>\n",
       "      <td>14.181</td>\n",
       "      <td>0.897</td>\n",
       "      <td>0.981</td>\n",
       "      <td>55.908</td>\n",
       "    </tr>\n",
       "    <tr>\n",
       "      <td>min</td>\n",
       "      <td>892.000</td>\n",
       "      <td>1.000</td>\n",
       "      <td>0.170</td>\n",
       "      <td>0.000</td>\n",
       "      <td>0.000</td>\n",
       "      <td>0.000</td>\n",
       "    </tr>\n",
       "    <tr>\n",
       "      <td>25%</td>\n",
       "      <td>996.250</td>\n",
       "      <td>1.000</td>\n",
       "      <td>21.000</td>\n",
       "      <td>0.000</td>\n",
       "      <td>0.000</td>\n",
       "      <td>7.896</td>\n",
       "    </tr>\n",
       "    <tr>\n",
       "      <td>50%</td>\n",
       "      <td>1100.500</td>\n",
       "      <td>3.000</td>\n",
       "      <td>27.000</td>\n",
       "      <td>0.000</td>\n",
       "      <td>0.000</td>\n",
       "      <td>14.454</td>\n",
       "    </tr>\n",
       "    <tr>\n",
       "      <td>75%</td>\n",
       "      <td>1204.750</td>\n",
       "      <td>3.000</td>\n",
       "      <td>39.000</td>\n",
       "      <td>1.000</td>\n",
       "      <td>0.000</td>\n",
       "      <td>31.500</td>\n",
       "    </tr>\n",
       "    <tr>\n",
       "      <td>max</td>\n",
       "      <td>1309.000</td>\n",
       "      <td>3.000</td>\n",
       "      <td>76.000</td>\n",
       "      <td>8.000</td>\n",
       "      <td>9.000</td>\n",
       "      <td>512.329</td>\n",
       "    </tr>\n",
       "  </tbody>\n",
       "</table>\n",
       "</div>"
      ],
      "text/plain": [
       "       PassengerId  Pclass     Age   SibSp   Parch    Fare\n",
       "count      418.000 418.000 332.000 418.000 418.000 417.000\n",
       "mean      1100.500   2.266  30.273   0.447   0.392  35.627\n",
       "std        120.810   0.842  14.181   0.897   0.981  55.908\n",
       "min        892.000   1.000   0.170   0.000   0.000   0.000\n",
       "25%        996.250   1.000  21.000   0.000   0.000   7.896\n",
       "50%       1100.500   3.000  27.000   0.000   0.000  14.454\n",
       "75%       1204.750   3.000  39.000   1.000   0.000  31.500\n",
       "max       1309.000   3.000  76.000   8.000   9.000 512.329"
      ]
     },
     "execution_count": 12,
     "metadata": {},
     "output_type": "execute_result"
    }
   ],
   "source": [
    "df_test.describe()"
   ]
  },
  {
   "cell_type": "code",
   "execution_count": 13,
   "metadata": {},
   "outputs": [
    {
     "name": "stdout",
     "output_type": "stream",
     "text": [
      "all_data size is : (1309, 11)\n"
     ]
    }
   ],
   "source": [
    "ntrain = df_train.shape[0]\n",
    "ntest = df_test.shape[0]\n",
    "y_train = df_train['Survived']\n",
    "all_data = pd.concat((df_train,df_test)).reset_index(drop = True)\n",
    "all_data = all_data.drop('Survived',axis =  1)\n",
    "print(\"all_data size is : {}\".format(all_data.shape))"
   ]
  },
  {
   "cell_type": "code",
   "execution_count": 14,
   "metadata": {},
   "outputs": [],
   "source": [
    "def missing_chk(df):\n",
    "    total = df.isnull().sum()\n",
    "    percent = ((df.isnull().sum())/len(df))*100\n",
    "    missing_val = pd.concat([total,percent],axis = 1,keys = ['total','percent'])\n",
    "    actual_missing = (missing_val[missing_val.total !=0])\n",
    "    return actual_missing.sort_values(by = 'total',ascending = False)"
   ]
  },
  {
   "cell_type": "code",
   "execution_count": 15,
   "metadata": {},
   "outputs": [
    {
     "data": {
      "text/html": [
       "<div>\n",
       "<style scoped>\n",
       "    .dataframe tbody tr th:only-of-type {\n",
       "        vertical-align: middle;\n",
       "    }\n",
       "\n",
       "    .dataframe tbody tr th {\n",
       "        vertical-align: top;\n",
       "    }\n",
       "\n",
       "    .dataframe thead th {\n",
       "        text-align: right;\n",
       "    }\n",
       "</style>\n",
       "<table border=\"1\" class=\"dataframe\">\n",
       "  <thead>\n",
       "    <tr style=\"text-align: right;\">\n",
       "      <th></th>\n",
       "      <th>total</th>\n",
       "      <th>percent</th>\n",
       "    </tr>\n",
       "  </thead>\n",
       "  <tbody>\n",
       "    <tr>\n",
       "      <td>Cabin</td>\n",
       "      <td>1014</td>\n",
       "      <td>77.464</td>\n",
       "    </tr>\n",
       "    <tr>\n",
       "      <td>Age</td>\n",
       "      <td>263</td>\n",
       "      <td>20.092</td>\n",
       "    </tr>\n",
       "    <tr>\n",
       "      <td>Embarked</td>\n",
       "      <td>2</td>\n",
       "      <td>0.153</td>\n",
       "    </tr>\n",
       "    <tr>\n",
       "      <td>Fare</td>\n",
       "      <td>1</td>\n",
       "      <td>0.076</td>\n",
       "    </tr>\n",
       "  </tbody>\n",
       "</table>\n",
       "</div>"
      ],
      "text/plain": [
       "          total  percent\n",
       "Cabin      1014   77.464\n",
       "Age         263   20.092\n",
       "Embarked      2    0.153\n",
       "Fare          1    0.076"
      ]
     },
     "execution_count": 15,
     "metadata": {},
     "output_type": "execute_result"
    }
   ],
   "source": [
    "missing_chk(all_data)"
   ]
  },
  {
   "cell_type": "code",
   "execution_count": 16,
   "metadata": {},
   "outputs": [
    {
     "data": {
      "text/plain": [
       "<matplotlib.axes._subplots.AxesSubplot at 0x224a57f51c8>"
      ]
     },
     "execution_count": 16,
     "metadata": {},
     "output_type": "execute_result"
    },
    {
     "data": {
      "image/png": "[encoded data removed]",
      "text/plain": [
       "<Figure size 432x288 with 1 Axes>"
      ]
     },
     "metadata": {
      "needs_background": "light"
     },
     "output_type": "display_data"
    }
   ],
   "source": [
    "df_train.Survived.value_counts(normalize = True).plot(kind = 'bar')"
   ]
  },
  {
   "cell_type": "code",
   "execution_count": 17,
   "metadata": {},
   "outputs": [
    {
     "data": {
      "text/plain": [
       "0    549\n",
       "1    342\n",
       "Name: Survived, dtype: int64"
      ]
     },
     "execution_count": 17,
     "metadata": {},
     "output_type": "execute_result"
    }
   ],
   "source": [
    "df_train.Survived.value_counts()"
   ]
  },
  {
   "cell_type": "code",
   "execution_count": 18,
   "metadata": {},
   "outputs": [
    {
     "data": {
      "text/plain": [
       "S    644\n",
       "C    168\n",
       "Q     77\n",
       "Name: Embarked, dtype: int64"
      ]
     },
     "execution_count": 18,
     "metadata": {},
     "output_type": "execute_result"
    }
   ],
   "source": [
    "df_train.Embarked.value_counts()"
   ]
  },
  {
   "cell_type": "code",
   "execution_count": 19,
   "metadata": {},
   "outputs": [
    {
     "data": {
      "text/html": [
       "<div>\n",
       "<style scoped>\n",
       "    .dataframe tbody tr th:only-of-type {\n",
       "        vertical-align: middle;\n",
       "    }\n",
       "\n",
       "    .dataframe tbody tr th {\n",
       "        vertical-align: top;\n",
       "    }\n",
       "\n",
       "    .dataframe thead th {\n",
       "        text-align: right;\n",
       "    }\n",
       "</style>\n",
       "<table border=\"1\" class=\"dataframe\">\n",
       "  <thead>\n",
       "    <tr style=\"text-align: right;\">\n",
       "      <th></th>\n",
       "      <th>Name</th>\n",
       "      <th>Sex</th>\n",
       "      <th>Ticket</th>\n",
       "      <th>Cabin</th>\n",
       "      <th>Embarked</th>\n",
       "    </tr>\n",
       "  </thead>\n",
       "  <tbody>\n",
       "    <tr>\n",
       "      <td>0</td>\n",
       "      <td>Braund, Mr. Owen Harris</td>\n",
       "      <td>male</td>\n",
       "      <td>A/5 21171</td>\n",
       "      <td>NaN</td>\n",
       "      <td>S</td>\n",
       "    </tr>\n",
       "    <tr>\n",
       "      <td>1</td>\n",
       "      <td>Cumings, Mrs. John Bradley (Florence Briggs Th...</td>\n",
       "      <td>female</td>\n",
       "      <td>PC 17599</td>\n",
       "      <td>C85</td>\n",
       "      <td>C</td>\n",
       "    </tr>\n",
       "    <tr>\n",
       "      <td>2</td>\n",
       "      <td>Heikkinen, Miss. Laina</td>\n",
       "      <td>female</td>\n",
       "      <td>STON/O2. 3101282</td>\n",
       "      <td>NaN</td>\n",
       "      <td>S</td>\n",
       "    </tr>\n",
       "    <tr>\n",
       "      <td>3</td>\n",
       "      <td>Futrelle, Mrs. Jacques Heath (Lily May Peel)</td>\n",
       "      <td>female</td>\n",
       "      <td>113803</td>\n",
       "      <td>C123</td>\n",
       "      <td>S</td>\n",
       "    </tr>\n",
       "    <tr>\n",
       "      <td>4</td>\n",
       "      <td>Allen, Mr. William Henry</td>\n",
       "      <td>male</td>\n",
       "      <td>373450</td>\n",
       "      <td>NaN</td>\n",
       "      <td>S</td>\n",
       "    </tr>\n",
       "    <tr>\n",
       "      <td>...</td>\n",
       "      <td>...</td>\n",
       "      <td>...</td>\n",
       "      <td>...</td>\n",
       "      <td>...</td>\n",
       "      <td>...</td>\n",
       "    </tr>\n",
       "    <tr>\n",
       "      <td>886</td>\n",
       "      <td>Montvila, Rev. Juozas</td>\n",
       "      <td>male</td>\n",
       "      <td>211536</td>\n",
       "      <td>NaN</td>\n",
       "      <td>S</td>\n",
       "    </tr>\n",
       "    <tr>\n",
       "      <td>887</td>\n",
       "      <td>Graham, Miss. Margaret Edith</td>\n",
       "      <td>female</td>\n",
       "      <td>112053</td>\n",
       "      <td>B42</td>\n",
       "      <td>S</td>\n",
       "    </tr>\n",
       "    <tr>\n",
       "      <td>888</td>\n",
       "      <td>Johnston, Miss. Catherine Helen \"Carrie\"</td>\n",
       "      <td>female</td>\n",
       "      <td>W./C. 6607</td>\n",
       "      <td>NaN</td>\n",
       "      <td>S</td>\n",
       "    </tr>\n",
       "    <tr>\n",
       "      <td>889</td>\n",
       "      <td>Behr, Mr. Karl Howell</td>\n",
       "      <td>male</td>\n",
       "      <td>111369</td>\n",
       "      <td>C148</td>\n",
       "      <td>C</td>\n",
       "    </tr>\n",
       "    <tr>\n",
       "      <td>890</td>\n",
       "      <td>Dooley, Mr. Patrick</td>\n",
       "      <td>male</td>\n",
       "      <td>370376</td>\n",
       "      <td>NaN</td>\n",
       "      <td>Q</td>\n",
       "    </tr>\n",
       "  </tbody>\n",
       "</table>\n",
       "<p>891 rows × 5 columns</p>\n",
       "</div>"
      ],
      "text/plain": [
       "                                                  Name     Sex  \\\n",
       "0                              Braund, Mr. Owen Harris    male   \n",
       "1    Cumings, Mrs. John Bradley (Florence Briggs Th...  female   \n",
       "2                               Heikkinen, Miss. Laina  female   \n",
       "3         Futrelle, Mrs. Jacques Heath (Lily May Peel)  female   \n",
       "4                             Allen, Mr. William Henry    male   \n",
       "..                                                 ...     ...   \n",
       "886                              Montvila, Rev. Juozas    male   \n",
       "887                       Graham, Miss. Margaret Edith  female   \n",
       "888           Johnston, Miss. Catherine Helen \"Carrie\"  female   \n",
       "889                              Behr, Mr. Karl Howell    male   \n",
       "890                                Dooley, Mr. Patrick    male   \n",
       "\n",
       "               Ticket Cabin Embarked  \n",
       "0           A/5 21171   NaN        S  \n",
       "1            PC 17599   C85        C  \n",
       "2    STON/O2. 3101282   NaN        S  \n",
       "3              113803  C123        S  \n",
       "4              373450   NaN        S  \n",
       "..                ...   ...      ...  \n",
       "886            211536   NaN        S  \n",
       "887            112053   B42        S  \n",
       "888        W./C. 6607   NaN        S  \n",
       "889            111369  C148        C  \n",
       "890            370376   NaN        Q  \n",
       "\n",
       "[891 rows x 5 columns]"
      ]
     },
     "execution_count": 19,
     "metadata": {},
     "output_type": "execute_result"
    }
   ],
   "source": [
    "df_train.select_dtypes(include = 'object')"
   ]
  },
  {
   "cell_type": "code",
   "execution_count": 20,
   "metadata": {},
   "outputs": [
    {
     "data": {
      "text/plain": [
       "object     5\n",
       "int64      5\n",
       "float64    2\n",
       "dtype: int64"
      ]
     },
     "execution_count": 20,
     "metadata": {},
     "output_type": "execute_result"
    }
   ],
   "source": [
    "df_train.dtypes.value_counts()"
   ]
  },
  {
   "cell_type": "code",
   "execution_count": 21,
   "metadata": {},
   "outputs": [
    {
     "data": {
      "text/plain": [
       "0    608\n",
       "1    209\n",
       "2     28\n",
       "4     18\n",
       "3     16\n",
       "8      7\n",
       "5      5\n",
       "Name: SibSp, dtype: int64"
      ]
     },
     "execution_count": 21,
     "metadata": {},
     "output_type": "execute_result"
    }
   ],
   "source": [
    "df_train.SibSp.value_counts()"
   ]
  },
  {
   "cell_type": "code",
   "execution_count": 22,
   "metadata": {},
   "outputs": [
    {
     "data": {
      "text/plain": [
       "0    678\n",
       "1    118\n",
       "2     80\n",
       "5      5\n",
       "3      5\n",
       "4      4\n",
       "6      1\n",
       "Name: Parch, dtype: int64"
      ]
     },
     "execution_count": 22,
     "metadata": {},
     "output_type": "execute_result"
    }
   ],
   "source": [
    "df_train.Parch.value_counts()"
   ]
  },
  {
   "cell_type": "code",
   "execution_count": 23,
   "metadata": {},
   "outputs": [
    {
     "data": {
      "text/html": [
       "<div>\n",
       "<style scoped>\n",
       "    .dataframe tbody tr th:only-of-type {\n",
       "        vertical-align: middle;\n",
       "    }\n",
       "\n",
       "    .dataframe tbody tr th {\n",
       "        vertical-align: top;\n",
       "    }\n",
       "\n",
       "    .dataframe thead th {\n",
       "        text-align: right;\n",
       "    }\n",
       "</style>\n",
       "<table border=\"1\" class=\"dataframe\">\n",
       "  <thead>\n",
       "    <tr style=\"text-align: right;\">\n",
       "      <th>Sex</th>\n",
       "      <th>female</th>\n",
       "      <th>male</th>\n",
       "    </tr>\n",
       "    <tr>\n",
       "      <th>Survived</th>\n",
       "      <th></th>\n",
       "      <th></th>\n",
       "    </tr>\n",
       "  </thead>\n",
       "  <tbody>\n",
       "    <tr>\n",
       "      <td>0</td>\n",
       "      <td>81</td>\n",
       "      <td>468</td>\n",
       "    </tr>\n",
       "    <tr>\n",
       "      <td>1</td>\n",
       "      <td>233</td>\n",
       "      <td>109</td>\n",
       "    </tr>\n",
       "  </tbody>\n",
       "</table>\n",
       "</div>"
      ],
      "text/plain": [
       "Sex       female  male\n",
       "Survived              \n",
       "0             81   468\n",
       "1            233   109"
      ]
     },
     "execution_count": 23,
     "metadata": {},
     "output_type": "execute_result"
    }
   ],
   "source": [
    "pd.crosstab(df_train.Survived,df_train.Sex)"
   ]
  },
  {
   "cell_type": "code",
   "execution_count": 24,
   "metadata": {},
   "outputs": [
    {
     "data": {
      "text/plain": [
       "<seaborn.axisgrid.FacetGrid at 0x224a3863e48>"
      ]
     },
     "execution_count": 24,
     "metadata": {},
     "output_type": "execute_result"
    },
    {
     "data": {
      "image/png": "[encoded data removed]",
      "text/plain": [
       "<Figure size 720x360 with 2 Axes>"
      ]
     },
     "metadata": {
      "needs_background": "light"
     },
     "output_type": "display_data"
    }
   ],
   "source": [
    "sns.catplot(x = 'Sex', col= 'Survived',data = df_train, kind = 'count')"
   ]
  },
  {
   "cell_type": "code",
   "execution_count": 25,
   "metadata": {},
   "outputs": [
    {
     "name": "stdout",
     "output_type": "stream",
     "text": [
      "% of female survived: 0.7420382165605095\n",
      "% of male survived: 0.18890814558058924\n"
     ]
    }
   ],
   "source": [
    "print('% of female survived:', (df_train[df_train.Sex == 'female']['Survived'].sum())/(df_train[df_train.Sex == 'female']['Survived'].count()))\n",
    "print('% of male survived:', (df_train[df_train.Sex == 'male']['Survived'].sum())/(df_train[df_train.Sex == 'male']['Survived'].count()))"
   ]
  },
  {
   "cell_type": "code",
   "execution_count": 26,
   "metadata": {},
   "outputs": [
    {
     "data": {
      "text/plain": [
       "Text(0.5, 1.0, 'male survived')"
      ]
     },
     "execution_count": 26,
     "metadata": {},
     "output_type": "execute_result"
    },
    {
     "data": {
      "image/png": "[encoded data removed]",
      "text/plain": [
       "<Figure size 720x504 with 2 Axes>"
      ]
     },
     "metadata": {},
     "output_type": "display_data"
    }
   ],
   "source": [
    "f, ax = plt.subplots(1,2, figsize = (10,7))\n",
    "df_train[df_train.Sex == 'female']['Survived'].value_counts().plot.pie(explode = [0,0.2], autopct = '%1.1f%%',ax = ax[0],shadow = True)\n",
    "df_train[df_train.Sex == 'male']['Survived'].value_counts().plot.pie(explode = [0,0.2], autopct = '%1.1f%%',ax = ax[1],shadow = True)\n",
    "ax[0].set_title('female survived')\n",
    "ax[1].set_title('male survived')"
   ]
  },
  {
   "cell_type": "code",
   "execution_count": 27,
   "metadata": {},
   "outputs": [
    {
     "data": {
      "text/html": [
       "<style  type=\"text/css\" >\n",
       "    #T_66e99650_b9de_11ea_a14d_5cea1d414080row0_col0 {\n",
       "            background-color:  #ffff00;\n",
       "            color:  #000000;\n",
       "        }    #T_66e99650_b9de_11ea_a14d_5cea1d414080row0_col1 {\n",
       "            background-color:  #ffce00;\n",
       "            color:  #000000;\n",
       "        }    #T_66e99650_b9de_11ea_a14d_5cea1d414080row0_col2 {\n",
       "            background-color:  #fff400;\n",
       "            color:  #000000;\n",
       "        }    #T_66e99650_b9de_11ea_a14d_5cea1d414080row1_col0 {\n",
       "            background-color:  #fff600;\n",
       "            color:  #000000;\n",
       "        }    #T_66e99650_b9de_11ea_a14d_5cea1d414080row1_col1 {\n",
       "            background-color:  #ffff00;\n",
       "            color:  #000000;\n",
       "        }    #T_66e99650_b9de_11ea_a14d_5cea1d414080row1_col2 {\n",
       "            background-color:  #ffff00;\n",
       "            color:  #000000;\n",
       "        }    #T_66e99650_b9de_11ea_a14d_5cea1d414080row2_col0 {\n",
       "            background-color:  #ff6000;\n",
       "            color:  #000000;\n",
       "        }    #T_66e99650_b9de_11ea_a14d_5cea1d414080row2_col1 {\n",
       "            background-color:  #ffdf00;\n",
       "            color:  #000000;\n",
       "        }    #T_66e99650_b9de_11ea_a14d_5cea1d414080row2_col2 {\n",
       "            background-color:  #ff9000;\n",
       "            color:  #000000;\n",
       "        }    #T_66e99650_b9de_11ea_a14d_5cea1d414080row3_col0 {\n",
       "            background-color:  #ff0000;\n",
       "            color:  #f1f1f1;\n",
       "        }    #T_66e99650_b9de_11ea_a14d_5cea1d414080row3_col1 {\n",
       "            background-color:  #ff0000;\n",
       "            color:  #f1f1f1;\n",
       "        }    #T_66e99650_b9de_11ea_a14d_5cea1d414080row3_col2 {\n",
       "            background-color:  #ff0000;\n",
       "            color:  #f1f1f1;\n",
       "        }</style><table id=\"T_66e99650_b9de_11ea_a14d_5cea1d414080\" ><thead>    <tr>        <th class=\"index_name level0\" >Survived</th>        <th class=\"col_heading level0 col0\" >0</th>        <th class=\"col_heading level0 col1\" >1</th>        <th class=\"col_heading level0 col2\" >All</th>    </tr>    <tr>        <th class=\"index_name level0\" >Pclass</th>        <th class=\"blank\" ></th>        <th class=\"blank\" ></th>        <th class=\"blank\" ></th>    </tr></thead><tbody>\n",
       "                <tr>\n",
       "                        <th id=\"T_66e99650_b9de_11ea_a14d_5cea1d414080level0_row0\" class=\"row_heading level0 row0\" >1</th>\n",
       "                        <td id=\"T_66e99650_b9de_11ea_a14d_5cea1d414080row0_col0\" class=\"data row0 col0\" >80</td>\n",
       "                        <td id=\"T_66e99650_b9de_11ea_a14d_5cea1d414080row0_col1\" class=\"data row0 col1\" >136</td>\n",
       "                        <td id=\"T_66e99650_b9de_11ea_a14d_5cea1d414080row0_col2\" class=\"data row0 col2\" >216</td>\n",
       "            </tr>\n",
       "            <tr>\n",
       "                        <th id=\"T_66e99650_b9de_11ea_a14d_5cea1d414080level0_row1\" class=\"row_heading level0 row1\" >2</th>\n",
       "                        <td id=\"T_66e99650_b9de_11ea_a14d_5cea1d414080row1_col0\" class=\"data row1 col0\" >97</td>\n",
       "                        <td id=\"T_66e99650_b9de_11ea_a14d_5cea1d414080row1_col1\" class=\"data row1 col1\" >87</td>\n",
       "                        <td id=\"T_66e99650_b9de_11ea_a14d_5cea1d414080row1_col2\" class=\"data row1 col2\" >184</td>\n",
       "            </tr>\n",
       "            <tr>\n",
       "                        <th id=\"T_66e99650_b9de_11ea_a14d_5cea1d414080level0_row2\" class=\"row_heading level0 row2\" >3</th>\n",
       "                        <td id=\"T_66e99650_b9de_11ea_a14d_5cea1d414080row2_col0\" class=\"data row2 col0\" >372</td>\n",
       "                        <td id=\"T_66e99650_b9de_11ea_a14d_5cea1d414080row2_col1\" class=\"data row2 col1\" >119</td>\n",
       "                        <td id=\"T_66e99650_b9de_11ea_a14d_5cea1d414080row2_col2\" class=\"data row2 col2\" >491</td>\n",
       "            </tr>\n",
       "            <tr>\n",
       "                        <th id=\"T_66e99650_b9de_11ea_a14d_5cea1d414080level0_row3\" class=\"row_heading level0 row3\" >All</th>\n",
       "                        <td id=\"T_66e99650_b9de_11ea_a14d_5cea1d414080row3_col0\" class=\"data row3 col0\" >549</td>\n",
       "                        <td id=\"T_66e99650_b9de_11ea_a14d_5cea1d414080row3_col1\" class=\"data row3 col1\" >342</td>\n",
       "                        <td id=\"T_66e99650_b9de_11ea_a14d_5cea1d414080row3_col2\" class=\"data row3 col2\" >891</td>\n",
       "            </tr>\n",
       "    </tbody></table>"
      ],
      "text/plain": [
       "<pandas.io.formats.style.Styler at 0x224a5c1c548>"
      ]
     },
     "execution_count": 27,
     "metadata": {},
     "output_type": "execute_result"
    }
   ],
   "source": [
    "pd.crosstab(df_train.Pclass, df_train.Survived, margins=True).style.background_gradient(cmap='autumn_r')"
   ]
  },
  {
   "cell_type": "code",
   "execution_count": 28,
   "metadata": {},
   "outputs": [
    {
     "name": "stdout",
     "output_type": "stream",
     "text": [
      "% survived in pclass 1: 0.6296296296296297\n",
      "% survived in pclass 2: 0.47282608695652173\n",
      "% survived in pclass 3: 0.24236252545824846\n"
     ]
    }
   ],
   "source": [
    "print('% survived in pclass 1:', df_train[df_train.Pclass == 1]['Survived'].sum()/df_train[df_train.Pclass == 1]['Survived'].count())\n",
    "print('% survived in pclass 2:', df_train[df_train.Pclass == 2]['Survived'].sum()/df_train[df_train.Pclass == 2]['Survived'].count())\n",
    "print('% survived in pclass 3:', df_train[df_train.Pclass == 3]['Survived'].sum()/df_train[df_train.Pclass == 3]['Survived'].count())"
   ]
  },
  {
   "cell_type": "code",
   "execution_count": 29,
   "metadata": {},
   "outputs": [
    {
     "data": {
      "text/plain": [
       "Text(0.5, 1.0, 'survivrd in 3 class')"
      ]
     },
     "execution_count": 29,
     "metadata": {},
     "output_type": "execute_result"
    },
    {
     "data": {
      "image/png": "[encoded data removed]",
      "text/plain": [
       "<Figure size 720x504 with 3 Axes>"
      ]
     },
     "metadata": {},
     "output_type": "display_data"
    }
   ],
   "source": [
    "fig, ax = plt.subplots(1,3,figsize = (10,7))\n",
    "df_train[df_train.Pclass == 1]['Survived'].value_counts().plot.pie(explode = [0,0.2],autopct = '%1.1f%%',ax = ax[0],shadow = True)\n",
    "df_train[df_train.Pclass == 2]['Survived'].value_counts().plot.pie(explode = [0,0.2],autopct = '%1.1f%%',ax = ax[1],shadow = True)\n",
    "df_train[df_train.Pclass == 3]['Survived'].value_counts().plot.pie(explode = [0,0.2],autopct = '%1.1f%%',ax = ax[2],shadow = True)\n",
    "ax[0].set_title('survivrd in 1 class')\n",
    "ax[1].set_title('survivrd in 2 class')\n",
    "ax[2].set_title('survivrd in 3 class')"
   ]
  },
  {
   "cell_type": "code",
   "execution_count": 30,
   "metadata": {},
   "outputs": [
    {
     "data": {
      "text/plain": [
       "<seaborn.axisgrid.FacetGrid at 0x224a600ff08>"
      ]
     },
     "execution_count": 30,
     "metadata": {},
     "output_type": "execute_result"
    },
    {
     "data": {
      "image/png": "[encoded data removed]",
      "text/plain": [
       "<Figure size 426.125x360 with 1 Axes>"
      ]
     },
     "metadata": {
      "needs_background": "light"
     },
     "output_type": "display_data"
    }
   ],
   "source": [
    "sns.catplot('Pclass', 'Survived',data = df_train, kind = 'point',hue = 'Sex')"
   ]
  },
  {
   "cell_type": "code",
   "execution_count": 31,
   "metadata": {},
   "outputs": [
    {
     "data": {
      "text/plain": [
       "<seaborn.axisgrid.FacetGrid at 0x224a5bf4348>"
      ]
     },
     "execution_count": 31,
     "metadata": {},
     "output_type": "execute_result"
    },
    {
     "data": {
      "image/png": "[encoded data removed]",
      "text/plain": [
       "<Figure size 360x360 with 1 Axes>"
      ]
     },
     "metadata": {
      "needs_background": "light"
     },
     "output_type": "display_data"
    }
   ],
   "source": [
    "sns.catplot('Embarked','Survived',data = df_train, kind = 'point')"
   ]
  },
  {
   "cell_type": "code",
   "execution_count": 32,
   "metadata": {},
   "outputs": [
    {
     "data": {
      "text/plain": [
       "<seaborn.axisgrid.FacetGrid at 0x224a626d648>"
      ]
     },
     "execution_count": 32,
     "metadata": {},
     "output_type": "execute_result"
    },
    {
     "data": {
      "image/png": "[encoded data removed]",
      "text/plain": [
       "<Figure size 426.125x360 with 1 Axes>"
      ]
     },
     "metadata": {
      "needs_background": "light"
     },
     "output_type": "display_data"
    }
   ],
   "source": [
    "sns.catplot('Embarked','Survived',data = df_train, kind = 'point',hue = 'Sex')"
   ]
  },
  {
   "cell_type": "code",
   "execution_count": 33,
   "metadata": {},
   "outputs": [
    {
     "data": {
      "text/plain": [
       "<seaborn.axisgrid.FacetGrid at 0x224a6233288>"
      ]
     },
     "execution_count": 33,
     "metadata": {},
     "output_type": "execute_result"
    },
    {
     "data": {
      "image/png": "[encoded data removed]",
      "text/plain": [
       "<Figure size 1146.12x360 with 3 Axes>"
      ]
     },
     "metadata": {
      "needs_background": "light"
     },
     "output_type": "display_data"
    }
   ],
   "source": [
    "sns.catplot('Pclass', 'Survived',data = df_train, kind = 'point',col = 'Embarked',hue = 'Sex')"
   ]
  },
  {
   "cell_type": "code",
   "execution_count": 34,
   "metadata": {},
   "outputs": [
    {
     "data": {
      "text/html": [
       "<div>\n",
       "<style scoped>\n",
       "    .dataframe tbody tr th:only-of-type {\n",
       "        vertical-align: middle;\n",
       "    }\n",
       "\n",
       "    .dataframe tbody tr th {\n",
       "        vertical-align: top;\n",
       "    }\n",
       "\n",
       "    .dataframe thead tr th {\n",
       "        text-align: left;\n",
       "    }\n",
       "\n",
       "    .dataframe thead tr:last-of-type th {\n",
       "        text-align: right;\n",
       "    }\n",
       "</style>\n",
       "<table border=\"1\" class=\"dataframe\">\n",
       "  <thead>\n",
       "    <tr>\n",
       "      <th>Sex</th>\n",
       "      <th colspan=\"9\" halign=\"left\">female</th>\n",
       "      <th colspan=\"9\" halign=\"left\">male</th>\n",
       "      <th>All</th>\n",
       "    </tr>\n",
       "    <tr>\n",
       "      <th>Pclass</th>\n",
       "      <th colspan=\"3\" halign=\"left\">1</th>\n",
       "      <th colspan=\"3\" halign=\"left\">2</th>\n",
       "      <th colspan=\"3\" halign=\"left\">3</th>\n",
       "      <th colspan=\"3\" halign=\"left\">1</th>\n",
       "      <th colspan=\"3\" halign=\"left\">2</th>\n",
       "      <th colspan=\"3\" halign=\"left\">3</th>\n",
       "      <th></th>\n",
       "    </tr>\n",
       "    <tr>\n",
       "      <th>Embarked</th>\n",
       "      <th>C</th>\n",
       "      <th>Q</th>\n",
       "      <th>S</th>\n",
       "      <th>C</th>\n",
       "      <th>Q</th>\n",
       "      <th>S</th>\n",
       "      <th>C</th>\n",
       "      <th>Q</th>\n",
       "      <th>S</th>\n",
       "      <th>C</th>\n",
       "      <th>Q</th>\n",
       "      <th>S</th>\n",
       "      <th>C</th>\n",
       "      <th>Q</th>\n",
       "      <th>S</th>\n",
       "      <th>C</th>\n",
       "      <th>Q</th>\n",
       "      <th>S</th>\n",
       "      <th></th>\n",
       "    </tr>\n",
       "    <tr>\n",
       "      <th>Survived</th>\n",
       "      <th></th>\n",
       "      <th></th>\n",
       "      <th></th>\n",
       "      <th></th>\n",
       "      <th></th>\n",
       "      <th></th>\n",
       "      <th></th>\n",
       "      <th></th>\n",
       "      <th></th>\n",
       "      <th></th>\n",
       "      <th></th>\n",
       "      <th></th>\n",
       "      <th></th>\n",
       "      <th></th>\n",
       "      <th></th>\n",
       "      <th></th>\n",
       "      <th></th>\n",
       "      <th></th>\n",
       "      <th></th>\n",
       "    </tr>\n",
       "  </thead>\n",
       "  <tbody>\n",
       "    <tr>\n",
       "      <td>0</td>\n",
       "      <td>1</td>\n",
       "      <td>0</td>\n",
       "      <td>2</td>\n",
       "      <td>0</td>\n",
       "      <td>0</td>\n",
       "      <td>6</td>\n",
       "      <td>8</td>\n",
       "      <td>9</td>\n",
       "      <td>55</td>\n",
       "      <td>25</td>\n",
       "      <td>1</td>\n",
       "      <td>51</td>\n",
       "      <td>8</td>\n",
       "      <td>1</td>\n",
       "      <td>82</td>\n",
       "      <td>33</td>\n",
       "      <td>36</td>\n",
       "      <td>231</td>\n",
       "      <td>549</td>\n",
       "    </tr>\n",
       "    <tr>\n",
       "      <td>1</td>\n",
       "      <td>42</td>\n",
       "      <td>1</td>\n",
       "      <td>46</td>\n",
       "      <td>7</td>\n",
       "      <td>2</td>\n",
       "      <td>61</td>\n",
       "      <td>15</td>\n",
       "      <td>24</td>\n",
       "      <td>33</td>\n",
       "      <td>17</td>\n",
       "      <td>0</td>\n",
       "      <td>28</td>\n",
       "      <td>2</td>\n",
       "      <td>0</td>\n",
       "      <td>15</td>\n",
       "      <td>10</td>\n",
       "      <td>3</td>\n",
       "      <td>34</td>\n",
       "      <td>340</td>\n",
       "    </tr>\n",
       "    <tr>\n",
       "      <td>All</td>\n",
       "      <td>43</td>\n",
       "      <td>1</td>\n",
       "      <td>48</td>\n",
       "      <td>7</td>\n",
       "      <td>2</td>\n",
       "      <td>67</td>\n",
       "      <td>23</td>\n",
       "      <td>33</td>\n",
       "      <td>88</td>\n",
       "      <td>42</td>\n",
       "      <td>1</td>\n",
       "      <td>79</td>\n",
       "      <td>10</td>\n",
       "      <td>1</td>\n",
       "      <td>97</td>\n",
       "      <td>43</td>\n",
       "      <td>39</td>\n",
       "      <td>265</td>\n",
       "      <td>889</td>\n",
       "    </tr>\n",
       "  </tbody>\n",
       "</table>\n",
       "</div>"
      ],
      "text/plain": [
       "Sex      female                              male                            \\\n",
       "Pclass        1         2          3            1          2          3       \n",
       "Embarked      C  Q   S  C  Q   S   C   Q   S    C  Q   S   C  Q   S   C   Q   \n",
       "Survived                                                                      \n",
       "0             1  0   2  0  0   6   8   9  55   25  1  51   8  1  82  33  36   \n",
       "1            42  1  46  7  2  61  15  24  33   17  0  28   2  0  15  10   3   \n",
       "All          43  1  48  7  2  67  23  33  88   42  1  79  10  1  97  43  39   \n",
       "\n",
       "Sex            All  \n",
       "Pclass              \n",
       "Embarked    S       \n",
       "Survived            \n",
       "0         231  549  \n",
       "1          34  340  \n",
       "All       265  889  "
      ]
     },
     "execution_count": 34,
     "metadata": {},
     "output_type": "execute_result"
    }
   ],
   "source": [
    "pd.crosstab([df_train.Survived], [df_train.Sex, df_train.Pclass, df_train.Embarked], margins=True)"
   ]
  },
  {
   "cell_type": "code",
   "execution_count": 35,
   "metadata": {},
   "outputs": [
    {
     "data": {
      "text/html": [
       "<div>\n",
       "<style scoped>\n",
       "    .dataframe tbody tr th:only-of-type {\n",
       "        vertical-align: middle;\n",
       "    }\n",
       "\n",
       "    .dataframe tbody tr th {\n",
       "        vertical-align: top;\n",
       "    }\n",
       "\n",
       "    .dataframe thead th {\n",
       "        text-align: right;\n",
       "    }\n",
       "</style>\n",
       "<table border=\"1\" class=\"dataframe\">\n",
       "  <thead>\n",
       "    <tr style=\"text-align: right;\">\n",
       "      <th></th>\n",
       "      <th>PassengerId</th>\n",
       "      <th>Survived</th>\n",
       "      <th>Pclass</th>\n",
       "      <th>Name</th>\n",
       "      <th>Sex</th>\n",
       "      <th>Age</th>\n",
       "      <th>SibSp</th>\n",
       "      <th>Parch</th>\n",
       "      <th>Ticket</th>\n",
       "      <th>Fare</th>\n",
       "      <th>Cabin</th>\n",
       "      <th>Embarked</th>\n",
       "      <th>age_bins</th>\n",
       "    </tr>\n",
       "  </thead>\n",
       "  <tbody>\n",
       "    <tr>\n",
       "      <td>0</td>\n",
       "      <td>1</td>\n",
       "      <td>0</td>\n",
       "      <td>3</td>\n",
       "      <td>Braund, Mr. Owen Harris</td>\n",
       "      <td>male</td>\n",
       "      <td>22.000</td>\n",
       "      <td>1</td>\n",
       "      <td>0</td>\n",
       "      <td>A/5 21171</td>\n",
       "      <td>7.250</td>\n",
       "      <td>NaN</td>\n",
       "      <td>S</td>\n",
       "      <td>3</td>\n",
       "    </tr>\n",
       "    <tr>\n",
       "      <td>1</td>\n",
       "      <td>2</td>\n",
       "      <td>1</td>\n",
       "      <td>1</td>\n",
       "      <td>Cumings, Mrs. John Bradley (Florence Briggs Th...</td>\n",
       "      <td>female</td>\n",
       "      <td>38.000</td>\n",
       "      <td>1</td>\n",
       "      <td>0</td>\n",
       "      <td>PC 17599</td>\n",
       "      <td>71.283</td>\n",
       "      <td>C85</td>\n",
       "      <td>C</td>\n",
       "      <td>6</td>\n",
       "    </tr>\n",
       "    <tr>\n",
       "      <td>2</td>\n",
       "      <td>3</td>\n",
       "      <td>1</td>\n",
       "      <td>3</td>\n",
       "      <td>Heikkinen, Miss. Laina</td>\n",
       "      <td>female</td>\n",
       "      <td>26.000</td>\n",
       "      <td>0</td>\n",
       "      <td>0</td>\n",
       "      <td>STON/O2. 3101282</td>\n",
       "      <td>7.925</td>\n",
       "      <td>NaN</td>\n",
       "      <td>S</td>\n",
       "      <td>4</td>\n",
       "    </tr>\n",
       "    <tr>\n",
       "      <td>3</td>\n",
       "      <td>4</td>\n",
       "      <td>1</td>\n",
       "      <td>1</td>\n",
       "      <td>Futrelle, Mrs. Jacques Heath (Lily May Peel)</td>\n",
       "      <td>female</td>\n",
       "      <td>35.000</td>\n",
       "      <td>1</td>\n",
       "      <td>0</td>\n",
       "      <td>113803</td>\n",
       "      <td>53.100</td>\n",
       "      <td>C123</td>\n",
       "      <td>S</td>\n",
       "      <td>6</td>\n",
       "    </tr>\n",
       "    <tr>\n",
       "      <td>4</td>\n",
       "      <td>5</td>\n",
       "      <td>0</td>\n",
       "      <td>3</td>\n",
       "      <td>Allen, Mr. William Henry</td>\n",
       "      <td>male</td>\n",
       "      <td>35.000</td>\n",
       "      <td>0</td>\n",
       "      <td>0</td>\n",
       "      <td>373450</td>\n",
       "      <td>8.050</td>\n",
       "      <td>NaN</td>\n",
       "      <td>S</td>\n",
       "      <td>6</td>\n",
       "    </tr>\n",
       "  </tbody>\n",
       "</table>\n",
       "</div>"
      ],
      "text/plain": [
       "   PassengerId  Survived  Pclass  \\\n",
       "0            1         0       3   \n",
       "1            2         1       1   \n",
       "2            3         1       3   \n",
       "3            4         1       1   \n",
       "4            5         0       3   \n",
       "\n",
       "                                                Name     Sex    Age  SibSp  \\\n",
       "0                            Braund, Mr. Owen Harris    male 22.000      1   \n",
       "1  Cumings, Mrs. John Bradley (Florence Briggs Th...  female 38.000      1   \n",
       "2                             Heikkinen, Miss. Laina  female 26.000      0   \n",
       "3       Futrelle, Mrs. Jacques Heath (Lily May Peel)  female 35.000      1   \n",
       "4                           Allen, Mr. William Henry    male 35.000      0   \n",
       "\n",
       "   Parch            Ticket   Fare Cabin Embarked age_bins  \n",
       "0      0         A/5 21171  7.250   NaN        S        3  \n",
       "1      0          PC 17599 71.283   C85        C        6  \n",
       "2      0  STON/O2. 3101282  7.925   NaN        S        4  \n",
       "3      0            113803 53.100  C123        S        6  \n",
       "4      0            373450  8.050   NaN        S        6  "
      ]
     },
     "execution_count": 35,
     "metadata": {},
     "output_type": "execute_result"
    }
   ],
   "source": [
    "df_train['age_bins'] = pd.qcut(df_train.Age,8,labels=[1,2,3,4,5,6,7,8])\n",
    "df_train.head()"
   ]
  },
  {
   "cell_type": "code",
   "execution_count": 36,
   "metadata": {},
   "outputs": [
    {
     "data": {
      "text/plain": [
       "<seaborn.axisgrid.FacetGrid at 0x224a66274c8>"
      ]
     },
     "execution_count": 36,
     "metadata": {},
     "output_type": "execute_result"
    },
    {
     "data": {
      "image/png": "[encoded data removed]",
      "text/plain": [
       "<Figure size 1080x720 with 6 Axes>"
      ]
     },
     "metadata": {
      "needs_background": "light"
     },
     "output_type": "display_data"
    }
   ],
   "source": [
    "sns.catplot('age_bins','Survived',data = df_train, kind = 'point',row = 'Sex',col = 'Pclass')"
   ]
  },
  {
   "cell_type": "code",
   "execution_count": 37,
   "metadata": {},
   "outputs": [
    {
     "data": {
      "text/plain": [
       "<seaborn.axisgrid.FacetGrid at 0x224a663a108>"
      ]
     },
     "execution_count": 37,
     "metadata": {},
     "output_type": "execute_result"
    },
    {
     "data": {
      "image/png": "[encoded data removed]",
      "text/plain": [
       "<Figure size 1080x720 with 6 Axes>"
      ]
     },
     "metadata": {
      "needs_background": "light"
     },
     "output_type": "display_data"
    }
   ],
   "source": [
    "sns.catplot('SibSp','Survived',data = df_train, kind = 'point',row = 'Sex',col = 'Pclass')"
   ]
  },
  {
   "cell_type": "code",
   "execution_count": 38,
   "metadata": {},
   "outputs": [
    {
     "data": {
      "text/plain": [
       "<seaborn.axisgrid.FacetGrid at 0x224a85aa648>"
      ]
     },
     "execution_count": 38,
     "metadata": {},
     "output_type": "execute_result"
    },
    {
     "data": {
      "image/png": "[encoded data removed]",
      "text/plain": [
       "<Figure size 1080x720 with 6 Axes>"
      ]
     },
     "metadata": {
      "needs_background": "light"
     },
     "output_type": "display_data"
    }
   ],
   "source": [
    "sns.catplot('Parch','Survived',data = df_train, kind = 'point',row = 'Sex',col = 'Pclass')"
   ]
  },
  {
   "cell_type": "code",
   "execution_count": 39,
   "metadata": {},
   "outputs": [
    {
     "data": {
      "text/html": [
       "<div>\n",
       "<style scoped>\n",
       "    .dataframe tbody tr th:only-of-type {\n",
       "        vertical-align: middle;\n",
       "    }\n",
       "\n",
       "    .dataframe tbody tr th {\n",
       "        vertical-align: top;\n",
       "    }\n",
       "\n",
       "    .dataframe thead th {\n",
       "        text-align: right;\n",
       "    }\n",
       "</style>\n",
       "<table border=\"1\" class=\"dataframe\">\n",
       "  <thead>\n",
       "    <tr style=\"text-align: right;\">\n",
       "      <th></th>\n",
       "      <th>Age</th>\n",
       "      <th>Cabin</th>\n",
       "      <th>Embarked</th>\n",
       "      <th>Fare</th>\n",
       "      <th>Name</th>\n",
       "      <th>Parch</th>\n",
       "      <th>PassengerId</th>\n",
       "      <th>Pclass</th>\n",
       "      <th>Sex</th>\n",
       "      <th>SibSp</th>\n",
       "      <th>Ticket</th>\n",
       "    </tr>\n",
       "  </thead>\n",
       "  <tbody>\n",
       "    <tr>\n",
       "      <td>0</td>\n",
       "      <td>22.000</td>\n",
       "      <td>NaN</td>\n",
       "      <td>S</td>\n",
       "      <td>7.250</td>\n",
       "      <td>Braund, Mr. Owen Harris</td>\n",
       "      <td>0</td>\n",
       "      <td>1</td>\n",
       "      <td>3</td>\n",
       "      <td>male</td>\n",
       "      <td>1</td>\n",
       "      <td>A/5 21171</td>\n",
       "    </tr>\n",
       "    <tr>\n",
       "      <td>1</td>\n",
       "      <td>38.000</td>\n",
       "      <td>C85</td>\n",
       "      <td>C</td>\n",
       "      <td>71.283</td>\n",
       "      <td>Cumings, Mrs. John Bradley (Florence Briggs Th...</td>\n",
       "      <td>0</td>\n",
       "      <td>2</td>\n",
       "      <td>1</td>\n",
       "      <td>female</td>\n",
       "      <td>1</td>\n",
       "      <td>PC 17599</td>\n",
       "    </tr>\n",
       "    <tr>\n",
       "      <td>2</td>\n",
       "      <td>26.000</td>\n",
       "      <td>NaN</td>\n",
       "      <td>S</td>\n",
       "      <td>7.925</td>\n",
       "      <td>Heikkinen, Miss. Laina</td>\n",
       "      <td>0</td>\n",
       "      <td>3</td>\n",
       "      <td>3</td>\n",
       "      <td>female</td>\n",
       "      <td>0</td>\n",
       "      <td>STON/O2. 3101282</td>\n",
       "    </tr>\n",
       "    <tr>\n",
       "      <td>3</td>\n",
       "      <td>35.000</td>\n",
       "      <td>C123</td>\n",
       "      <td>S</td>\n",
       "      <td>53.100</td>\n",
       "      <td>Futrelle, Mrs. Jacques Heath (Lily May Peel)</td>\n",
       "      <td>0</td>\n",
       "      <td>4</td>\n",
       "      <td>1</td>\n",
       "      <td>female</td>\n",
       "      <td>1</td>\n",
       "      <td>113803</td>\n",
       "    </tr>\n",
       "    <tr>\n",
       "      <td>4</td>\n",
       "      <td>35.000</td>\n",
       "      <td>NaN</td>\n",
       "      <td>S</td>\n",
       "      <td>8.050</td>\n",
       "      <td>Allen, Mr. William Henry</td>\n",
       "      <td>0</td>\n",
       "      <td>5</td>\n",
       "      <td>3</td>\n",
       "      <td>male</td>\n",
       "      <td>0</td>\n",
       "      <td>373450</td>\n",
       "    </tr>\n",
       "  </tbody>\n",
       "</table>\n",
       "</div>"
      ],
      "text/plain": [
       "     Age Cabin Embarked   Fare  \\\n",
       "0 22.000   NaN        S  7.250   \n",
       "1 38.000   C85        C 71.283   \n",
       "2 26.000   NaN        S  7.925   \n",
       "3 35.000  C123        S 53.100   \n",
       "4 35.000   NaN        S  8.050   \n",
       "\n",
       "                                                Name  Parch  PassengerId  \\\n",
       "0                            Braund, Mr. Owen Harris      0            1   \n",
       "1  Cumings, Mrs. John Bradley (Florence Briggs Th...      0            2   \n",
       "2                             Heikkinen, Miss. Laina      0            3   \n",
       "3       Futrelle, Mrs. Jacques Heath (Lily May Peel)      0            4   \n",
       "4                           Allen, Mr. William Henry      0            5   \n",
       "\n",
       "   Pclass     Sex  SibSp            Ticket  \n",
       "0       3    male      1         A/5 21171  \n",
       "1       1  female      1          PC 17599  \n",
       "2       3  female      0  STON/O2. 3101282  \n",
       "3       1  female      1            113803  \n",
       "4       3    male      0            373450  "
      ]
     },
     "execution_count": 39,
     "metadata": {},
     "output_type": "execute_result"
    }
   ],
   "source": [
    "all_data.head()"
   ]
  },
  {
   "cell_type": "code",
   "execution_count": 40,
   "metadata": {},
   "outputs": [],
   "source": [
    "df1 = df_train.copy(deep = True) "
   ]
  },
  {
   "cell_type": "code",
   "execution_count": 41,
   "metadata": {},
   "outputs": [
    {
     "name": "stdout",
     "output_type": "stream",
     "text": [
      "<class 'pandas.core.frame.DataFrame'>\n",
      "RangeIndex: 1309 entries, 0 to 1308\n",
      "Data columns (total 11 columns):\n",
      "Age            1046 non-null float64\n",
      "Cabin          295 non-null object\n",
      "Embarked       1307 non-null object\n",
      "Fare           1308 non-null float64\n",
      "Name           1309 non-null object\n",
      "Parch          1309 non-null int64\n",
      "PassengerId    1309 non-null int64\n",
      "Pclass         1309 non-null int64\n",
      "Sex            1309 non-null object\n",
      "SibSp          1309 non-null int64\n",
      "Ticket         1309 non-null object\n",
      "dtypes: float64(2), int64(4), object(5)\n",
      "memory usage: 112.6+ KB\n"
     ]
    }
   ],
   "source": [
    "all_data.info()"
   ]
  },
  {
   "cell_type": "code",
   "execution_count": 42,
   "metadata": {},
   "outputs": [
    {
     "data": {
      "text/html": [
       "<div>\n",
       "<style scoped>\n",
       "    .dataframe tbody tr th:only-of-type {\n",
       "        vertical-align: middle;\n",
       "    }\n",
       "\n",
       "    .dataframe tbody tr th {\n",
       "        vertical-align: top;\n",
       "    }\n",
       "\n",
       "    .dataframe thead th {\n",
       "        text-align: right;\n",
       "    }\n",
       "</style>\n",
       "<table border=\"1\" class=\"dataframe\">\n",
       "  <thead>\n",
       "    <tr style=\"text-align: right;\">\n",
       "      <th></th>\n",
       "      <th>Age</th>\n",
       "      <th>Cabin</th>\n",
       "      <th>Embarked</th>\n",
       "      <th>Fare</th>\n",
       "      <th>Name</th>\n",
       "      <th>Parch</th>\n",
       "      <th>PassengerId</th>\n",
       "      <th>Pclass</th>\n",
       "      <th>Sex</th>\n",
       "      <th>SibSp</th>\n",
       "      <th>Ticket</th>\n",
       "    </tr>\n",
       "  </thead>\n",
       "  <tbody>\n",
       "    <tr>\n",
       "      <td>61</td>\n",
       "      <td>38.000</td>\n",
       "      <td>B28</td>\n",
       "      <td>NaN</td>\n",
       "      <td>80.000</td>\n",
       "      <td>Icard, Miss. Amelie</td>\n",
       "      <td>0</td>\n",
       "      <td>62</td>\n",
       "      <td>1</td>\n",
       "      <td>female</td>\n",
       "      <td>0</td>\n",
       "      <td>113572</td>\n",
       "    </tr>\n",
       "    <tr>\n",
       "      <td>829</td>\n",
       "      <td>62.000</td>\n",
       "      <td>B28</td>\n",
       "      <td>NaN</td>\n",
       "      <td>80.000</td>\n",
       "      <td>Stone, Mrs. George Nelson (Martha Evelyn)</td>\n",
       "      <td>0</td>\n",
       "      <td>830</td>\n",
       "      <td>1</td>\n",
       "      <td>female</td>\n",
       "      <td>0</td>\n",
       "      <td>113572</td>\n",
       "    </tr>\n",
       "  </tbody>\n",
       "</table>\n",
       "</div>"
      ],
      "text/plain": [
       "       Age Cabin Embarked   Fare                                       Name  \\\n",
       "61  38.000   B28      NaN 80.000                        Icard, Miss. Amelie   \n",
       "829 62.000   B28      NaN 80.000  Stone, Mrs. George Nelson (Martha Evelyn)   \n",
       "\n",
       "     Parch  PassengerId  Pclass     Sex  SibSp  Ticket  \n",
       "61       0           62       1  female      0  113572  \n",
       "829      0          830       1  female      0  113572  "
      ]
     },
     "execution_count": 42,
     "metadata": {},
     "output_type": "execute_result"
    }
   ],
   "source": [
    "all_data[all_data.Embarked.isnull()]"
   ]
  },
  {
   "cell_type": "code",
   "execution_count": 43,
   "metadata": {},
   "outputs": [
    {
     "data": {
      "text/plain": [
       "Pclass  Embarked\n",
       "1       C          76.729\n",
       "        Q          90.000\n",
       "        S          52.000\n",
       "2       C          15.315\n",
       "        Q          12.350\n",
       "        S          15.375\n",
       "3       C           7.896\n",
       "        Q           7.750\n",
       "        S           8.050\n",
       "Name: Fare, dtype: float64"
      ]
     },
     "execution_count": 43,
     "metadata": {},
     "output_type": "execute_result"
    }
   ],
   "source": [
    "all_data.groupby(['Pclass','Embarked']).median()['Fare']"
   ]
  },
  {
   "cell_type": "code",
   "execution_count": 44,
   "metadata": {},
   "outputs": [],
   "source": [
    "all_data.Embarked.fillna('C',inplace = True)"
   ]
  },
  {
   "cell_type": "markdown",
   "metadata": {},
   "source": [
    "### Fare"
   ]
  },
  {
   "cell_type": "code",
   "execution_count": 45,
   "metadata": {},
   "outputs": [
    {
     "data": {
      "text/html": [
       "<div>\n",
       "<style scoped>\n",
       "    .dataframe tbody tr th:only-of-type {\n",
       "        vertical-align: middle;\n",
       "    }\n",
       "\n",
       "    .dataframe tbody tr th {\n",
       "        vertical-align: top;\n",
       "    }\n",
       "\n",
       "    .dataframe thead th {\n",
       "        text-align: right;\n",
       "    }\n",
       "</style>\n",
       "<table border=\"1\" class=\"dataframe\">\n",
       "  <thead>\n",
       "    <tr style=\"text-align: right;\">\n",
       "      <th></th>\n",
       "      <th>Age</th>\n",
       "      <th>Cabin</th>\n",
       "      <th>Embarked</th>\n",
       "      <th>Fare</th>\n",
       "      <th>Name</th>\n",
       "      <th>Parch</th>\n",
       "      <th>PassengerId</th>\n",
       "      <th>Pclass</th>\n",
       "      <th>Sex</th>\n",
       "      <th>SibSp</th>\n",
       "      <th>Ticket</th>\n",
       "    </tr>\n",
       "  </thead>\n",
       "  <tbody>\n",
       "    <tr>\n",
       "      <td>1043</td>\n",
       "      <td>60.500</td>\n",
       "      <td>NaN</td>\n",
       "      <td>S</td>\n",
       "      <td>nan</td>\n",
       "      <td>Storey, Mr. Thomas</td>\n",
       "      <td>0</td>\n",
       "      <td>1044</td>\n",
       "      <td>3</td>\n",
       "      <td>male</td>\n",
       "      <td>0</td>\n",
       "      <td>3701</td>\n",
       "    </tr>\n",
       "  </tbody>\n",
       "</table>\n",
       "</div>"
      ],
      "text/plain": [
       "        Age Cabin Embarked  Fare                Name  Parch  PassengerId  \\\n",
       "1043 60.500   NaN        S   nan  Storey, Mr. Thomas      0         1044   \n",
       "\n",
       "      Pclass   Sex  SibSp Ticket  \n",
       "1043       3  male      0   3701  "
      ]
     },
     "execution_count": 45,
     "metadata": {},
     "output_type": "execute_result"
    }
   ],
   "source": [
    "all_data[all_data.Fare.isnull()]"
   ]
  },
  {
   "cell_type": "code",
   "execution_count": 46,
   "metadata": {},
   "outputs": [
    {
     "data": {
      "text/plain": [
       "8.05"
      ]
     },
     "execution_count": 46,
     "metadata": {},
     "output_type": "execute_result"
    }
   ],
   "source": [
    "all_data[(all_data.Embarked == 'S') & (all_data.Pclass == 3)]['Fare'].median()"
   ]
  },
  {
   "cell_type": "code",
   "execution_count": 47,
   "metadata": {},
   "outputs": [],
   "source": [
    "all_data['Fare'] = all_data['Fare'].fillna(8.05)"
   ]
  },
  {
   "cell_type": "markdown",
   "metadata": {},
   "source": [
    "### Age"
   ]
  },
  {
   "cell_type": "code",
   "execution_count": 48,
   "metadata": {},
   "outputs": [],
   "source": [
    "def GetTitle(name):\n",
    "    title_group = {'mr' : 'Mr', \n",
    "               'mrs' : 'Mrs', \n",
    "               'miss' : 'Miss', \n",
    "               'master' : 'Master',\n",
    "               'don' : 'Sir',\n",
    "               'rev' : 'Sir',\n",
    "               'dr' : 'Officer',\n",
    "               'mme' : 'Mrs',\n",
    "               'ms' : 'Mrs',\n",
    "               'major' : 'Officer',\n",
    "               'lady' : 'Lady',\n",
    "               'sir' : 'Sir',\n",
    "               'mlle' : 'Miss',\n",
    "               'col' : 'Officer',\n",
    "               'capt' : 'Officer',\n",
    "               'the countess' : 'Lady',\n",
    "               'jonkheer' : 'Sir',\n",
    "               'dona' : 'Lady'\n",
    "                 }\n",
    "    first_name_with_title = name.split(',')[1]\n",
    "    title = first_name_with_title.split('.')[0]\n",
    "    title = title.strip().lower()\n",
    "    return title_group[title]"
   ]
  },
  {
   "cell_type": "code",
   "execution_count": 49,
   "metadata": {},
   "outputs": [],
   "source": [
    "all_data['Title'] = all_data['Name'].apply(lambda x: GetTitle(x))"
   ]
  },
  {
   "cell_type": "code",
   "execution_count": 50,
   "metadata": {},
   "outputs": [
    {
     "data": {
      "text/html": [
       "<div>\n",
       "<style scoped>\n",
       "    .dataframe tbody tr th:only-of-type {\n",
       "        vertical-align: middle;\n",
       "    }\n",
       "\n",
       "    .dataframe tbody tr th {\n",
       "        vertical-align: top;\n",
       "    }\n",
       "\n",
       "    .dataframe thead th {\n",
       "        text-align: right;\n",
       "    }\n",
       "</style>\n",
       "<table border=\"1\" class=\"dataframe\">\n",
       "  <thead>\n",
       "    <tr style=\"text-align: right;\">\n",
       "      <th></th>\n",
       "      <th>Age</th>\n",
       "      <th>Cabin</th>\n",
       "      <th>Embarked</th>\n",
       "      <th>Fare</th>\n",
       "      <th>Name</th>\n",
       "      <th>Parch</th>\n",
       "      <th>PassengerId</th>\n",
       "      <th>Pclass</th>\n",
       "      <th>Sex</th>\n",
       "      <th>SibSp</th>\n",
       "      <th>Ticket</th>\n",
       "      <th>Title</th>\n",
       "    </tr>\n",
       "  </thead>\n",
       "  <tbody>\n",
       "    <tr>\n",
       "      <td>0</td>\n",
       "      <td>22.000</td>\n",
       "      <td>NaN</td>\n",
       "      <td>S</td>\n",
       "      <td>7.250</td>\n",
       "      <td>Braund, Mr. Owen Harris</td>\n",
       "      <td>0</td>\n",
       "      <td>1</td>\n",
       "      <td>3</td>\n",
       "      <td>male</td>\n",
       "      <td>1</td>\n",
       "      <td>A/5 21171</td>\n",
       "      <td>Mr</td>\n",
       "    </tr>\n",
       "    <tr>\n",
       "      <td>1</td>\n",
       "      <td>38.000</td>\n",
       "      <td>C85</td>\n",
       "      <td>C</td>\n",
       "      <td>71.283</td>\n",
       "      <td>Cumings, Mrs. John Bradley (Florence Briggs Th...</td>\n",
       "      <td>0</td>\n",
       "      <td>2</td>\n",
       "      <td>1</td>\n",
       "      <td>female</td>\n",
       "      <td>1</td>\n",
       "      <td>PC 17599</td>\n",
       "      <td>Mrs</td>\n",
       "    </tr>\n",
       "    <tr>\n",
       "      <td>2</td>\n",
       "      <td>26.000</td>\n",
       "      <td>NaN</td>\n",
       "      <td>S</td>\n",
       "      <td>7.925</td>\n",
       "      <td>Heikkinen, Miss. Laina</td>\n",
       "      <td>0</td>\n",
       "      <td>3</td>\n",
       "      <td>3</td>\n",
       "      <td>female</td>\n",
       "      <td>0</td>\n",
       "      <td>STON/O2. 3101282</td>\n",
       "      <td>Miss</td>\n",
       "    </tr>\n",
       "    <tr>\n",
       "      <td>3</td>\n",
       "      <td>35.000</td>\n",
       "      <td>C123</td>\n",
       "      <td>S</td>\n",
       "      <td>53.100</td>\n",
       "      <td>Futrelle, Mrs. Jacques Heath (Lily May Peel)</td>\n",
       "      <td>0</td>\n",
       "      <td>4</td>\n",
       "      <td>1</td>\n",
       "      <td>female</td>\n",
       "      <td>1</td>\n",
       "      <td>113803</td>\n",
       "      <td>Mrs</td>\n",
       "    </tr>\n",
       "    <tr>\n",
       "      <td>4</td>\n",
       "      <td>35.000</td>\n",
       "      <td>NaN</td>\n",
       "      <td>S</td>\n",
       "      <td>8.050</td>\n",
       "      <td>Allen, Mr. William Henry</td>\n",
       "      <td>0</td>\n",
       "      <td>5</td>\n",
       "      <td>3</td>\n",
       "      <td>male</td>\n",
       "      <td>0</td>\n",
       "      <td>373450</td>\n",
       "      <td>Mr</td>\n",
       "    </tr>\n",
       "  </tbody>\n",
       "</table>\n",
       "</div>"
      ],
      "text/plain": [
       "     Age Cabin Embarked   Fare  \\\n",
       "0 22.000   NaN        S  7.250   \n",
       "1 38.000   C85        C 71.283   \n",
       "2 26.000   NaN        S  7.925   \n",
       "3 35.000  C123        S 53.100   \n",
       "4 35.000   NaN        S  8.050   \n",
       "\n",
       "                                                Name  Parch  PassengerId  \\\n",
       "0                            Braund, Mr. Owen Harris      0            1   \n",
       "1  Cumings, Mrs. John Bradley (Florence Briggs Th...      0            2   \n",
       "2                             Heikkinen, Miss. Laina      0            3   \n",
       "3       Futrelle, Mrs. Jacques Heath (Lily May Peel)      0            4   \n",
       "4                           Allen, Mr. William Henry      0            5   \n",
       "\n",
       "   Pclass     Sex  SibSp            Ticket Title  \n",
       "0       3    male      1         A/5 21171    Mr  \n",
       "1       1  female      1          PC 17599   Mrs  \n",
       "2       3  female      0  STON/O2. 3101282  Miss  \n",
       "3       1  female      1            113803   Mrs  \n",
       "4       3    male      0            373450    Mr  "
      ]
     },
     "execution_count": 50,
     "metadata": {},
     "output_type": "execute_result"
    }
   ],
   "source": [
    "all_data.head()"
   ]
  },
  {
   "cell_type": "code",
   "execution_count": 51,
   "metadata": {},
   "outputs": [],
   "source": [
    "all_data['Age'] = all_data.groupby('Title')['Age'].transform(lambda x: x.fillna(x.median()))"
   ]
  },
  {
   "cell_type": "code",
   "execution_count": 52,
   "metadata": {},
   "outputs": [
    {
     "data": {
      "text/plain": [
       "Age               0\n",
       "Cabin          1014\n",
       "Embarked          0\n",
       "Fare              0\n",
       "Name              0\n",
       "Parch             0\n",
       "PassengerId       0\n",
       "Pclass            0\n",
       "Sex               0\n",
       "SibSp             0\n",
       "Ticket            0\n",
       "Title             0\n",
       "dtype: int64"
      ]
     },
     "execution_count": 52,
     "metadata": {},
     "output_type": "execute_result"
    }
   ],
   "source": [
    "all_data.isnull().sum()"
   ]
  },
  {
   "cell_type": "code",
   "execution_count": 53,
   "metadata": {},
   "outputs": [
    {
     "data": {
      "text/html": [
       "<div>\n",
       "<style scoped>\n",
       "    .dataframe tbody tr th:only-of-type {\n",
       "        vertical-align: middle;\n",
       "    }\n",
       "\n",
       "    .dataframe tbody tr th {\n",
       "        vertical-align: top;\n",
       "    }\n",
       "\n",
       "    .dataframe thead th {\n",
       "        text-align: right;\n",
       "    }\n",
       "</style>\n",
       "<table border=\"1\" class=\"dataframe\">\n",
       "  <thead>\n",
       "    <tr style=\"text-align: right;\">\n",
       "      <th></th>\n",
       "      <th>Age</th>\n",
       "      <th>Cabin</th>\n",
       "      <th>Embarked</th>\n",
       "      <th>Fare</th>\n",
       "      <th>Name</th>\n",
       "      <th>Parch</th>\n",
       "      <th>PassengerId</th>\n",
       "      <th>Pclass</th>\n",
       "      <th>Sex</th>\n",
       "      <th>SibSp</th>\n",
       "      <th>Ticket</th>\n",
       "      <th>Title</th>\n",
       "    </tr>\n",
       "  </thead>\n",
       "  <tbody>\n",
       "    <tr>\n",
       "      <td>0</td>\n",
       "      <td>22.000</td>\n",
       "      <td>NaN</td>\n",
       "      <td>S</td>\n",
       "      <td>7.250</td>\n",
       "      <td>Braund, Mr. Owen Harris</td>\n",
       "      <td>0</td>\n",
       "      <td>1</td>\n",
       "      <td>3</td>\n",
       "      <td>male</td>\n",
       "      <td>1</td>\n",
       "      <td>A/5 21171</td>\n",
       "      <td>Mr</td>\n",
       "    </tr>\n",
       "    <tr>\n",
       "      <td>1</td>\n",
       "      <td>38.000</td>\n",
       "      <td>C85</td>\n",
       "      <td>C</td>\n",
       "      <td>71.283</td>\n",
       "      <td>Cumings, Mrs. John Bradley (Florence Briggs Th...</td>\n",
       "      <td>0</td>\n",
       "      <td>2</td>\n",
       "      <td>1</td>\n",
       "      <td>female</td>\n",
       "      <td>1</td>\n",
       "      <td>PC 17599</td>\n",
       "      <td>Mrs</td>\n",
       "    </tr>\n",
       "    <tr>\n",
       "      <td>2</td>\n",
       "      <td>26.000</td>\n",
       "      <td>NaN</td>\n",
       "      <td>S</td>\n",
       "      <td>7.925</td>\n",
       "      <td>Heikkinen, Miss. Laina</td>\n",
       "      <td>0</td>\n",
       "      <td>3</td>\n",
       "      <td>3</td>\n",
       "      <td>female</td>\n",
       "      <td>0</td>\n",
       "      <td>STON/O2. 3101282</td>\n",
       "      <td>Miss</td>\n",
       "    </tr>\n",
       "    <tr>\n",
       "      <td>3</td>\n",
       "      <td>35.000</td>\n",
       "      <td>C123</td>\n",
       "      <td>S</td>\n",
       "      <td>53.100</td>\n",
       "      <td>Futrelle, Mrs. Jacques Heath (Lily May Peel)</td>\n",
       "      <td>0</td>\n",
       "      <td>4</td>\n",
       "      <td>1</td>\n",
       "      <td>female</td>\n",
       "      <td>1</td>\n",
       "      <td>113803</td>\n",
       "      <td>Mrs</td>\n",
       "    </tr>\n",
       "    <tr>\n",
       "      <td>4</td>\n",
       "      <td>35.000</td>\n",
       "      <td>NaN</td>\n",
       "      <td>S</td>\n",
       "      <td>8.050</td>\n",
       "      <td>Allen, Mr. William Henry</td>\n",
       "      <td>0</td>\n",
       "      <td>5</td>\n",
       "      <td>3</td>\n",
       "      <td>male</td>\n",
       "      <td>0</td>\n",
       "      <td>373450</td>\n",
       "      <td>Mr</td>\n",
       "    </tr>\n",
       "  </tbody>\n",
       "</table>\n",
       "</div>"
      ],
      "text/plain": [
       "     Age Cabin Embarked   Fare  \\\n",
       "0 22.000   NaN        S  7.250   \n",
       "1 38.000   C85        C 71.283   \n",
       "2 26.000   NaN        S  7.925   \n",
       "3 35.000  C123        S 53.100   \n",
       "4 35.000   NaN        S  8.050   \n",
       "\n",
       "                                                Name  Parch  PassengerId  \\\n",
       "0                            Braund, Mr. Owen Harris      0            1   \n",
       "1  Cumings, Mrs. John Bradley (Florence Briggs Th...      0            2   \n",
       "2                             Heikkinen, Miss. Laina      0            3   \n",
       "3       Futrelle, Mrs. Jacques Heath (Lily May Peel)      0            4   \n",
       "4                           Allen, Mr. William Henry      0            5   \n",
       "\n",
       "   Pclass     Sex  SibSp            Ticket Title  \n",
       "0       3    male      1         A/5 21171    Mr  \n",
       "1       1  female      1          PC 17599   Mrs  \n",
       "2       3  female      0  STON/O2. 3101282  Miss  \n",
       "3       1  female      1            113803   Mrs  \n",
       "4       3    male      0            373450    Mr  "
      ]
     },
     "execution_count": 53,
     "metadata": {},
     "output_type": "execute_result"
    }
   ],
   "source": [
    "all_data.head()"
   ]
  },
  {
   "cell_type": "code",
   "execution_count": 54,
   "metadata": {},
   "outputs": [
    {
     "name": "stdout",
     "output_type": "stream",
     "text": [
      "<class 'pandas.core.frame.DataFrame'>\n",
      "RangeIndex: 1309 entries, 0 to 1308\n",
      "Data columns (total 12 columns):\n",
      "Age            1309 non-null float64\n",
      "Cabin          295 non-null object\n",
      "Embarked       1309 non-null object\n",
      "Fare           1309 non-null float64\n",
      "Name           1309 non-null object\n",
      "Parch          1309 non-null int64\n",
      "PassengerId    1309 non-null int64\n",
      "Pclass         1309 non-null int64\n",
      "Sex            1309 non-null object\n",
      "SibSp          1309 non-null int64\n",
      "Ticket         1309 non-null object\n",
      "Title          1309 non-null object\n",
      "dtypes: float64(2), int64(4), object(6)\n",
      "memory usage: 122.8+ KB\n"
     ]
    }
   ],
   "source": [
    "all_data.info()"
   ]
  },
  {
   "cell_type": "code",
   "execution_count": 55,
   "metadata": {},
   "outputs": [],
   "source": [
    "all_data.drop(['Cabin','Name','PassengerId','Ticket','Title'],axis = 1,inplace = True)"
   ]
  },
  {
   "cell_type": "code",
   "execution_count": 56,
   "metadata": {},
   "outputs": [
    {
     "data": {
      "text/plain": [
       "(1309, 7)"
      ]
     },
     "execution_count": 56,
     "metadata": {},
     "output_type": "execute_result"
    }
   ],
   "source": [
    "all_data.shape"
   ]
  },
  {
   "cell_type": "code",
   "execution_count": 57,
   "metadata": {},
   "outputs": [
    {
     "name": "stdout",
     "output_type": "stream",
     "text": [
      "<class 'pandas.core.frame.DataFrame'>\n",
      "RangeIndex: 1309 entries, 0 to 1308\n",
      "Data columns (total 7 columns):\n",
      "Age         1309 non-null float64\n",
      "Embarked    1309 non-null object\n",
      "Fare        1309 non-null float64\n",
      "Parch       1309 non-null int64\n",
      "Pclass      1309 non-null int64\n",
      "Sex         1309 non-null object\n",
      "SibSp       1309 non-null int64\n",
      "dtypes: float64(2), int64(3), object(2)\n",
      "memory usage: 71.7+ KB\n"
     ]
    }
   ],
   "source": [
    "all_data.info()"
   ]
  },
  {
   "cell_type": "code",
   "execution_count": 58,
   "metadata": {},
   "outputs": [],
   "source": [
    "all_data['Pclass'] = all_data['Pclass'].astype(str)"
   ]
  },
  {
   "cell_type": "code",
   "execution_count": 59,
   "metadata": {},
   "outputs": [
    {
     "data": {
      "text/html": [
       "<div>\n",
       "<style scoped>\n",
       "    .dataframe tbody tr th:only-of-type {\n",
       "        vertical-align: middle;\n",
       "    }\n",
       "\n",
       "    .dataframe tbody tr th {\n",
       "        vertical-align: top;\n",
       "    }\n",
       "\n",
       "    .dataframe thead th {\n",
       "        text-align: right;\n",
       "    }\n",
       "</style>\n",
       "<table border=\"1\" class=\"dataframe\">\n",
       "  <thead>\n",
       "    <tr style=\"text-align: right;\">\n",
       "      <th></th>\n",
       "      <th>skew</th>\n",
       "    </tr>\n",
       "  </thead>\n",
       "  <tbody>\n",
       "    <tr>\n",
       "      <td>Fare</td>\n",
       "      <td>4.364</td>\n",
       "    </tr>\n",
       "    <tr>\n",
       "      <td>SibSp</td>\n",
       "      <td>3.840</td>\n",
       "    </tr>\n",
       "    <tr>\n",
       "      <td>Parch</td>\n",
       "      <td>3.665</td>\n",
       "    </tr>\n",
       "    <tr>\n",
       "      <td>Age</td>\n",
       "      <td>0.480</td>\n",
       "    </tr>\n",
       "  </tbody>\n",
       "</table>\n",
       "</div>"
      ],
      "text/plain": [
       "       skew\n",
       "Fare  4.364\n",
       "SibSp 3.840\n",
       "Parch 3.665\n",
       "Age   0.480"
      ]
     },
     "execution_count": 59,
     "metadata": {},
     "output_type": "execute_result"
    }
   ],
   "source": [
    "numerical_feat = all_data.dtypes[all_data.dtypes != 'object'].index\n",
    "skewed_feat = all_data[numerical_feat].apply(lambda x: skew(x.dropna())).sort_values(ascending = False)\n",
    "skewness = pd.DataFrame(skewed_feat,columns = ['skew'])\n",
    "skewness"
   ]
  },
  {
   "cell_type": "code",
   "execution_count": 62,
   "metadata": {},
   "outputs": [
    {
     "name": "stdout",
     "output_type": "stream",
     "text": [
      "There are 3 skewed numerical features to Box Cox transform\n"
     ]
    }
   ],
   "source": [
    "from scipy.special import boxcox1p\n",
    "lam = 0.15\n",
    "skewness = skewness[skewness['skew'] > 0.75]\n",
    "print(\"There are {} skewed numerical features to Box Cox transform\".format(skewness.shape[0]))\n",
    "skewness_feat = skewness.index\n",
    "for i in skewness_feat:\n",
    "    all_data[i] = boxcox1p(all_data[i],lam)"
   ]
  },
  {
   "cell_type": "code",
   "execution_count": 63,
   "metadata": {},
   "outputs": [
    {
     "data": {
      "text/html": [
       "<div>\n",
       "<style scoped>\n",
       "    .dataframe tbody tr th:only-of-type {\n",
       "        vertical-align: middle;\n",
       "    }\n",
       "\n",
       "    .dataframe tbody tr th {\n",
       "        vertical-align: top;\n",
       "    }\n",
       "\n",
       "    .dataframe thead th {\n",
       "        text-align: right;\n",
       "    }\n",
       "</style>\n",
       "<table border=\"1\" class=\"dataframe\">\n",
       "  <thead>\n",
       "    <tr style=\"text-align: right;\">\n",
       "      <th></th>\n",
       "      <th>Age</th>\n",
       "      <th>Embarked</th>\n",
       "      <th>Fare</th>\n",
       "      <th>Parch</th>\n",
       "      <th>Pclass</th>\n",
       "      <th>Sex</th>\n",
       "      <th>SibSp</th>\n",
       "    </tr>\n",
       "  </thead>\n",
       "  <tbody>\n",
       "    <tr>\n",
       "      <td>0</td>\n",
       "      <td>22.000</td>\n",
       "      <td>S</td>\n",
       "      <td>1.372</td>\n",
       "      <td>0.000</td>\n",
       "      <td>3</td>\n",
       "      <td>male</td>\n",
       "      <td>0.572</td>\n",
       "    </tr>\n",
       "    <tr>\n",
       "      <td>1</td>\n",
       "      <td>38.000</td>\n",
       "      <td>C</td>\n",
       "      <td>2.260</td>\n",
       "      <td>0.000</td>\n",
       "      <td>1</td>\n",
       "      <td>female</td>\n",
       "      <td>0.572</td>\n",
       "    </tr>\n",
       "    <tr>\n",
       "      <td>2</td>\n",
       "      <td>26.000</td>\n",
       "      <td>S</td>\n",
       "      <td>1.409</td>\n",
       "      <td>0.000</td>\n",
       "      <td>3</td>\n",
       "      <td>female</td>\n",
       "      <td>0.000</td>\n",
       "    </tr>\n",
       "    <tr>\n",
       "      <td>3</td>\n",
       "      <td>35.000</td>\n",
       "      <td>S</td>\n",
       "      <td>2.154</td>\n",
       "      <td>0.000</td>\n",
       "      <td>1</td>\n",
       "      <td>female</td>\n",
       "      <td>0.572</td>\n",
       "    </tr>\n",
       "    <tr>\n",
       "      <td>4</td>\n",
       "      <td>35.000</td>\n",
       "      <td>S</td>\n",
       "      <td>1.416</td>\n",
       "      <td>0.000</td>\n",
       "      <td>3</td>\n",
       "      <td>male</td>\n",
       "      <td>0.000</td>\n",
       "    </tr>\n",
       "  </tbody>\n",
       "</table>\n",
       "</div>"
      ],
      "text/plain": [
       "     Age Embarked  Fare  Parch Pclass     Sex  SibSp\n",
       "0 22.000        S 1.372  0.000      3    male  0.572\n",
       "1 38.000        C 2.260  0.000      1  female  0.572\n",
       "2 26.000        S 1.409  0.000      3  female  0.000\n",
       "3 35.000        S 2.154  0.000      1  female  0.572\n",
       "4 35.000        S 1.416  0.000      3    male  0.000"
      ]
     },
     "execution_count": 63,
     "metadata": {},
     "output_type": "execute_result"
    }
   ],
   "source": [
    "all_data.head()"
   ]
  },
  {
   "cell_type": "code",
   "execution_count": 64,
   "metadata": {},
   "outputs": [
    {
     "name": "stdout",
     "output_type": "stream",
     "text": [
      "(1309, 12)\n"
     ]
    }
   ],
   "source": [
    "all_data = pd.get_dummies(all_data)\n",
    "print(all_data.shape)"
   ]
  },
  {
   "cell_type": "code",
   "execution_count": 65,
   "metadata": {},
   "outputs": [],
   "source": [
    "train = all_data[:ntrain]\n",
    "test = all_data[ntrain:]"
   ]
  },
  {
   "cell_type": "code",
   "execution_count": 66,
   "metadata": {},
   "outputs": [
    {
     "name": "stdout",
     "output_type": "stream",
     "text": [
      "(891, 12)\n",
      "(418, 12)\n"
     ]
    }
   ],
   "source": [
    "print(train.shape)\n",
    "print(test.shape)"
   ]
  },
  {
   "cell_type": "markdown",
   "metadata": {},
   "source": [
    "## Modelling"
   ]
  },
  {
   "cell_type": "code",
   "execution_count": 98,
   "metadata": {},
   "outputs": [],
   "source": [
    "from sklearn.linear_model import LogisticRegression\n",
    "from sklearn.ensemble import RandomForestClassifier,BaggingClassifier,AdaBoostClassifier,GradientBoostingClassifier\n",
    "from sklearn.tree import DecisionTreeClassifier\n",
    "from sklearn.model_selection import KFold,cross_val_score\n",
    "from sklearn.metrics import accuracy_score,classification_report,confusion_matrix,roc_auc_score\n",
    "import xgboost as xgb\n",
    "import lightgbm as lgb\n",
    "from sklearn.naive_bayes import GaussianNB\n",
    "from sklearn.svm import SVC\n",
    "from sklearn.base import BaseEstimator, ClassifierMixin,TransformerMixin,clone"
   ]
  },
  {
   "cell_type": "markdown",
   "metadata": {},
   "source": [
    "#### Cross val strategy"
   ]
  },
  {
   "cell_type": "code",
   "execution_count": 126,
   "metadata": {},
   "outputs": [],
   "source": [
    "lr = LogisticRegression()\n",
    "dt = DecisionTreeClassifier(criterion='entropy',random_state=0)\n",
    "rf = RandomForestClassifier(n_estimators=100,random_state=0)\n",
    "nb = GaussianNB()\n",
    "nb_bag = BaggingClassifier(base_estimator=nb,n_estimators=10,random_state=0)\n",
    "lr_bag = BaggingClassifier(base_estimator=lr,n_estimators=10,random_state=0)\n",
    "dt_bag = BaggingClassifier(base_estimator=dt,n_estimators=10,random_state=0)\n",
    "nb_boost = AdaBoostClassifier(base_estimator=nb,n_estimators=50,random_state=0)\n",
    "lr_boost = AdaBoostClassifier(base_estimator=lr,n_estimators=50,random_state=0)\n",
    "dt_boost = AdaBoostClassifier(base_estimator=dt,n_estimators=50,random_state=0)\n",
    "rf_boost = AdaBoostClassifier(base_estimator=rf,n_estimators=50,random_state=0)\n",
    "gboost = GradientBoostingClassifier(n_estimators=49,random_state = 0)\n",
    "LR_bag_best = BaggingClassifier(base_estimator=lr,n_estimators=81)\n",
    "svc = SVC(C=1000)"
   ]
  },
  {
   "cell_type": "code",
   "execution_count": 127,
   "metadata": {},
   "outputs": [],
   "source": [
    "models = []\n",
    "models.append(('logit',lr))\n",
    "models.append(('dt',dt))\n",
    "models.append(('RandomForest',rf))\n",
    "models.append(('NB',nb))\n",
    "models.append(('nb_bag',nb_bag))\n",
    "models.append(('lr_bag',lr_bag))\n",
    "models.append(('dt_bag',dt_bag))\n",
    "models.append(('nb_boost',nb_boost))\n",
    "models.append(('lr_boost',lr_boost))\n",
    "models.append(('dt_boost',dt_boost))\n",
    "models.append(('rf_boost',rf_boost))\n",
    "models.append(('gboost',gboost))\n",
    "models.append(('LR_bag_best',LR_bag_best))\n",
    "models.append(('svc',svc))"
   ]
  },
  {
   "cell_type": "code",
   "execution_count": 128,
   "metadata": {},
   "outputs": [
    {
     "name": "stdout",
     "output_type": "stream",
     "text": [
      "logit: 0.789021 (0.022766)\n",
      "dt: 0.792449 (0.042489)\n",
      "RandomForest: 0.809246 (0.041743)\n",
      "NB: 0.766593 (0.022087)\n",
      "nb_bag: 0.754315 (0.053825)\n",
      "lr_bag: 0.792386 (0.023619)\n",
      "dt_bag: 0.810363 (0.023513)\n",
      "nb_boost: 0.472569 (0.135979)\n",
      "lr_boost: 0.784533 (0.020169)\n",
      "dt_boost: 0.791281 (0.027243)\n",
      "rf_boost: 0.794671 (0.044981)\n",
      "gboost: 0.827180 (0.027178)\n",
      "LR_bag_best: 0.789021 (0.022766)\n",
      "svc: 0.824876 (0.029534)\n"
     ]
    }
   ],
   "source": [
    "results = []\n",
    "names = []\n",
    "for name,model in models:\n",
    "    kfold = KFold(n_splits=5,shuffle=True,random_state=42).get_n_splits(train.values)\n",
    "    cv_results = cross_val_score(model,train,y_train,cv = kfold,scoring='accuracy')\n",
    "    results.append(cv_results)\n",
    "    names.append(name)\n",
    "    print(\"%s: %f (%f)\" %(name, np.mean(cv_results),np.std(cv_results,ddof = 1)))"
   ]
  },
  {
   "cell_type": "code",
   "execution_count": 75,
   "metadata": {},
   "outputs": [
    {
     "data": {
      "text/plain": [
       "0.7890011223344556"
      ]
     },
     "execution_count": 75,
     "metadata": {},
     "output_type": "execute_result"
    }
   ],
   "source": [
    "lr_boost.fit(train,y_train)\n",
    "pred_train = lr_boost.predict(train)\n",
    "pred_train_prob = lr_boost.predict_proba(train)[:,1]\n",
    "pred_test = lr_boost.predict(test)\n",
    "roc_auc_score(y_train,pred_train_prob)\n",
    "accuracy_score(y_train,pred_train)"
   ]
  },
  {
   "cell_type": "code",
   "execution_count": 181,
   "metadata": {},
   "outputs": [],
   "source": [
    "pred3 = pd.DataFrame(pred_test)\n",
    "pred3.to_csv('titanic_submission3.csv')"
   ]
  },
  {
   "cell_type": "code",
   "execution_count": 76,
   "metadata": {},
   "outputs": [
    {
     "data": {
      "text/plain": [
       "0.6341189674523008"
      ]
     },
     "execution_count": 76,
     "metadata": {},
     "output_type": "execute_result"
    }
   ],
   "source": [
    "svc.fit(train,y_train)\n",
    "pred_train = svc.predict(train)\n",
    "pred_test = svc.predict(test)\n",
    "accuracy_score(y_train,pred_train)"
   ]
  },
  {
   "cell_type": "code",
   "execution_count": 77,
   "metadata": {},
   "outputs": [],
   "source": [
    "pred_svc = pd.DataFrame(pred_test)\n",
    "pred_svc.to_csv('titanic_submissionsvc.csv')"
   ]
  },
  {
   "cell_type": "markdown",
   "metadata": {},
   "source": [
    "#### Naive Bayes "
   ]
  },
  {
   "cell_type": "code",
   "execution_count": 82,
   "metadata": {},
   "outputs": [
    {
     "data": {
      "text/plain": [
       "0.8433781782933351"
      ]
     },
     "execution_count": 82,
     "metadata": {},
     "output_type": "execute_result"
    }
   ],
   "source": [
    "nb = GaussianNB()\n",
    "nb.fit(train,y_train)\n",
    "pred_train = nb.predict(train)\n",
    "pred_train_prob = nb.predict_proba(train)[:,1]\n",
    "pred_test = nb.predict(test)\n",
    "roc_auc_score(y_train,pred_train_prob)"
   ]
  },
  {
   "cell_type": "code",
   "execution_count": 83,
   "metadata": {},
   "outputs": [],
   "source": [
    "pred13 = pd.DataFrame(pred_test)\n",
    "pred13.to_csv('titanic_submission_nb.csv')"
   ]
  },
  {
   "cell_type": "markdown",
   "metadata": {},
   "source": [
    "#### Random Forest"
   ]
  },
  {
   "cell_type": "code",
   "execution_count": 84,
   "metadata": {},
   "outputs": [
    {
     "data": {
      "text/plain": [
       "0.9775533108866442"
      ]
     },
     "execution_count": 84,
     "metadata": {},
     "output_type": "execute_result"
    }
   ],
   "source": [
    "rf.fit(train,y_train)\n",
    "pred_train = rf.predict(train)\n",
    "pred_train_prob = rf.predict_proba(train)[:,1]\n",
    "pred_test = rf.predict(test)\n",
    "roc_auc_score(y_train,pred_train_prob)\n",
    "accuracy_score(y_train,pred_train)"
   ]
  },
  {
   "cell_type": "code",
   "execution_count": 183,
   "metadata": {},
   "outputs": [],
   "source": [
    "pred4 = pd.DataFrame(pred_test)\n",
    "pred4.to_csv('titanic_submission4.csv')"
   ]
  },
  {
   "cell_type": "code",
   "execution_count": 265,
   "metadata": {},
   "outputs": [
    {
     "data": {
      "text/plain": [
       "RandomizedSearchCV(cv=3, error_score=nan,\n",
       "                   estimator=RandomForestClassifier(bootstrap=True,\n",
       "                                                    ccp_alpha=0.0,\n",
       "                                                    class_weight=None,\n",
       "                                                    criterion='gini',\n",
       "                                                    max_depth=None,\n",
       "                                                    max_features='auto',\n",
       "                                                    max_leaf_nodes=None,\n",
       "                                                    max_samples=None,\n",
       "                                                    min_impurity_decrease=0.0,\n",
       "                                                    min_impurity_split=None,\n",
       "                                                    min_samples_leaf=1,\n",
       "                                                    min_samples_split=2,\n",
       "                                                    min_weight_fraction_leaf=0.0,\n",
       "                                                    n_estimators=100,\n",
       "                                                    n_jobs...\n",
       "                                        'min_samples_leaf': <scipy.stats._distn_infrastructure.rv_frozen object at 0x000001AEDE085AC8>,\n",
       "                                        'min_samples_split': <scipy.stats._distn_infrastructure.rv_frozen object at 0x000001AEDE098E08>,\n",
       "                                        'n_estimators': <scipy.stats._distn_infrastructure.rv_frozen object at 0x000001AEDDE2C3C8>},\n",
       "                   pre_dispatch='2*n_jobs', random_state=3, refit=True,\n",
       "                   return_train_score=True, scoring='roc_auc', verbose=0)"
      ]
     },
     "execution_count": 265,
     "metadata": {},
     "output_type": "execute_result"
    }
   ],
   "source": [
    "from sklearn.model_selection import RandomizedSearchCV\n",
    "from scipy.stats import randint as sp_randint\n",
    "rforest = RandomForestClassifier()\n",
    "params = {'n_estimators': sp_randint(50,200),'max_features': sp_randint(1,24), 'max_depth': sp_randint(2,10),\n",
    "         'min_samples_split': sp_randint(2,20), 'min_samples_leaf': sp_randint(1,20), \n",
    "         'criterion':['gini','entropy']}\n",
    "\n",
    "rsearch_rfc = RandomizedSearchCV(rforest,param_distributions=params,n_iter = 200, cv = 3,scoring = 'roc_auc', random_state=3,return_train_score= True)\n",
    "rsearch_rfc.fit(train,y_train)\n"
   ]
  },
  {
   "cell_type": "code",
   "execution_count": 272,
   "metadata": {},
   "outputs": [
    {
     "data": {
      "text/plain": [
       "{'criterion': 'gini',\n",
       " 'max_depth': 6,\n",
       " 'max_features': 4,\n",
       " 'min_samples_leaf': 1,\n",
       " 'min_samples_split': 12,\n",
       " 'n_estimators': 185}"
      ]
     },
     "execution_count": 272,
     "metadata": {},
     "output_type": "execute_result"
    }
   ],
   "source": [
    "rsearch_rfc.best_params_"
   ]
  },
  {
   "cell_type": "code",
   "execution_count": 273,
   "metadata": {},
   "outputs": [
    {
     "data": {
      "text/plain": [
       "0.9247595308855016"
      ]
     },
     "execution_count": 273,
     "metadata": {},
     "output_type": "execute_result"
    }
   ],
   "source": [
    "rforest = RandomForestClassifier(**rsearch_rfc.best_params_)\n",
    "rforest.fit(train,y_train)\n",
    "pred_train = rforest.predict(train)\n",
    "pred_train_prob = rforest.predict_proba(train)[:,1]\n",
    "pred_test = rforest.predict(test)\n",
    "roc_auc_score(y_train,pred_train_prob)"
   ]
  },
  {
   "cell_type": "code",
   "execution_count": 274,
   "metadata": {},
   "outputs": [],
   "source": [
    "pred12 = pd.DataFrame(pred_test)\n",
    "pred12.to_csv('titanic_submission_rf.csv')"
   ]
  },
  {
   "cell_type": "markdown",
   "metadata": {},
   "source": [
    "#### Logistics Regression"
   ]
  },
  {
   "cell_type": "code",
   "execution_count": 85,
   "metadata": {},
   "outputs": [
    {
     "data": {
      "text/plain": [
       "0.8593029324982159"
      ]
     },
     "execution_count": 85,
     "metadata": {},
     "output_type": "execute_result"
    }
   ],
   "source": [
    "lr.fit(train,y_train)\n",
    "pred_train = lr.predict(train)\n",
    "pred_train_prob = lr.predict_proba(train)[:,1]\n",
    "pred_test = lr.predict(test)\n",
    "roc_auc_score(y_train,pred_train_prob)"
   ]
  },
  {
   "cell_type": "code",
   "execution_count": 190,
   "metadata": {},
   "outputs": [],
   "source": [
    "pred5 = pd.DataFrame(pred_test)\n",
    "pred5.to_csv('titanic_submission5.csv')"
   ]
  },
  {
   "cell_type": "code",
   "execution_count": 117,
   "metadata": {},
   "outputs": [
    {
     "name": "stdout",
     "output_type": "stream",
     "text": [
      "[0.0006213541082751696, 0.0007519839961608057, 0.0006739385193872305, 0.0009135417316575535, 0.0008760489285485099, 0.000787821890000048, 0.0007248461990780753, 0.0007521335391950852, 0.0006972824152466394, 0.0007340558850449479, 0.0007339974188855726, 0.0006505528260150667, 0.0007160136515059075, 0.0007478892317219987, 0.0008220502723036828, 0.0007219081384526472, 0.0007055573360934826, 0.000772601193356868, 0.0006712903484201894, 0.0007730393208512027, 0.0007088757932402688, 0.0007189194568087324, 0.0006895148302983357, 0.0007513752070147387, 0.0007188447281629422, 0.000739902133941045, 0.0007271016274786434, 0.0007324306916580163, 0.000723282350101896, 0.0007559871911468274, 0.000700711086897237, 0.0006995845136952415, 0.0006736837573754946, 0.0007572058950211485, 0.000757047853324594, 0.0007115401347462969, 0.0007874902300342213, 0.0007222724488755976, 0.0007159362082709278, 0.0006963088609286149, 0.0006943459176506417, 0.0006918377267177047, 0.0007762068568056403, 0.000752685160258915, 0.0007147084412686462, 0.0007564254204204255, 0.0007050148758913103, 0.0007346041491713552, 0.0007139449893433627, 0.0007098188417063523, 0.000678496713445282, 0.0007292676384255117, 0.0006943927188465258, 0.0007347754368178308, 0.0007116332835458736, 0.0007793775080476553, 0.0007312464193301885, 0.0007040217154950971, 0.0007746858631076275, 0.0007039362961456549, 0.0007656951206845784, 0.0007151228479956059, 0.0006745739467393685, 0.0007143636794709027, 0.0007643514821489195, 0.0007109444769711416, 0.0007284470954363312, 0.0007129227908617213, 0.0007430434149891601, 0.0007581106881103749, 0.0007365657134836213, 0.0007371126692559972, 0.0006892199710527942, 0.0007606326878288438, 0.0006393158518607065, 0.0007137176655639899, 0.0007254102165705005, 0.0007009266759424849, 0.0006962106195310643, 0.000715626541659937, 0.0006138775408609752, 0.0006969597236317912, 0.0007271033515696963, 0.0006746048118752639, 0.0007340693532533254, 0.0007266075457519284, 0.0008002069339541177, 0.0007246518718089354, 0.0007080774915126846, 0.0007349353161173357, 0.0006759546020931207, 0.0007179195037380837, 0.0007489236971878347, 0.0007358828879739784, 0.0006926891379345091, 0.0007151771483854153, 0.0007185372684409345, 0.0007401822087295605, 0.0007714858126782272]\n"
     ]
    }
   ],
   "source": [
    "auc_var = []\n",
    "for i in range(1,100):\n",
    "    LR_bag = BaggingClassifier(base_estimator=lr,n_estimators=i)\n",
    "    kfold = KFold(shuffle = True, n_splits = 5, random_state = 0)\n",
    "    results = cross_val_score(LR_bag,train,y_train,cv = kfold, scoring = 'roc_auc')\n",
    "    auc_var.append(np.var(results,ddof = 1))\n",
    "print(auc_var)"
   ]
  },
  {
   "cell_type": "code",
   "execution_count": 118,
   "metadata": {},
   "outputs": [
    {
     "data": {
      "text/plain": [
       "80"
      ]
     },
     "execution_count": 118,
     "metadata": {},
     "output_type": "execute_result"
    }
   ],
   "source": [
    "np.argmin(auc_var)"
   ]
  },
  {
   "cell_type": "code",
   "execution_count": 120,
   "metadata": {},
   "outputs": [
    {
     "data": {
      "text/plain": [
       "0.0006138775408609752"
      ]
     },
     "execution_count": 120,
     "metadata": {},
     "output_type": "execute_result"
    }
   ],
   "source": [
    "np.min(auc_var)"
   ]
  },
  {
   "cell_type": "code",
   "execution_count": 86,
   "metadata": {},
   "outputs": [
    {
     "data": {
      "text/plain": [
       "0.8594573866359889"
      ]
     },
     "execution_count": 86,
     "metadata": {},
     "output_type": "execute_result"
    }
   ],
   "source": [
    "LR_bag = BaggingClassifier(base_estimator=lr,n_estimators=81)\n",
    "LR_bag.fit(train,y_train)\n",
    "pred_train = LR_bag.predict(train)\n",
    "pred_train_prob = LR_bag.predict_proba(train)[:,1]\n",
    "pred_test = LR_bag.predict(test)\n",
    "roc_auc_score(y_train,pred_train_prob)"
   ]
  },
  {
   "cell_type": "code",
   "execution_count": 192,
   "metadata": {},
   "outputs": [],
   "source": [
    "pred6 = pd.DataFrame(pred_test)\n",
    "pred6.to_csv('titanic_submission6.csv')"
   ]
  },
  {
   "cell_type": "markdown",
   "metadata": {},
   "source": [
    "#### Gboost"
   ]
  },
  {
   "cell_type": "code",
   "execution_count": 124,
   "metadata": {},
   "outputs": [
    {
     "name": "stdout",
     "output_type": "stream",
     "text": [
      "[0.8534437595847669, 0.8559104013767886, 0.8608959682059644, 0.8666626495859224, 0.8727642268463629, 0.873514216354424, 0.8737052455438477, 0.8738033034172678, 0.8748125818548383, 0.8696892951890823, 0.8704903073369779, 0.8690860093922053, 0.8653770665897267, 0.8664789794794561, 0.8688038154376773, 0.8670475503958772, 0.8695096309779025, 0.8664854501370002, 0.8668711656254975, 0.8673756409626873, 0.8676983520218563, 0.8684768606636779, 0.8698198389777829, 0.8705215804216532, 0.8712822726533667, 0.8703439109548299, 0.8724360485346128, 0.8730353130384665, 0.8732632846960757, 0.8732072171642284, 0.8729082207748279, 0.8740186336492677, 0.873953497706085, 0.8731371244794516, 0.872492470957522, 0.872584048235833, 0.8736078493303708, 0.8742667924843271, 0.8742550483224661, 0.8750447339928242, 0.8763180979733873, 0.876105958194787, 0.8766094664778065, 0.8768400026065689, 0.8779168619199762, 0.877152897219586, 0.8765641105516166, 0.8775528004436162, 0.8781691255961613, 0.875731715224669, 0.8764076721180171, 0.875877348747012, 0.8750147831077285, 0.8762001826779168, 0.8759615675986488, 0.8757382727019539, 0.8755622318366663, 0.8745601777052344, 0.8741171954465351, 0.875063246442538, 0.8748526676015828, 0.8747269327492071, 0.8747372965010826, 0.8741043029633233, 0.8736536138225937, 0.8740496444273906, 0.8749103766566281, 0.8755480492835663, 0.8757377452401268, 0.8755569334238579, 0.8750594847403157, 0.8753161374074359, 0.8752505023556441, 0.8748445932769713, 0.8738917216439417, 0.8736496914786379, 0.8740023741923407, 0.8734781254566077, 0.8738698422930645, 0.8738062656365512, 0.8740496876159846, 0.8749764494755926, 0.8745595247168139, 0.8751534969828876, 0.8751554583246185, 0.8752144926735436, 0.8749496842370963, 0.8746830905447196, 0.8732419205150036, 0.8735527007939784, 0.8732769797726174, 0.8729014320949541, 0.8723634086445036, 0.8722935324959543, 0.87285527036168, 0.872834221184011, 0.8725647632118961, 0.8723530383157865, 0.8717963874164634]\n"
     ]
    }
   ],
   "source": [
    "auc_avg = []\n",
    "for i in range(1,100):\n",
    "    Gboost = GradientBoostingClassifier(n_estimators=i,random_state=0)\n",
    "    kfold = KFold(shuffle = True, n_splits = 15, random_state = 0)\n",
    "    results = cross_val_score(Gboost,train,y_train,cv = kfold, scoring = 'roc_auc')\n",
    "    auc_avg.append(np.mean(results))\n",
    "print(auc_avg)"
   ]
  },
  {
   "cell_type": "code",
   "execution_count": 122,
   "metadata": {},
   "outputs": [
    {
     "data": {
      "text/plain": [
       "0.8781691255961613"
      ]
     },
     "execution_count": 122,
     "metadata": {},
     "output_type": "execute_result"
    }
   ],
   "source": [
    "np.max(auc_avg)"
   ]
  },
  {
   "cell_type": "code",
   "execution_count": 125,
   "metadata": {},
   "outputs": [
    {
     "data": {
      "text/plain": [
       "48"
      ]
     },
     "execution_count": 125,
     "metadata": {},
     "output_type": "execute_result"
    }
   ],
   "source": [
    "np.argmax(auc_avg)"
   ]
  },
  {
   "cell_type": "code",
   "execution_count": 137,
   "metadata": {},
   "outputs": [
    {
     "data": {
      "text/plain": [
       "0.9263626583154912"
      ]
     },
     "execution_count": 137,
     "metadata": {},
     "output_type": "execute_result"
    }
   ],
   "source": [
    "gboost.fit(train,y_train)\n",
    "pred_train = gboost.predict(train)\n",
    "pred_train_prob = gboost.predict_proba(train)[:,1]\n",
    "pred_test = gboost.predict(test)\n",
    "roc_auc_score(y_train,pred_train_prob)"
   ]
  },
  {
   "cell_type": "code",
   "execution_count": 138,
   "metadata": {},
   "outputs": [],
   "source": [
    "pred1 = pd.DataFrame(pred_test)\n",
    "pred1.to_csv('titanic_submission1.csv')"
   ]
  },
  {
   "cell_type": "markdown",
   "metadata": {},
   "source": [
    "#### Xgboost"
   ]
  },
  {
   "cell_type": "code",
   "execution_count": 87,
   "metadata": {},
   "outputs": [],
   "source": [
    "model_xgb = xgb.XGBClassifier(colsample_bytree=0.4603, gamma=0.0468, \n",
    "                             learning_rate=0.05, max_depth=3, \n",
    "                             min_child_weight=1.7817, n_estimators=1500,\n",
    "                             reg_alpha=0.4640, reg_lambda=0.8571,\n",
    "                             subsample=0.5213, silent=1,\n",
    "                             random_state =7, nthread = -1)"
   ]
  },
  {
   "cell_type": "code",
   "execution_count": 88,
   "metadata": {},
   "outputs": [
    {
     "name": "stdout",
     "output_type": "stream",
     "text": [
      "[13:59:18] WARNING: C:\\Users\\Administrator\\workspace\\xgboost-win64_release_1.1.0\\src\\learner.cc:480: \n",
      "Parameters: { silent } might not be used.\n",
      "\n",
      "  This may not be accurate due to some parameters are only used in language bindings but\n",
      "  passed down to XGBoost core.  Or some parameters are not used but slip through this\n",
      "  verification. Please open an issue if you find above cases.\n",
      "\n",
      "\n"
     ]
    },
    {
     "data": {
      "text/plain": [
       "0.963431651381033"
      ]
     },
     "execution_count": 88,
     "metadata": {},
     "output_type": "execute_result"
    }
   ],
   "source": [
    "model_xgb.fit(train,y_train)\n",
    "pred_train = model_xgb.predict(train)\n",
    "pred_train_prob = model_xgb.predict_proba(train)[:,1]\n",
    "pred_test = model_xgb.predict(test)\n",
    "roc_auc_score(y_train,pred_train_prob)"
   ]
  },
  {
   "cell_type": "code",
   "execution_count": 194,
   "metadata": {},
   "outputs": [],
   "source": [
    "pred7 = pd.DataFrame(pred_test)\n",
    "pred7.to_csv('titanic_submission7.csv')"
   ]
  },
  {
   "cell_type": "code",
   "execution_count": 89,
   "metadata": {},
   "outputs": [
    {
     "name": "stdout",
     "output_type": "stream",
     "text": [
      "[13:59:56] WARNING: C:\\Users\\Administrator\\workspace\\xgboost-win64_release_1.1.0\\src\\learner.cc:480: \n",
      "Parameters: { silent } might not be used.\n",
      "\n",
      "  This may not be accurate due to some parameters are only used in language bindings but\n",
      "  passed down to XGBoost core.  Or some parameters are not used but slip through this\n",
      "  verification. Please open an issue if you find above cases.\n",
      "\n",
      "\n",
      "[13:59:57] WARNING: C:\\Users\\Administrator\\workspace\\xgboost-win64_release_1.1.0\\src\\learner.cc:480: \n",
      "Parameters: { silent } might not be used.\n",
      "\n",
      "  This may not be accurate due to some parameters are only used in language bindings but\n",
      "  passed down to XGBoost core.  Or some parameters are not used but slip through this\n",
      "  verification. Please open an issue if you find above cases.\n",
      "\n",
      "\n",
      "[13:59:59] WARNING: C:\\Users\\Administrator\\workspace\\xgboost-win64_release_1.1.0\\src\\learner.cc:480: \n",
      "Parameters: { silent } might not be used.\n",
      "\n",
      "  This may not be accurate due to some parameters are only used in language bindings but\n",
      "  passed down to XGBoost core.  Or some parameters are not used but slip through this\n",
      "  verification. Please open an issue if you find above cases.\n",
      "\n",
      "\n",
      "[14:00:00] WARNING: C:\\Users\\Administrator\\workspace\\xgboost-win64_release_1.1.0\\src\\learner.cc:480: \n",
      "Parameters: { silent } might not be used.\n",
      "\n",
      "  This may not be accurate due to some parameters are only used in language bindings but\n",
      "  passed down to XGBoost core.  Or some parameters are not used but slip through this\n",
      "  verification. Please open an issue if you find above cases.\n",
      "\n",
      "\n",
      "[14:00:01] WARNING: C:\\Users\\Administrator\\workspace\\xgboost-win64_release_1.1.0\\src\\learner.cc:480: \n",
      "Parameters: { silent } might not be used.\n",
      "\n",
      "  This may not be accurate due to some parameters are only used in language bindings but\n",
      "  passed down to XGBoost core.  Or some parameters are not used but slip through this\n",
      "  verification. Please open an issue if you find above cases.\n",
      "\n",
      "\n",
      "0.870426 (0.031066)\n"
     ]
    }
   ],
   "source": [
    "results = []\n",
    "kfold = KFold(n_splits=5,shuffle=True,random_state=42).get_n_splits(train.values)\n",
    "cv_results = cross_val_score(model_xgb,train,y_train,cv = kfold,scoring='roc_auc')\n",
    "results.append(cv_results)\n",
    "print(\"%f (%f)\" %(np.mean(cv_results),np.std(cv_results,ddof = 1)))"
   ]
  },
  {
   "cell_type": "code",
   "execution_count": 163,
   "metadata": {},
   "outputs": [
    {
     "name": "stdout",
     "output_type": "stream",
     "text": [
      "[0.8666349444174155, 0.8679855365160061, 0.8662583030142331, 0.8657188226743419, 0.8674041354849411, 0.8726608482981236, 0.8733363100662326, 0.8756236542539122, 0.8713609743685922, 0.8710708072958602, 0.8732412630462278, 0.8723373551495944, 0.872026988043077, 0.8737244818040392, 0.8724539531442215, 0.8723817104760615, 0.8737394422414052, 0.8729600136752493, 0.87192931908644, 0.8721323096093252, 0.8726912735225388, 0.8724516135373437, 0.8719116491188995, 0.8705358820315989, 0.8704778504003821, 0.8700880199208344, 0.8704044314001018, 0.8716989832168747, 0.872596912206545, 0.8723035189628188, 0.8712177199429778, 0.8704122455393829, 0.8691428269144543, 0.8691882438422688, 0.8701523055469332, 0.8698417439421737, 0.8706419499531226, 0.8715281149806806, 0.8720967702458008, 0.8719134806587666, 0.871316971549998, 0.8713314230160206, 0.8715570475679499, 0.8719253839152667, 0.8715690095384068, 0.8713271652138385, 0.8695966341598933, 0.8696393888859113, 0.8692223669452878, 0.8688514002503375, 0.8682533664535056, 0.8678338948088047, 0.8679059583912629, 0.868898219443933, 0.8680123953953934, 0.8679310923162618, 0.8682441569326855, 0.8683651481693235, 0.8681969626152488, 0.8679127702220372, 0.8676692727281065, 0.8679606470819143, 0.8681198582116425, 0.8681430646398928, 0.8682702664779255, 0.8688167065700914, 0.8688730694715293, 0.8684147357671901, 0.8679832666215834, 0.8675890778636781, 0.8677667421240634, 0.867450458301045, 0.867195261790728, 0.8669619062107305, 0.8667138851093107, 0.8665268498473135, 0.8661574895658377, 0.866279940957513, 0.8666298622597554, 0.8662128644759157, 0.8659125222494607, 0.8655521524393862, 0.8652421909190267, 0.8654992950303475, 0.8659332648969589, 0.8659229400488095, 0.8653185671692842, 0.8655385861982383, 0.8648249591840431, 0.8642983915886291, 0.8649138847056884, 0.8643839816207463, 0.8643213543979764, 0.8642369104016716, 0.8642411175996261, 0.864148754967297, 0.8642881496112205, 0.8645007360962765, 0.8643751476361172, 0.8650129474675273, 0.8644831836769727, 0.8643947282003982, 0.8644434897003969, 0.8645390017719781, 0.8642948567051295, 0.8640809922666228, 0.8640349090154759, 0.8650727042518206, 0.864678431065145, 0.8650414145910446, 0.8655401462681747, 0.8657481791698881, 0.866070395738505, 0.8655912166201822, 0.8654895542191934, 0.8648357084667049, 0.8648090245515292, 0.8644861814510687, 0.8642051964784361, 0.8641730237355686, 0.8643300944584787, 0.8640287781694622, 0.8640090932806663, 0.8639010050775535, 0.8635046732094704, 0.8640359589847286, 0.8633924692015729, 0.8636891785996594, 0.8633136135358586, 0.8635823181581197, 0.8633354867326906, 0.8632249611962693, 0.8631265062158595, 0.863156594975206, 0.8631185031510646, 0.8631909975476816, 0.8628979178622537, 0.8629552003733358, 0.8632645477326205, 0.8628988175761535, 0.8633795988469108, 0.863598052250983, 0.8639160927428285, 0.8640937438073948, 0.8635094839278141, 0.8626141744730387, 0.862682299778559, 0.8625901005974018, 0.8622707790363956, 0.8623988720662489, 0.862731850116243, 0.8628313371405414, 0.8629937402043704, 0.8629370278018346, 0.8623980164048775, 0.8621623079203419, 0.8624132912657583, 0.8619946924748136, 0.8625897940035024, 0.8626156545238203, 0.8629261421001978, 0.8631683919368107, 0.8630829439020913, 0.8626782544740962, 0.8624183285584964, 0.8621825033786774, 0.8626178758313492, 0.8623803441745801, 0.8626829656895412, 0.8625126950066155, 0.8628389553220153, 0.8627837326376702, 0.8627298953470006, 0.8626623401500269, 0.8625004426617178, 0.8623540018231761, 0.8622688215641434, 0.8620137858016388, 0.8620270137671276, 0.8623109260138839, 0.8624611343014423, 0.8628450024722378, 0.8629267402142176, 0.8635190467987715, 0.8632532694506339, 0.8634144882448418, 0.8632914103213227, 0.8634342774581528, 0.8631263688001309, 0.8630463176393566, 0.863337064315991, 0.8629922834856725, 0.8632594462274854, 0.8630415671929994, 0.8628727873735942, 0.8631811537059182, 0.8626654289049422, 0.8626633648171657, 0.8629159141998141, 0.8624753378875223, 0.8623584748264375, 0.8622049014861976, 0.8624168415436655, 0.8622053069982423, 0.8617446601808542, 0.861883134482154, 0.8618542100966844, 0.8618635098653445, 0.8620501836678253, 0.8621307247694151, 0.8621022580582478, 0.8622944089024047, 0.8621120999299808, 0.8624461901915946, 0.8621395824984777, 0.862219959003566, 0.8624395165095283, 0.8619796366637014, 0.8618698699891121, 0.8618635255000493, 0.861756176263024, 0.861808740594262, 0.8619355299558507, 0.8619463194427015, 0.8620270294018326, 0.8621137784014572, 0.8621211506733688, 0.8620442957077348, 0.8619956864334692, 0.8616161309304731, 0.8615650563174257, 0.8616870189136154, 0.8613688095642285, 0.8614787128298458, 0.8613643925719142, 0.8612550314093698, 0.8609420301806423, 0.8609103672743347, 0.8610287270180095, 0.8609910449669528, 0.8612079441198078, 0.8612287089537102, 0.8608333757176725, 0.8611036023246375, 0.8610819700433485, 0.8608672393027849, 0.8610834920280522, 0.8610641927555568, 0.8609308141406726, 0.8604984732866395, 0.8606389552524186, 0.8605319270986677, 0.8604013714333922, 0.8605946866514259, 0.860407739666889, 0.8603571830001305, 0.860141255619177, 0.8600802348098815, 0.8604211886521768, 0.8601869376193187, 0.8610205184198945, 0.8605193256650223, 0.8605295419276168, 0.8603727681311968, 0.8607001406582159, 0.860658417976086, 0.8605136755047651, 0.8605963328563891, 0.8605381027301894, 0.8607280049943234, 0.86062422945901, 0.8603209023898042, 0.8601898567837136, 0.8600518965800135, 0.8599869164527056, 0.8601022123312287, 0.8604522169169119, 0.8607158822760546, 0.860753753080397, 0.8606496522007699, 0.8607863958683355, 0.8607616997218948, 0.8606833550380701, 0.8603487425691279, 0.8606693892518233, 0.8604965968068188, 0.8605811493886781, 0.8606895306695919, 0.8609746072902249, 0.8606577311722559, 0.8607896200689493, 0.8608156171802953, 0.8607964544988278, 0.8606555670210039, 0.860553473805856, 0.860312581357445, 0.8603299009709346, 0.8602445050984725, 0.8599005395532829, 0.8597555884329319, 0.8597318640583929, 0.8596376583580859, 0.8596685382457775, 0.8598230070388777, 0.8599168593893973, 0.8599719454827144, 0.8598967770982856, 0.8598086427049854, 0.8597594391653894, 0.8596836162436435, 0.8598464613470703, 0.8598963393197276, 0.8600055358857703, 0.8598945484140073, 0.8601889290643401, 0.8599995167410214, 0.8600624650470653, 0.8599859634312186, 0.8597857094587915, 0.859968207184501, 0.8598403056112931, 0.8596962219383286, 0.859977506953161, 0.8598201630481948, 0.859936458704093, 0.8597889578161894, 0.8596791067128295, 0.8596816284749087, 0.8597690320118503, 0.8600019820798032, 0.8602298395770506, 0.8599418555780382, 0.8597770872389026, 0.8595848278091911, 0.8596208033832979, 0.8596634414140324, 0.8597370679180129, 0.8597088743889019, 0.8597591901401171, 0.8598291094670676, 0.8598216006041278, 0.859797988663833, 0.8596671318110278, 0.8597350403577888, 0.8594346405627069, 0.8595401789982674, 0.8596656109716537, 0.8595063998419255, 0.8596925837035908, 0.8597580257662403, 0.8597350925200464, 0.859473760169697, 0.8594892367152085, 0.8595448127493409, 0.8597131348944436, 0.8592788988101754, 0.8593912915713584, 0.8591476041788122, 0.8590141734016706, 0.859014799933514, 0.8591350829128978, 0.8590821652318725, 0.8595464659187033, 0.8592352808978102, 0.8592647232295685, 0.8589359975753869, 0.8590512654484366, 0.8588826421158039, 0.8588933794403971, 0.8586775644936878, 0.858938081558908, 0.8587268482010147, 0.8587760517406107, 0.8587453364494207, 0.8586393403395581, 0.858726984792043, 0.8588246567538367, 0.8585432662691594, 0.8582742082971111, 0.8582738549473236, 0.8584429359542586, 0.8588144926534996, 0.8584234720852614, 0.8585334555186096, 0.8582684370323042, 0.8581978743934757, 0.8580546017446009, 0.8582209442306977, 0.8582728341288742, 0.8582856137952681, 0.8581594856428442, 0.8579313903457635, 0.8581114184716517, 0.8580589665746577, 0.8583192147188615, 0.8581453100622376, 0.8580887864129874, 0.8582147604894468, 0.8580812775500478, 0.8581437923385735, 0.8583035735768483, 0.8583265589852997, 0.8583297874469531, 0.8581302401741006, 0.8581788171818528, 0.8580997657984538, 0.8580736842583374, 0.8578635872688475, 0.8580531361831942, 0.8577575911589846, 0.8578863881850527, 0.8579608579796358, 0.8579354551336206, 0.8580507510121436, 0.8581312921137332, 0.8581035885254377, 0.857962295535569, 0.8577996391854281, 0.8577310842110789, 0.8576679993140066, 0.857660458184554, 0.8576427330590196, 0.8576473668100931, 0.8576951327937561, 0.8577465849133746, 0.8575942603757822, 0.8576681880672925, 0.8575827400325728, 0.8577197246156818, 0.8576116644180424, 0.8576371194263153, 0.8576994454615555, 0.8575142092150078, 0.857349926555648, 0.857454838459365, 0.8573497899646199, 0.8573988047509301, 0.8573959296390641, 0.8574165298764646, 0.8575800295172081, 0.8574190839050566, 0.8574005112278801, 0.8575296616037352, 0.8572859742111891, 0.8571893821945016, 0.857419071534288, 0.8574995604736202, 0.857308795023139, 0.8574530475536445, 0.8573328969042493, 0.8575012712116097, 0.8577487490646268, 0.8576330756795325, 0.8575567628169714, 0.8573718799202112, 0.8572671847752533, 0.8575062583124705, 0.8573455294590779, 0.8572716340340808, 0.8572227558387986, 0.8573881507097777, 0.8570940432415011, 0.8573067141553276, 0.8571721470097827, 0.8571382876857097, 0.8573516330325978, 0.857136087006905, 0.8570306330001152, 0.8572658316480908, 0.8572415732802078, 0.8569989179315499, 0.8568597369306759, 0.8568919419400565, 0.8566789176764427, 0.8567556882133062, 0.8568083891355723, 0.8568338441438451, 0.8567505645214171, 0.8567547405981883, 0.8567014975728492, 0.8568623108550124, 0.8566971327427924, 0.8566182981181523, 0.8566975382548373, 0.8565946861778574, 0.8567510502011929, 0.8566162662968887, 0.8566384406812506, 0.8567529776979415, 0.8566949643305006, 0.8566128490819496, 0.8564866060844736, 0.856595392877432, 0.8566151820907428, 0.8567325942193001, 0.8566723000053236, 0.8566431588610948, 0.8568775986472383, 0.8568212917567471, 0.8568227293126804, 0.8568017757254927, 0.8566960485366465, 0.8564065226571861, 0.8564308934593129, 0.8564623154500776, 0.8565449728017015, 0.8565740617836728, 0.8565661995709457, 0.8566695937509985, 0.8564062537361693, 0.8565889160583804, 0.8567176808179354, 0.8566695614844854, 0.8566394404586258, 0.8566088095962066, 0.8564751056370087, 0.8564154379548755, 0.8563559870315018, 0.8564497872197638, 0.856419750622675, 0.8562802162720136, 0.8563603518615587, 0.8563395306043592, 0.8563875977755518, 0.8563067834919057, 0.856362006176251, 0.8561455125354402, 0.8560696051849239, 0.8561283252519394, 0.8560492217062826, 0.8561341276379293, 0.8559168751352868, 0.8562398548267754, 0.8558923677421315, 0.8559127512207733, 0.8559947298782961, 0.8560992884322257, 0.8560682197912485, 0.8560140813130493, 0.8559846669867642, 0.8559943201052118, 0.8559993636293697, 0.855811742211771, 0.8559646610146942, 0.8558553842809203, 0.8557181829390522, 0.8558794017332602, 0.8556619282108189, 0.85580146256148, 0.8559922602784746, 0.8558026592018703, 0.8557580936743872, 0.8559169794598018, 0.8558324790401999, 0.8560447444419816, 0.8560454511415561, 0.8561215994076156, 0.8559375275349449, 0.8559148110475101, 0.8556223298884523, 0.8555783344695159, 0.8554925852472666, 0.85556795049471, 0.8555167392906344, 0.8556483269997981, 0.8559380174757603, 0.8556635626297666, 0.8557724860137531, 0.8556407095513038, 0.8557468422521944, 0.8557684745334834, 0.8556297834734247, 0.8557146372428139, 0.8557420719100929, 0.8558242393209016, 0.8559349014483508, 0.8558518907469395, 0.8559535220267452, 0.8558199266531024, 0.85584408069647, 0.8557946603981149, 0.855663614792024, 0.8556654056977445, 0.8556829984932903, 0.855875338090733, 0.8558747115588894, 0.8559308818583522, 0.8558734950227549, 0.855918060550238, 0.8559472861232372, 0.8558078362013465, 0.8557242833968619, 0.8558044711486648, 0.8558295206448928, 0.8559079497574882, 0.8558276254146573, 0.8558365718335305, 0.8556258805787097, 0.8555753760742087, 0.8556819142871444, 0.8557079113984901, 0.8557051728776521, 0.8556202564254682, 0.8555702418617829, 0.8557355106622708, 0.8556264506872562, 0.8557996486443056, 0.8557276484495437, 0.8558361141592279, 0.8560706341131026, 0.8558832014487898, 0.8559902817647984, 0.8559421102690905, 0.855851090243387, 0.8560057894314934, 0.8558969182097643, 0.8560014246014365, 0.8561089625917473, 0.8559693239165709, 0.8558382261482226, 0.8558664196773336, 0.8559158921379462, 0.8558868031559749, 0.8559107684460573, 0.855968781813498, 0.8560563741037253, 0.8560983377013981, 0.8558273000703437, 0.8558565778056003, 0.8558636289942377, 0.8558468192173081, 0.8558688048483842, 0.8559065818487488, 0.8556637377468054, 0.855835029953082, 0.8559953532944297, 0.8557825177841016, 0.8559097406632084, 0.8560228401239662, 0.8557736235274863, 0.8557903905173658, 0.8557542919884774, 0.8558328012688039, 0.8558595572419817, 0.855704357592523, 0.8558184046683983, 0.8557113348729268, 0.8556335322921752, 0.8556949212328346, 0.8558288419507918, 0.8559125270852646, 0.8559149122563154, 0.8560213983069934, 0.8558616692309762, 0.8561520905632971, 0.8559705404527053, 0.8558903527009027, 0.8558332347863221, 0.8555699469337507, 0.8556137858659143, 0.855861211556674, 0.8557005870277965, 0.8557793694901792, 0.855756163061929, 0.8558081572846206, 0.8559438689082979, 0.8558066154041724, 0.8558915213358192, 0.8556728312772434, 0.855758279311963, 0.8557638929446675, 0.8559229954888412, 0.8558930110540098, 0.8559709502257895, 0.8561032967967854, 0.8559382552755936, 0.8560192863179988, 0.856152664932883, 0.8560736135494839, 0.8560796326942329, 0.8560263896688939, 0.8559717935163924, 0.8559405361221295, 0.8559721990284371, 0.8559197148649302, 0.8559435155585107, 0.8559656377806151, 0.856129052992588, 0.8562406627351553, 0.8561034613932872, 0.856079632694233, 0.8559687296512404, 0.8561571943594416, 0.8558884053084096, 0.8558365998390037, 0.8557877216437216, 0.8559153500348732, 0.8559960277274913, 0.8559456598140184, 0.8557877216437216, 0.8557624553887344, 0.8558171881322642, 0.8558155618230451, 0.8558174048910232, 0.855945928735035, 0.8557641618656842, 0.8556856525853579, 0.8557928974978679, 0.8555756449952255, 0.8555237550970489, 0.8556044327896668, 0.8556307832508001, 0.85555024214921, 0.8556024009684033, 0.8556045693806951, 0.8554151570573761, 0.8556555638260115, 0.8555452550483494, 0.8554670469555529, 0.8554402065536042, 0.8555202055521212, 0.8554382268945983, 0.8554155104071635, 0.8553650059026625, 0.8554983845175466, 0.8555483990812321, 0.8557317922598019, 0.8557840032412527, 0.855909298623611, 0.855826777863015, 0.8558045513163958, 0.8557513082910566, 0.8556240332496923, 0.8556154923428642, 0.8555108493601639, 0.8553763343768764, 0.8555618959677378, 0.855719103281676, 0.8556913152646098, 0.8557416831780827, 0.8556126172309979, 0.8555118814040522, 0.85537665972119, 0.8555568244381064, 0.8555873509760106, 0.8553501726690289, 0.8553790448922409, 0.8554294128057138, 0.8554874261731547, 0.8555393682335888, 0.8554592326440437, 0.8553852006280183, 0.8554049898413293, 0.8553503092600572, 0.8554318824055354, 0.85543139246472, 0.8555629801738837, 0.8555129656101981, 0.8554831979341259, 0.8556122117189531, 0.8556171708143404, 0.8556951099861203, 0.8558271876360994, 0.8556658322508636, 0.855687870044197, 0.8559048014635657, 0.8558279986601891, 0.8557441769346882, 0.8556701970809204, 0.8555362763629633, 0.8555131543634837, 0.8555371718158236, 0.8556183916115145, 0.8555598883032582, 0.8555877284825819, 0.8554581204324243, 0.8554493106045795, 0.8553973685441454, 0.8552343066819598, 0.8552070607679665, 0.8551499950156435, 0.8550971053400916, 0.8552343066819598, 0.8551530868862688, 0.8552883085691307, 0.8554486319104784, 0.855418406560104, 0.8554495273633387, 0.855369881714609, 0.8553433946624478, 0.8553700984733682, 0.8554225826368752, 0.8552873609540133, 0.8551785418945416, 0.8552571877658961, 0.8553129525533143, 0.8553954733139101, 0.855284622433175, 0.8552826427741689, 0.8553364279025809, 0.8553926503643012, 0.8551794895096594, 0.8550430792961364, 0.8551270376126656, 0.8550705139634154, 0.8548564054936557, 0.8549643812625245, 0.8550129061080194, 0.8550653381092689, 0.8550939371504247, 0.855092989535307, 0.854961048476356, 0.854985202519724, 0.8551166536378594, 0.8551482643819096, 0.8552302430394327, 0.8552022662690806, 0.8551482643819097, 0.8552235452005823, 0.8550924995944916, 0.854992522629378, 0.8549637348349366, 0.8549373843738035, 0.8551235160732112, 0.8550200938876849, 0.8549065044861119, 0.8549082953918322, 0.8548833824866324, 0.8549117126067713, 0.8550200417254274, 0.8550429749716214, 0.8549609441518408, 0.8549358946556127, 0.8548760382201941, 0.8547940595626711, 0.854771395237494, 0.8549358946556127, 0.8550396943477103, 0.8549547884160636, 0.8549270003989975, 0.8548713722026076, 0.8549756618355205, 0.8550100111004086, 0.8550061883734248, 0.8549988682637707, 0.8550905522019985, 0.8550905522019987, 0.8549005977756068, 0.8549862625690855, 0.8548670918013211, 0.855058889295691, 0.8549467374500509, 0.8550042087144188, 0.8549240731248737, 0.8548966384575948, 0.8548722676554676, 0.8547356084166726, 0.8548148485533573, 0.8548955262459754, 0.8548992968107019, 0.8547909676920458, 0.8549284379549306, 0.8548510408862237, 0.8549618917669587, 0.8548497399213186, 0.8548502820243916, 0.8549293334077908, 0.8548453750912618, 0.8548684449284837, 0.8549504235860066, 0.8549542463129907, 0.8549250207399914, 0.8550309646875967, 0.8550565562868977, 0.8549491226211018, 0.854834180092366, 0.8549185439209399, 0.8548930889126671, 0.8549468740410792, 0.8549463319380062, 0.8549472273908663, 0.8548634056653655, 0.8548412312810034, 0.855001418031323, 0.8548129011608644, 0.8546178230425838, 0.8545658809821497, 0.8547598468888111, 0.854898754707629, 0.8548408779312163, 0.8547835954201343, 0.8549455730761741, 0.854808913837379, 0.8548639477684382, 0.8547259875647383, 0.8547819691109154, 0.854745721912607, 0.8548120578702619, 0.8547021868711576, 0.8548416367930484, 0.8547625854096491, 0.8548967228863653, 0.8549229087509967, 0.8548586874855213, 0.8548954740837178, 0.854814390879055, 0.8548935788534825, 0.8548147442288423, 0.8546784383398345, 0.8546819077170312, 0.8545744740512353, 0.8545724943922293, 0.8547576784765194, 0.8547823746229601, 0.8546771895371871, 0.8547044876134378, 0.8545988448533622, 0.8547317335274311, 0.8546513290168694, 0.8547082581781643, 0.8550037510401165, 0.8546776273157448, 0.8545719001268989, 0.8547345564770398, 0.8548134432639374, 0.8548210322946082, 0.8549809501239111, 0.8550079792791452, 0.8549230733474984, 0.8548400104838295, 0.8546513570223429, 0.8547291074408371, 0.854807805474449, 0.8547281598257193, 0.8548372198007339, 0.854863570261867, 0.8549733369364562, 0.8550024780806849, 0.8549515680641392, 0.8550639086630648, 0.8551411691407438, 0.8547786643302203, 0.8548091908681247, 0.8546597936046558, 0.8548552772349813, 0.8547088605532238, 0.8545485893741336, 0.8546832689539225, 0.8544994702633082, 0.8546026756900753, 0.8546579505366779, 0.8548488525781874, 0.8549308312357103, 0.8549827732961445, 0.8550594916707505, 0.8550592749119913, 0.855135856695569, 0.8553023357726939, 0.8552189195592378, 0.8552198671743556, 0.8552725680966218, 0.8549987919447292, 0.8549817412522562, 0.8549248120909614, 0.8549068659456281, 0.8548781303134444, 0.8547978059706136, 0.8548221767727406, 0.8549287149856764, 0.8548532975759754, 0.8548799212191647, 0.8548303643297814, 0.8548465195693942, 0.8548736810546169, 0.8547681748855694, 0.8548734121336002, 0.8549290403299901, 0.8550270897983552, 0.8547658418767762, 0.8548411549619619, 0.8547445629452746, 0.854667655817383, 0.8546606890575161, 0.8545245197595364, 0.8547907026197187, 0.8546494096298499, 0.854676302194056, 0.8546522847417162, 0.8546290783134658, 0.8546011015431141, 0.8546823213388051, 0.8546808837828719, 0.8547331791930933, 0.8547337212961661, 0.854783547106566, 0.854754811474382, 0.8547651954491882, 0.8547064232199153, 0.8547359177139313]\n"
     ]
    }
   ],
   "source": [
    "auc_avg = []\n",
    "for i in range(1,1000):\n",
    "    model_xgb_def = xgb.XGBClassifier(n_estimators=i,random_state=0)\n",
    "    kfold = KFold(shuffle = True, n_splits = 5, random_state = 0)\n",
    "    results = cross_val_score(model_xgb_def,train,y_train,cv = kfold, scoring = 'roc_auc')\n",
    "    auc_avg.append(np.mean(results))\n",
    "print(auc_avg)"
   ]
  },
  {
   "cell_type": "code",
   "execution_count": 165,
   "metadata": {},
   "outputs": [
    {
     "data": {
      "text/plain": [
       "7"
      ]
     },
     "execution_count": 165,
     "metadata": {},
     "output_type": "execute_result"
    }
   ],
   "source": [
    "np.max(auc_avg)\n",
    "np.argmax(auc_avg)"
   ]
  },
  {
   "cell_type": "code",
   "execution_count": 91,
   "metadata": {},
   "outputs": [
    {
     "name": "stdout",
     "output_type": "stream",
     "text": [
      "0.875543 (0.019398)\n"
     ]
    }
   ],
   "source": [
    "results = []\n",
    "model_xgb_def = xgb.XGBClassifier(n_estimators=8,random_state=0)\n",
    "kfold = KFold(shuffle = True, n_splits = 5, random_state = 0)\n",
    "results = cross_val_score(model_xgb_def,train,y_train,cv = kfold, scoring = 'roc_auc')\n",
    "print(\"%f (%f)\" %(np.mean(results),np.std(results,ddof = 1)))"
   ]
  },
  {
   "cell_type": "code",
   "execution_count": 92,
   "metadata": {},
   "outputs": [
    {
     "data": {
      "text/plain": [
       "0.9431848443208811"
      ]
     },
     "execution_count": 92,
     "metadata": {},
     "output_type": "execute_result"
    }
   ],
   "source": [
    "model_xgb_def.fit(train,y_train)\n",
    "pred_train = model_xgb_def.predict(train)\n",
    "pred_train_prob = model_xgb_def.predict_proba(train)[:,1]\n",
    "pred_test = model_xgb_def.predict(test)\n",
    "roc_auc_score(y_train,pred_train_prob)"
   ]
  },
  {
   "cell_type": "code",
   "execution_count": 179,
   "metadata": {},
   "outputs": [],
   "source": [
    "pred2 = pd.DataFrame(pred_test)\n",
    "pred2.to_csv('titanic_submission2.csv')"
   ]
  },
  {
   "cell_type": "markdown",
   "metadata": {},
   "source": [
    "#### Light GBM"
   ]
  },
  {
   "cell_type": "code",
   "execution_count": 93,
   "metadata": {},
   "outputs": [
    {
     "name": "stdout",
     "output_type": "stream",
     "text": [
      "0.870047 (0.026627)\n"
     ]
    }
   ],
   "source": [
    "model_lgb = lgb.LGBMClassifier(num_leaves=5,learning_rate=0.05, n_estimators=720,\n",
    "                              max_bin = 55, bagging_fraction = 0.8,bagging_freq = 5, feature_fraction = 0.2319,\n",
    "                              feature_fraction_seed=9, bagging_seed=9,min_data_in_leaf =6, min_sum_hessian_in_leaf = 11)\n",
    "results = []\n",
    "kfold = KFold(n_splits=5,shuffle=True,random_state=42).get_n_splits(train.values)\n",
    "cv_results = cross_val_score(model_lgb,train,y_train,cv = kfold,scoring='roc_auc')\n",
    "results.append(cv_results)\n",
    "print(\"%f (%f)\" %(np.mean(results),np.std(results,ddof = 1)))"
   ]
  },
  {
   "cell_type": "code",
   "execution_count": 94,
   "metadata": {},
   "outputs": [
    {
     "data": {
      "text/plain": [
       "0.9156041287188829"
      ]
     },
     "execution_count": 94,
     "metadata": {},
     "output_type": "execute_result"
    }
   ],
   "source": [
    "model_lgb.fit(train,y_train)\n",
    "pred_train = model_lgb.predict(train)\n",
    "pred_train_prob = model_lgb.predict_proba(train)[:,1]\n",
    "pred_test = model_lgb.predict(test)\n",
    "roc_auc_score(y_train,pred_train_prob)"
   ]
  },
  {
   "cell_type": "code",
   "execution_count": 197,
   "metadata": {},
   "outputs": [],
   "source": [
    "pred8 = pd.DataFrame(pred_test)\n",
    "pred8.to_csv('titanic_submission8.csv')"
   ]
  },
  {
   "cell_type": "code",
   "execution_count": 161,
   "metadata": {},
   "outputs": [
    {
     "data": {
      "text/plain": [
       "RandomizedSearchCV(cv=5, error_score=nan,\n",
       "                   estimator=LGBMClassifier(boosting_type='gbdt',\n",
       "                                            class_weight=None,\n",
       "                                            colsample_bytree=1.0,\n",
       "                                            importance_type='split',\n",
       "                                            learning_rate=0.1, max_depth=-1,\n",
       "                                            min_child_samples=20,\n",
       "                                            min_child_weight=0.001,\n",
       "                                            min_split_gain=0.0,\n",
       "                                            n_estimators=100, n_jobs=-1,\n",
       "                                            num_leaves=31, objective=None,\n",
       "                                            random_state=None, reg_alpha=0.0,\n",
       "                                            reg_lambda=0.0, sile...\n",
       "                                        'max_depth': <scipy.stats._distn_infrastructure.rv_frozen object at 0x000001AED77CF508>,\n",
       "                                        'n_estimators': <scipy.stats._distn_infrastructure.rv_frozen object at 0x000001AED7870408>,\n",
       "                                        'num_leaves': <scipy.stats._distn_infrastructure.rv_frozen object at 0x000001AED77D4F48>},\n",
       "                   pre_dispatch='2*n_jobs', random_state=3, refit=True,\n",
       "                   return_train_score=False, scoring=None, verbose=0)"
      ]
     },
     "execution_count": 161,
     "metadata": {},
     "output_type": "execute_result"
    }
   ],
   "source": [
    "model_lgb_def = lgb.LGBMClassifier()\n",
    "from sklearn.model_selection import RandomizedSearchCV\n",
    "from scipy.stats import randint as sp_randint\n",
    "from scipy.stats import uniform as sp_uniform\n",
    "params = {'n_estimators': sp_randint(50,1000),'max_depth': sp_randint(2,15),\n",
    "         'learning_rate': sp_uniform(0.001, 0.5),'num_leaves': sp_randint(20,50)}\n",
    "\n",
    "rsearch = RandomizedSearchCV(model_lgb_def, param_distributions=params, cv = 5, n_iter = 200, n_jobs = -1, random_state=3)\n",
    "rsearch.fit(train,y_train)"
   ]
  },
  {
   "cell_type": "code",
   "execution_count": 198,
   "metadata": {},
   "outputs": [
    {
     "data": {
      "text/plain": [
       "{'learning_rate': 0.07013970742905018,\n",
       " 'max_depth': 5,\n",
       " 'n_estimators': 300,\n",
       " 'num_leaves': 42}"
      ]
     },
     "execution_count": 198,
     "metadata": {},
     "output_type": "execute_result"
    }
   ],
   "source": [
    "rsearch.best_params_"
   ]
  },
  {
   "cell_type": "code",
   "execution_count": 97,
   "metadata": {},
   "outputs": [
    {
     "data": {
      "text/plain": [
       "0.9773085567592326"
      ]
     },
     "execution_count": 97,
     "metadata": {},
     "output_type": "execute_result"
    }
   ],
   "source": [
    "model_lgb_rse = lgb.LGBMClassifier(learning_rate= 0.07013970742905018,\n",
    " max_depth =  5,\n",
    " n_estimators= 300,\n",
    " num_leaves= 42)\n",
    "model_lgb_rse.fit(train,y_train)\n",
    "pred_train = model_lgb_rse.predict(train)\n",
    "pred_train_prob = model_lgb_rse.predict_proba(train)[:,1]\n",
    "pred_test = model_lgb_rse.predict(test)\n",
    "roc_auc_score(y_train,pred_train_prob)"
   ]
  },
  {
   "cell_type": "code",
   "execution_count": 200,
   "metadata": {},
   "outputs": [],
   "source": [
    "pred9 = pd.DataFrame(pred_test)\n",
    "pred9.to_csv('titanic_submission9.csv')"
   ]
  },
  {
   "cell_type": "code",
   "execution_count": 108,
   "metadata": {},
   "outputs": [],
   "source": [
    "class AveragingModels(BaseEstimator,ClassifierMixin,TransformerMixin):\n",
    "    def __init__(self,models):\n",
    "        self.models = models\n",
    "    def fit(self,X,y):\n",
    "        self.models_ = [clone(x) for x in self.models]\n",
    "        \n",
    "        for model in self.models_:\n",
    "            model.fit(X,y)\n",
    "        return self\n",
    "    \n",
    "    def predict(self,X):\n",
    "        predictions = np.column_stack([model.predict(X) for model in self.models_])\n",
    "        return np.mean(predictions,axis = 1)"
   ]
  },
  {
   "cell_type": "code",
   "execution_count": 106,
   "metadata": {},
   "outputs": [],
   "source": [
    "averaged_models = AveragingModels(models =  (gboost,model_lgb_rse,model_xgb_def))"
   ]
  },
  {
   "cell_type": "code",
   "execution_count": 109,
   "metadata": {
    "collapsed": true
   },
   "outputs": [
    {
     "data": {
      "text/plain": [
       "AveragingModels(models=(GradientBoostingClassifier(ccp_alpha=0.0,\n",
       "                                                   criterion='friedman_mse',\n",
       "                                                   init=None, learning_rate=0.1,\n",
       "                                                   loss='deviance', max_depth=3,\n",
       "                                                   max_features=None,\n",
       "                                                   max_leaf_nodes=None,\n",
       "                                                   min_impurity_decrease=0.0,\n",
       "                                                   min_impurity_split=None,\n",
       "                                                   min_samples_leaf=1,\n",
       "                                                   min_samples_split=2,\n",
       "                                                   min_weight_fraction_leaf=0.0,\n",
       "                                                   n_estimators=49,\n",
       "                                                   n_iter_no_change=None,\n",
       "                                                   presort='d...\n",
       "                                      importance_type='gain',\n",
       "                                      interaction_constraints='',\n",
       "                                      learning_rate=0.300000012,\n",
       "                                      max_delta_step=0, max_depth=6,\n",
       "                                      min_child_weight=1, missing=nan,\n",
       "                                      monotone_constraints='()', n_estimators=8,\n",
       "                                      n_jobs=0, num_parallel_tree=1,\n",
       "                                      objective='binary:logistic',\n",
       "                                      random_state=0, reg_alpha=0, reg_lambda=1,\n",
       "                                      scale_pos_weight=1, subsample=1,\n",
       "                                      tree_method='exact',\n",
       "                                      validate_parameters=1, verbosity=None)))"
      ]
     },
     "execution_count": 109,
     "metadata": {},
     "output_type": "execute_result"
    }
   ],
   "source": [
    "averaged_models.fit(train,y_train)"
   ]
  },
  {
   "cell_type": "code",
   "execution_count": 110,
   "metadata": {
    "scrolled": true
   },
   "outputs": [
    {
     "data": {
      "text/plain": [
       "array([0.        , 1.        , 0.66666667, 1.        , 0.        ,\n",
       "       0.        , 0.        , 0.        , 0.66666667, 1.        ,\n",
       "       1.        , 1.        , 0.        , 0.        , 1.        ,\n",
       "       1.        , 0.        , 0.        , 0.33333333, 1.        ,\n",
       "       0.        , 0.        , 1.        , 0.        , 0.        ,\n",
       "       0.33333333, 0.        , 0.        , 1.        , 0.        ,\n",
       "       0.        , 1.        , 1.        , 0.        , 0.        ,\n",
       "       0.        , 0.        , 0.        , 0.        , 1.        ,\n",
       "       0.        , 0.66666667, 0.        , 1.        , 1.        ,\n",
       "       0.        , 0.        , 1.        , 0.        , 0.        ,\n",
       "       0.        , 0.        , 1.        , 1.        , 0.        ,\n",
       "       0.        , 1.        , 0.        , 1.        , 0.        ,\n",
       "       0.        , 1.        , 0.        , 0.        , 0.        ,\n",
       "       1.        , 1.        , 0.        , 1.        , 0.        ,\n",
       "       0.        , 0.        , 0.        , 0.        , 0.66666667,\n",
       "       0.        , 0.        , 0.        , 1.        , 0.66666667,\n",
       "       0.        , 0.        , 1.        , 0.        , 1.        ,\n",
       "       1.        , 0.        , 0.        , 1.        , 0.        ,\n",
       "       0.        , 0.        , 0.        , 0.        , 0.        ,\n",
       "       0.        , 0.        , 0.66666667, 1.        , 0.        ,\n",
       "       0.        , 0.        , 0.        , 0.        , 0.        ,\n",
       "       0.        , 1.        , 0.        , 0.        , 0.33333333,\n",
       "       0.        , 0.33333333, 0.        , 0.        , 0.33333333,\n",
       "       0.        , 0.        , 0.        , 0.        , 0.        ,\n",
       "       0.        , 0.        , 0.        , 1.        , 0.        ,\n",
       "       1.        , 0.        , 0.        , 1.        , 0.        ,\n",
       "       0.        , 0.        , 0.        , 1.        , 0.        ,\n",
       "       0.        , 1.        , 1.        , 0.        , 0.        ,\n",
       "       0.33333333, 1.        , 0.66666667, 0.        , 0.        ,\n",
       "       0.        , 0.33333333, 0.        , 0.        , 0.        ,\n",
       "       0.        , 1.        , 0.        , 0.        , 0.        ,\n",
       "       0.        , 1.        , 0.        , 0.        , 0.        ,\n",
       "       0.        , 1.        , 0.        , 0.        , 0.        ,\n",
       "       1.        , 1.        , 0.        , 0.        , 0.33333333,\n",
       "       0.        , 0.        , 1.        , 0.        , 0.        ,\n",
       "       0.        , 0.        , 0.66666667, 0.        , 0.        ,\n",
       "       0.        , 0.        , 0.        , 1.        , 1.        ,\n",
       "       0.        , 1.        , 0.33333333, 0.        , 0.        ,\n",
       "       1.        , 0.        , 0.66666667, 1.        , 1.        ,\n",
       "       1.        , 0.        , 0.        , 1.        , 1.        ,\n",
       "       0.        , 0.        , 0.        , 0.        , 0.        ,\n",
       "       0.66666667, 0.        , 0.        , 1.        , 0.66666667,\n",
       "       0.        , 1.        , 0.        , 0.        , 0.        ,\n",
       "       1.        , 0.66666667, 0.        , 1.        , 0.        ,\n",
       "       0.        , 0.        , 0.        , 0.        , 0.33333333,\n",
       "       0.        , 0.        , 0.        , 0.        , 0.        ,\n",
       "       1.        , 0.        , 0.        , 0.33333333, 0.        ,\n",
       "       1.        , 0.        , 1.        , 0.        , 0.        ,\n",
       "       0.33333333, 1.        , 0.        , 0.        , 0.        ,\n",
       "       0.        , 1.        , 1.        , 0.66666667, 0.        ,\n",
       "       0.        , 0.        , 0.        , 0.        , 0.        ,\n",
       "       0.66666667, 1.        , 1.        , 1.        , 1.        ,\n",
       "       0.        , 0.33333333, 0.        , 0.        , 1.        ,\n",
       "       0.        , 0.        , 0.        , 1.        , 1.        ,\n",
       "       0.        , 0.        , 1.        , 0.        , 1.        ,\n",
       "       1.        , 0.        , 0.        , 0.        , 1.        ,\n",
       "       0.        , 0.        , 0.        , 0.        , 0.        ,\n",
       "       0.        , 0.        , 0.        , 0.        , 1.        ,\n",
       "       1.        , 1.        , 0.        , 0.        , 0.        ,\n",
       "       0.        , 0.        , 0.66666667, 0.33333333, 1.        ,\n",
       "       1.        , 0.        , 0.        , 1.        , 0.        ,\n",
       "       1.        , 1.        , 1.        , 0.        , 1.        ,\n",
       "       1.        , 1.        , 1.        , 0.        , 0.        ,\n",
       "       1.        , 1.        , 0.        , 1.        , 1.        ,\n",
       "       0.        , 0.        , 1.        , 1.        , 0.        ,\n",
       "       1.        , 0.        , 1.        , 0.33333333, 1.        ,\n",
       "       1.        , 0.        , 0.        , 0.        , 1.        ,\n",
       "       0.        , 0.        , 1.        , 0.        , 0.        ,\n",
       "       1.        , 1.        , 0.        , 0.        , 0.        ,\n",
       "       1.        , 1.        , 1.        , 1.        , 0.        ,\n",
       "       0.        , 0.        , 0.        , 0.        , 0.        ,\n",
       "       0.        , 1.        , 1.        , 1.        , 1.        ,\n",
       "       0.        , 0.        , 0.        , 0.        , 0.        ,\n",
       "       0.        , 1.        , 1.        , 1.        , 1.        ,\n",
       "       1.        , 0.        , 0.        , 0.        , 0.        ,\n",
       "       1.        , 1.        , 0.        , 0.        , 0.        ,\n",
       "       1.        , 1.        , 0.        , 1.        , 0.        ,\n",
       "       0.        , 0.        , 1.        , 0.        , 1.        ,\n",
       "       0.66666667, 0.        , 0.        , 1.        , 0.66666667,\n",
       "       0.        , 0.33333333, 0.        , 0.        , 1.        ,\n",
       "       0.        , 0.        , 0.        , 0.        , 0.        ,\n",
       "       0.        , 0.        , 1.        , 0.        , 0.        ,\n",
       "       0.        , 0.        , 1.        , 0.        , 0.        ,\n",
       "       0.        , 1.        , 1.        , 0.        , 0.        ,\n",
       "       0.        , 0.        , 0.        , 0.        , 0.        ,\n",
       "       0.        , 1.        , 1.        , 0.        , 0.        ,\n",
       "       0.66666667, 1.        , 1.        , 0.        , 0.        ,\n",
       "       1.        , 0.        , 1.        , 0.        , 0.        ,\n",
       "       1.        , 0.        , 0.        , 1.        , 0.        ,\n",
       "       1.        , 1.        , 0.66666667, 1.        , 0.33333333,\n",
       "       0.        , 0.        , 0.        , 0.66666667, 0.        ,\n",
       "       0.        , 0.        , 1.        , 1.        , 0.        ,\n",
       "       0.66666667, 0.        , 0.        , 0.        , 0.        ,\n",
       "       0.        , 0.        , 0.        , 0.        , 1.        ,\n",
       "       0.        , 0.        , 1.        , 1.        , 0.        ,\n",
       "       0.        , 0.        , 0.        , 0.        , 1.        ,\n",
       "       0.        , 0.        , 0.        , 0.        , 0.33333333,\n",
       "       0.        , 1.        , 0.        , 0.        , 1.        ,\n",
       "       0.        , 0.        , 0.        , 0.        , 0.        ,\n",
       "       0.        , 1.        , 0.        , 0.66666667, 0.        ,\n",
       "       0.        , 1.        , 1.        , 0.        , 1.        ,\n",
       "       0.        , 1.        , 0.66666667, 0.        , 0.66666667,\n",
       "       0.        , 0.        , 1.        , 1.        , 0.        ,\n",
       "       0.        , 1.        , 0.        , 1.        , 0.        ,\n",
       "       1.        , 0.        , 0.        , 1.        , 0.        ,\n",
       "       0.        , 1.        , 0.        , 0.        , 0.        ,\n",
       "       1.        , 0.        , 0.        , 1.        , 0.        ,\n",
       "       1.        , 0.33333333, 1.        , 0.        , 1.        ,\n",
       "       1.        , 0.        , 0.        , 0.        , 0.        ,\n",
       "       0.        , 1.        , 0.        , 0.        , 1.        ,\n",
       "       0.33333333, 0.        , 0.        , 0.        , 0.66666667,\n",
       "       0.        , 1.        , 0.        , 1.        , 1.        ,\n",
       "       0.        , 0.        , 0.        , 0.        , 0.        ,\n",
       "       0.        , 0.        , 0.        , 0.        , 0.        ,\n",
       "       0.        , 1.        , 1.        , 1.        , 0.        ,\n",
       "       0.        , 1.        , 1.        , 0.        , 0.        ,\n",
       "       1.        , 1.        , 0.        , 0.        , 0.        ,\n",
       "       1.        , 0.        , 0.        , 0.        , 0.        ,\n",
       "       0.        , 1.        , 0.        , 1.        , 0.        ,\n",
       "       0.        , 1.        , 0.        , 0.        , 1.        ,\n",
       "       1.        , 0.        , 0.        , 0.        , 0.66666667,\n",
       "       0.        , 0.        , 0.33333333, 1.        , 1.        ,\n",
       "       0.        , 0.        , 1.        , 0.        , 0.        ,\n",
       "       1.        , 0.        , 0.33333333, 1.        , 0.        ,\n",
       "       0.        , 1.        , 0.        , 0.        , 0.        ,\n",
       "       0.        , 0.        , 1.        , 0.        , 0.        ,\n",
       "       0.33333333, 0.        , 0.33333333, 0.        , 0.        ,\n",
       "       1.        , 0.        , 0.        , 0.        , 0.        ,\n",
       "       0.        , 1.        , 0.        , 0.66666667, 1.        ,\n",
       "       0.66666667, 0.        , 0.        , 0.        , 1.        ,\n",
       "       0.        , 1.        , 0.        , 1.        , 0.33333333,\n",
       "       0.        , 0.        , 0.33333333, 0.        , 0.        ,\n",
       "       0.33333333, 0.        , 0.        , 0.        , 0.        ,\n",
       "       0.        , 0.        , 0.        , 0.        , 1.        ,\n",
       "       1.        , 0.        , 0.        , 0.        , 0.        ,\n",
       "       0.        , 0.        , 0.33333333, 0.        , 0.66666667,\n",
       "       0.33333333, 0.33333333, 0.        , 0.        , 0.        ,\n",
       "       0.        , 0.        , 0.        , 0.        , 1.        ,\n",
       "       0.66666667, 1.        , 0.66666667, 0.        , 0.        ,\n",
       "       0.        , 0.        , 1.        , 0.        , 0.        ,\n",
       "       1.        , 1.        , 0.33333333, 0.        , 0.        ,\n",
       "       0.        , 1.        , 0.66666667, 1.        , 1.        ,\n",
       "       1.        , 0.66666667, 0.        , 0.        , 0.        ,\n",
       "       0.        , 1.        , 1.        , 0.        , 0.        ,\n",
       "       1.        , 0.        , 0.        , 0.        , 1.        ,\n",
       "       0.        , 1.        , 1.        , 0.        , 0.        ,\n",
       "       1.        , 0.66666667, 0.        , 0.        , 0.        ,\n",
       "       0.        , 0.        , 0.66666667, 0.        , 0.        ,\n",
       "       0.33333333, 0.        , 1.        , 0.        , 0.        ,\n",
       "       0.        , 0.        , 1.        , 0.66666667, 0.        ,\n",
       "       1.        , 1.        , 0.        , 0.        , 1.        ,\n",
       "       1.        , 0.        , 0.        , 0.        , 1.        ,\n",
       "       0.        , 0.        , 0.        , 1.        , 0.        ,\n",
       "       1.        , 0.        , 0.66666667, 0.        , 0.        ,\n",
       "       0.        , 0.        , 1.        , 0.        , 1.        ,\n",
       "       0.        , 0.        , 1.        , 0.        , 1.        ,\n",
       "       1.        , 1.        , 0.33333333, 0.        , 0.        ,\n",
       "       0.        , 1.        , 0.        , 1.        , 0.        ,\n",
       "       0.        , 0.        , 0.        , 0.        , 0.        ,\n",
       "       0.        , 1.        , 0.        , 0.        , 0.        ,\n",
       "       0.        , 1.        , 1.        , 1.        , 0.        ,\n",
       "       0.        , 0.        , 1.        , 0.        , 1.        ,\n",
       "       0.        , 0.        , 0.        , 0.        , 0.        ,\n",
       "       0.        , 0.        , 0.        , 0.        , 0.        ,\n",
       "       1.        , 0.        , 0.        , 0.66666667, 0.        ,\n",
       "       0.        , 0.66666667, 1.        , 0.        , 1.        ,\n",
       "       0.33333333, 1.        , 0.        , 0.        , 0.        ,\n",
       "       1.        , 0.        , 0.        , 0.66666667, 0.        ,\n",
       "       0.        , 0.        , 1.        , 0.        , 0.        ,\n",
       "       0.        , 0.        , 0.        , 0.        , 1.        ,\n",
       "       0.        , 0.        , 0.33333333, 1.        , 1.        ,\n",
       "       0.33333333, 1.        , 0.33333333, 1.        , 0.        ,\n",
       "       0.        , 0.        , 1.        , 0.        , 0.        ,\n",
       "       1.        , 1.        , 0.        , 0.        , 1.        ,\n",
       "       0.        , 1.        , 0.        , 0.        , 1.        ,\n",
       "       1.        , 0.        , 0.        , 0.        , 1.        ,\n",
       "       1.        , 0.        , 0.        , 0.        , 0.        ,\n",
       "       0.        , 0.        , 1.        , 0.        , 0.66666667,\n",
       "       0.        ])"
      ]
     },
     "execution_count": 110,
     "metadata": {},
     "output_type": "execute_result"
    }
   ],
   "source": [
    "averaged_models.predict(train)"
   ]
  },
  {
   "cell_type": "code",
   "execution_count": 117,
   "metadata": {},
   "outputs": [
    {
     "data": {
      "text/plain": [
       "0    279\n",
       "1    139\n",
       "Name: Survived, dtype: int64"
      ]
     },
     "execution_count": 117,
     "metadata": {},
     "output_type": "execute_result"
    }
   ],
   "source": [
    "pred = pd.DataFrame(averaged_models.predict(test),columns=['Survived'])\n",
    "pred['Survived'] = pred['Survived'].apply(lambda x: 1 if x>0.5 else 0)\n",
    "pred['Survived'].value_counts()"
   ]
  },
  {
   "cell_type": "code",
   "execution_count": 119,
   "metadata": {},
   "outputs": [],
   "source": [
    "pred.to_csv('titanicstacked1.csv')"
   ]
  },
  {
   "cell_type": "code",
   "execution_count": 123,
   "metadata": {},
   "outputs": [],
   "source": [
    "averaged_models = AveragingModels(models =  (gboost,rf,dt_bag))\n",
    "averaged_models.fit(train,y_train)\n",
    "pred = averaged_models.predict(test)"
   ]
  },
  {
   "cell_type": "code",
   "execution_count": 124,
   "metadata": {},
   "outputs": [
    {
     "data": {
      "text/plain": [
       "0    271\n",
       "1    147\n",
       "Name: Survived, dtype: int64"
      ]
     },
     "execution_count": 124,
     "metadata": {},
     "output_type": "execute_result"
    }
   ],
   "source": [
    "pred = pd.DataFrame(averaged_models.predict(test),columns=['Survived'])\n",
    "pred['Survived'] = pred['Survived'].apply(lambda x: 1 if x>0.5 else 0)\n",
    "pred['Survived'].value_counts()"
   ]
  },
  {
   "cell_type": "code",
   "execution_count": 125,
   "metadata": {},
   "outputs": [],
   "source": [
    "pred.to_csv('titanicstacked2.csv')"
   ]
  },
  {
   "cell_type": "markdown",
   "metadata": {},
   "source": [
    "### Artificial Neural network"
   ]
  },
  {
   "cell_type": "code",
   "execution_count": 68,
   "metadata": {},
   "outputs": [
    {
     "data": {
      "text/html": [
       "<div>\n",
       "<style scoped>\n",
       "    .dataframe tbody tr th:only-of-type {\n",
       "        vertical-align: middle;\n",
       "    }\n",
       "\n",
       "    .dataframe tbody tr th {\n",
       "        vertical-align: top;\n",
       "    }\n",
       "\n",
       "    .dataframe thead th {\n",
       "        text-align: right;\n",
       "    }\n",
       "</style>\n",
       "<table border=\"1\" class=\"dataframe\">\n",
       "  <thead>\n",
       "    <tr style=\"text-align: right;\">\n",
       "      <th></th>\n",
       "      <th>Age</th>\n",
       "      <th>Fare</th>\n",
       "      <th>Parch</th>\n",
       "      <th>SibSp</th>\n",
       "      <th>Embarked_C</th>\n",
       "      <th>Embarked_Q</th>\n",
       "      <th>Embarked_S</th>\n",
       "      <th>Pclass_1</th>\n",
       "      <th>Pclass_2</th>\n",
       "      <th>Pclass_3</th>\n",
       "      <th>Sex_female</th>\n",
       "      <th>Sex_male</th>\n",
       "    </tr>\n",
       "  </thead>\n",
       "  <tbody>\n",
       "    <tr>\n",
       "      <td>0</td>\n",
       "      <td>22.000</td>\n",
       "      <td>2.482</td>\n",
       "      <td>0.000</td>\n",
       "      <td>0.730</td>\n",
       "      <td>0</td>\n",
       "      <td>0</td>\n",
       "      <td>1</td>\n",
       "      <td>0</td>\n",
       "      <td>0</td>\n",
       "      <td>1</td>\n",
       "      <td>0</td>\n",
       "      <td>1</td>\n",
       "    </tr>\n",
       "    <tr>\n",
       "      <td>1</td>\n",
       "      <td>38.000</td>\n",
       "      <td>6.003</td>\n",
       "      <td>0.000</td>\n",
       "      <td>0.730</td>\n",
       "      <td>1</td>\n",
       "      <td>0</td>\n",
       "      <td>0</td>\n",
       "      <td>1</td>\n",
       "      <td>0</td>\n",
       "      <td>0</td>\n",
       "      <td>1</td>\n",
       "      <td>0</td>\n",
       "    </tr>\n",
       "    <tr>\n",
       "      <td>2</td>\n",
       "      <td>26.000</td>\n",
       "      <td>2.591</td>\n",
       "      <td>0.000</td>\n",
       "      <td>0.000</td>\n",
       "      <td>0</td>\n",
       "      <td>0</td>\n",
       "      <td>1</td>\n",
       "      <td>0</td>\n",
       "      <td>0</td>\n",
       "      <td>1</td>\n",
       "      <td>1</td>\n",
       "      <td>0</td>\n",
       "    </tr>\n",
       "    <tr>\n",
       "      <td>3</td>\n",
       "      <td>35.000</td>\n",
       "      <td>5.464</td>\n",
       "      <td>0.000</td>\n",
       "      <td>0.730</td>\n",
       "      <td>0</td>\n",
       "      <td>0</td>\n",
       "      <td>1</td>\n",
       "      <td>1</td>\n",
       "      <td>0</td>\n",
       "      <td>0</td>\n",
       "      <td>1</td>\n",
       "      <td>0</td>\n",
       "    </tr>\n",
       "    <tr>\n",
       "      <td>4</td>\n",
       "      <td>35.000</td>\n",
       "      <td>2.610</td>\n",
       "      <td>0.000</td>\n",
       "      <td>0.000</td>\n",
       "      <td>0</td>\n",
       "      <td>0</td>\n",
       "      <td>1</td>\n",
       "      <td>0</td>\n",
       "      <td>0</td>\n",
       "      <td>1</td>\n",
       "      <td>0</td>\n",
       "      <td>1</td>\n",
       "    </tr>\n",
       "  </tbody>\n",
       "</table>\n",
       "</div>"
      ],
      "text/plain": [
       "     Age  Fare  Parch  SibSp  Embarked_C  Embarked_Q  Embarked_S  Pclass_1  \\\n",
       "0 22.000 2.482  0.000  0.730           0           0           1         0   \n",
       "1 38.000 6.003  0.000  0.730           1           0           0         1   \n",
       "2 26.000 2.591  0.000  0.000           0           0           1         0   \n",
       "3 35.000 5.464  0.000  0.730           0           0           1         1   \n",
       "4 35.000 2.610  0.000  0.000           0           0           1         0   \n",
       "\n",
       "   Pclass_2  Pclass_3  Sex_female  Sex_male  \n",
       "0         0         1           0         1  \n",
       "1         0         0           1         0  \n",
       "2         0         1           1         0  \n",
       "3         0         0           1         0  \n",
       "4         0         1           0         1  "
      ]
     },
     "execution_count": 68,
     "metadata": {},
     "output_type": "execute_result"
    }
   ],
   "source": [
    "train.head()"
   ]
  },
  {
   "cell_type": "code",
   "execution_count": 5,
   "metadata": {},
   "outputs": [
    {
     "ename": "NameError",
     "evalue": "name 'train' is not defined",
     "output_type": "error",
     "traceback": [
      "\u001b[1;31m---------------------------------------------------------------------------\u001b[0m",
      "\u001b[1;31mNameError\u001b[0m                                 Traceback (most recent call last)",
      "\u001b[1;32m<ipython-input-5-8cbb5e0ad755>\u001b[0m in \u001b[0;36m<module>\u001b[1;34m\u001b[0m\n\u001b[1;32m----> 1\u001b[1;33m \u001b[0mtrain1\u001b[0m \u001b[1;33m=\u001b[0m \u001b[0mtrain\u001b[0m\u001b[1;33m.\u001b[0m\u001b[0mcopy\u001b[0m\u001b[1;33m(\u001b[0m\u001b[0mdeep\u001b[0m \u001b[1;33m=\u001b[0m \u001b[1;32mTrue\u001b[0m\u001b[1;33m)\u001b[0m\u001b[1;33m\u001b[0m\u001b[1;33m\u001b[0m\u001b[0m\n\u001b[0m\u001b[0;32m      2\u001b[0m \u001b[0mtest1\u001b[0m \u001b[1;33m=\u001b[0m \u001b[0mtest\u001b[0m\u001b[1;33m.\u001b[0m\u001b[0mcopy\u001b[0m\u001b[1;33m(\u001b[0m\u001b[0mdeep\u001b[0m \u001b[1;33m=\u001b[0m \u001b[1;32mTrue\u001b[0m\u001b[1;33m)\u001b[0m\u001b[1;33m\u001b[0m\u001b[1;33m\u001b[0m\u001b[0m\n",
      "\u001b[1;31mNameError\u001b[0m: name 'train' is not defined"
     ]
    }
   ],
   "source": [
    "train1 = train.copy(deep = True)\n",
    "test1 = test.copy(deep = True)"
   ]
  },
  {
   "cell_type": "code",
   "execution_count": 70,
   "metadata": {},
   "outputs": [],
   "source": [
    "from sklearn.preprocessing import StandardScaler\n",
    "sc = StandardScaler()\n",
    "train1 = sc.fit_transform(train1)\n",
    "test1 = sc.transform(test1)"
   ]
  },
  {
   "cell_type": "code",
   "execution_count": 2,
   "metadata": {},
   "outputs": [],
   "source": [
    "import keras"
   ]
  },
  {
   "cell_type": "code",
   "execution_count": 4,
   "metadata": {},
   "outputs": [
    {
     "ename": "NameError",
     "evalue": "name 'train1' is not defined",
     "output_type": "error",
     "traceback": [
      "\u001b[1;31m---------------------------------------------------------------------------\u001b[0m",
      "\u001b[1;31mNameError\u001b[0m                                 Traceback (most recent call last)",
      "\u001b[1;32m<ipython-input-4-c5834e5bc4bd>\u001b[0m in \u001b[0;36m<module>\u001b[1;34m\u001b[0m\n\u001b[0;32m     14\u001b[0m \u001b[0mclassifier\u001b[0m \u001b[1;33m=\u001b[0m \u001b[0mKerasClassifier\u001b[0m\u001b[1;33m(\u001b[0m\u001b[0mbuild_fn\u001b[0m\u001b[1;33m=\u001b[0m\u001b[0mbuild_classifier\u001b[0m\u001b[1;33m,\u001b[0m\u001b[0mbatch_size\u001b[0m\u001b[1;33m=\u001b[0m\u001b[1;36m10\u001b[0m\u001b[1;33m,\u001b[0m\u001b[0mnb_epoch\u001b[0m \u001b[1;33m=\u001b[0m \u001b[1;36m200\u001b[0m\u001b[1;33m)\u001b[0m\u001b[1;33m\u001b[0m\u001b[1;33m\u001b[0m\u001b[0m\n\u001b[0;32m     15\u001b[0m \u001b[0mkfold\u001b[0m \u001b[1;33m=\u001b[0m \u001b[0mKFold\u001b[0m\u001b[1;33m(\u001b[0m\u001b[0mn_splits\u001b[0m\u001b[1;33m=\u001b[0m\u001b[1;36m5\u001b[0m\u001b[1;33m,\u001b[0m\u001b[0mshuffle\u001b[0m\u001b[1;33m=\u001b[0m\u001b[1;32mTrue\u001b[0m\u001b[1;33m,\u001b[0m\u001b[0mrandom_state\u001b[0m\u001b[1;33m=\u001b[0m\u001b[1;36m0\u001b[0m\u001b[1;33m)\u001b[0m\u001b[1;33m\u001b[0m\u001b[1;33m\u001b[0m\u001b[0m\n\u001b[1;32m---> 16\u001b[1;33m \u001b[0maccuracies\u001b[0m \u001b[1;33m=\u001b[0m \u001b[0mcross_val_score\u001b[0m\u001b[1;33m(\u001b[0m\u001b[0mestimator\u001b[0m\u001b[1;33m=\u001b[0m \u001b[0mclassifier\u001b[0m\u001b[1;33m,\u001b[0m\u001b[0mX\u001b[0m \u001b[1;33m=\u001b[0m \u001b[0mtrain1\u001b[0m\u001b[1;33m,\u001b[0m\u001b[0my\u001b[0m \u001b[1;33m=\u001b[0m \u001b[0my_train\u001b[0m\u001b[1;33m,\u001b[0m\u001b[0mcv\u001b[0m \u001b[1;33m=\u001b[0m\u001b[0mkfold\u001b[0m\u001b[1;33m,\u001b[0m\u001b[0mn_jobs\u001b[0m \u001b[1;33m=\u001b[0m \u001b[1;33m-\u001b[0m\u001b[1;36m1\u001b[0m\u001b[1;33m)\u001b[0m\u001b[1;33m\u001b[0m\u001b[1;33m\u001b[0m\u001b[0m\n\u001b[0m",
      "\u001b[1;31mNameError\u001b[0m: name 'train1' is not defined"
     ]
    }
   ],
   "source": [
    "from keras.wrappers.scikit_learn import KerasClassifier\n",
    "from keras.models import Sequential\n",
    "from keras.layers import Dense\n",
    "from sklearn.model_selection import cross_val_score\n",
    "def build_classifier():\n",
    "    classifier = Sequential()\n",
    "    classifier.add(Dense(output_dim = 7,init = 'uniform',activation = 'relu',input_dim = 12)) ##1st hidden layer\n",
    "    classifier.add(Dense(output_dim = 7,init = 'uniform',activation = 'relu')) ## with 2- 61%\n",
    "    classifier.add(Dense(output_dim = 5,init = 'uniform',activation = 'relu')) ##increased later to get better accuracy\n",
    "    classifier.add(Dense(output_dim = 5,init = 'uniform',activation = 'relu'))\n",
    "    classifier.add(Dense(output_dim = 1,init = 'uniform',activation = 'sigmoid')) ##sigmoid activation fn(probablistic approch)\n",
    "    classifier.compile(optimizer='adam',loss='binary_crossentropy',metrics=['accuracy'])\n",
    "    return classifier ##Local\n",
    "classifier = KerasClassifier(build_fn=build_classifier,batch_size=10,nb_epoch = 200)\n",
    "kfold = KFold(n_splits=5,shuffle=True,random_state=0)\n",
    "accuracies = cross_val_score(estimator= classifier,X = train1,y = y_train,cv =kfold,n_jobs = -1)"
   ]
  },
  {
   "cell_type": "code",
   "execution_count": 268,
   "metadata": {},
   "outputs": [
    {
     "data": {
      "text/plain": [
       "(0.6161634445190429, 0.04134895501701335)"
      ]
     },
     "execution_count": 268,
     "metadata": {},
     "output_type": "execute_result"
    }
   ],
   "source": [
    "mean = accuracies.mean()\n",
    "variance = accuracies.std()\n",
    "mean,variance"
   ]
  },
  {
   "cell_type": "code",
   "execution_count": 227,
   "metadata": {},
   "outputs": [
    {
     "data": {
      "text/plain": [
       "array([0.67039108, 0.55617976, 0.61235952, 0.5955056 , 0.64606744])"
      ]
     },
     "execution_count": 227,
     "metadata": {},
     "output_type": "execute_result"
    }
   ],
   "source": [
    "accuracies"
   ]
  },
  {
   "cell_type": "code",
   "execution_count": 269,
   "metadata": {},
   "outputs": [
    {
     "name": "stdout",
     "output_type": "stream",
     "text": [
      "Epoch 1/100\n",
      "891/891 [==============================] - 3s 4ms/step - loss: 0.6903 - accuracy: 0.6162\n",
      "Epoch 2/100\n",
      "891/891 [==============================] - 0s 157us/step - loss: 0.6686 - accuracy: 0.6162\n",
      "Epoch 3/100\n",
      "891/891 [==============================] - 0s 121us/step - loss: 0.5704 - accuracy: 0.6162\n",
      "Epoch 4/100\n",
      "891/891 [==============================] - 0s 82us/step - loss: 0.5422 - accuracy: 0.6162\n",
      "Epoch 5/100\n",
      "891/891 [==============================] - 0s 81us/step - loss: 0.5300 - accuracy: 0.7037\n",
      "Epoch 6/100\n",
      "891/891 [==============================] - 0s 266us/step - loss: 0.5196 - accuracy: 0.8171\n",
      "Epoch 7/100\n",
      "891/891 [==============================] - 0s 193us/step - loss: 0.5057 - accuracy: 0.8171\n",
      "Epoch 8/100\n",
      "891/891 [==============================] - 0s 188us/step - loss: 0.4937 - accuracy: 0.8081\n",
      "Epoch 9/100\n",
      "891/891 [==============================] - 0s 535us/step - loss: 0.4816 - accuracy: 0.8103\n",
      "Epoch 10/100\n",
      "891/891 [==============================] - 0s 459us/step - loss: 0.4704 - accuracy: 0.8126\n",
      "Epoch 11/100\n",
      "891/891 [==============================] - 0s 167us/step - loss: 0.4619 - accuracy: 0.8171\n",
      "Epoch 12/100\n",
      "891/891 [==============================] - 1s 1ms/step - loss: 0.4537 - accuracy: 0.8182\n",
      "Epoch 13/100\n",
      "891/891 [==============================] - 0s 172us/step - loss: 0.4465 - accuracy: 0.8249\n",
      "Epoch 14/100\n",
      "891/891 [==============================] - 0s 265us/step - loss: 0.4404 - accuracy: 0.8159\n",
      "Epoch 15/100\n",
      "891/891 [==============================] - 0s 133us/step - loss: 0.4352 - accuracy: 0.8193\n",
      "Epoch 16/100\n",
      "891/891 [==============================] - 0s 154us/step - loss: 0.4300 - accuracy: 0.8272\n",
      "Epoch 17/100\n",
      "891/891 [==============================] - 0s 199us/step - loss: 0.4263 - accuracy: 0.8215\n",
      "Epoch 18/100\n",
      "891/891 [==============================] - 0s 200us/step - loss: 0.4228 - accuracy: 0.8272\n",
      "Epoch 19/100\n",
      "891/891 [==============================] - 0s 148us/step - loss: 0.4200 - accuracy: 0.8272\n",
      "Epoch 20/100\n",
      "891/891 [==============================] - 0s 168us/step - loss: 0.4152 - accuracy: 0.8272\n",
      "Epoch 21/100\n",
      "891/891 [==============================] - 0s 139us/step - loss: 0.4140 - accuracy: 0.8249\n",
      "Epoch 22/100\n",
      "891/891 [==============================] - 0s 129us/step - loss: 0.4105 - accuracy: 0.8316\n",
      "Epoch 23/100\n",
      "891/891 [==============================] - 0s 185us/step - loss: 0.4080 - accuracy: 0.8249\n",
      "Epoch 24/100\n",
      "891/891 [==============================] - 0s 191us/step - loss: 0.4063 - accuracy: 0.8350\n",
      "Epoch 25/100\n",
      "891/891 [==============================] - 0s 156us/step - loss: 0.4038 - accuracy: 0.8272\n",
      "Epoch 26/100\n",
      "891/891 [==============================] - 0s 131us/step - loss: 0.4025 - accuracy: 0.8294\n",
      "Epoch 27/100\n",
      "891/891 [==============================] - 0s 124us/step - loss: 0.4020 - accuracy: 0.8316\n",
      "Epoch 28/100\n",
      "891/891 [==============================] - 0s 124us/step - loss: 0.3994 - accuracy: 0.8361\n",
      "Epoch 29/100\n",
      "891/891 [==============================] - 0s 122us/step - loss: 0.3990 - accuracy: 0.8305\n",
      "Epoch 30/100\n",
      "891/891 [==============================] - 0s 121us/step - loss: 0.3984 - accuracy: 0.8305\n",
      "Epoch 31/100\n",
      "891/891 [==============================] - 0s 161us/step - loss: 0.3970 - accuracy: 0.8328\n",
      "Epoch 32/100\n",
      "891/891 [==============================] - 0s 237us/step - loss: 0.3949 - accuracy: 0.8328\n",
      "Epoch 33/100\n",
      "891/891 [==============================] - 0s 227us/step - loss: 0.3948 - accuracy: 0.8350\n",
      "Epoch 34/100\n",
      "891/891 [==============================] - 0s 215us/step - loss: 0.3932 - accuracy: 0.8316\n",
      "Epoch 35/100\n",
      "891/891 [==============================] - 0s 379us/step - loss: 0.3928 - accuracy: 0.8350\n",
      "Epoch 36/100\n",
      "891/891 [==============================] - 0s 134us/step - loss: 0.3928 - accuracy: 0.8339\n",
      "Epoch 37/100\n",
      "891/891 [==============================] - 0s 328us/step - loss: 0.3911 - accuracy: 0.8406\n",
      "Epoch 38/100\n",
      "891/891 [==============================] - 0s 114us/step - loss: 0.3904 - accuracy: 0.8361\n",
      "Epoch 39/100\n",
      "891/891 [==============================] - 0s 259us/step - loss: 0.3901 - accuracy: 0.8350\n",
      "Epoch 40/100\n",
      "891/891 [==============================] - 0s 121us/step - loss: 0.3891 - accuracy: 0.8339\n",
      "Epoch 41/100\n",
      "891/891 [==============================] - 0s 112us/step - loss: 0.3882 - accuracy: 0.8339\n",
      "Epoch 42/100\n",
      "891/891 [==============================] - 0s 110us/step - loss: 0.3876 - accuracy: 0.8316\n",
      "Epoch 43/100\n",
      "891/891 [==============================] - 0s 110us/step - loss: 0.3876 - accuracy: 0.8361\n",
      "Epoch 44/100\n",
      "891/891 [==============================] - 0s 115us/step - loss: 0.3870 - accuracy: 0.8361\n",
      "Epoch 45/100\n",
      "891/891 [==============================] - 0s 114us/step - loss: 0.3871 - accuracy: 0.8395\n",
      "Epoch 46/100\n",
      "891/891 [==============================] - 0s 106us/step - loss: 0.3869 - accuracy: 0.8395\n",
      "Epoch 47/100\n",
      "891/891 [==============================] - 0s 114us/step - loss: 0.3866 - accuracy: 0.8384\n",
      "Epoch 48/100\n",
      "891/891 [==============================] - 0s 121us/step - loss: 0.3858 - accuracy: 0.8339\n",
      "Epoch 49/100\n",
      "891/891 [==============================] - 0s 122us/step - loss: 0.3834 - accuracy: 0.8384\n",
      "Epoch 50/100\n",
      "891/891 [==============================] - 0s 141us/step - loss: 0.3840 - accuracy: 0.8395\n",
      "Epoch 51/100\n",
      "891/891 [==============================] - 0s 148us/step - loss: 0.3833 - accuracy: 0.8440\n",
      "Epoch 52/100\n",
      "891/891 [==============================] - 0s 130us/step - loss: 0.3849 - accuracy: 0.8395\n",
      "Epoch 53/100\n",
      "891/891 [==============================] - 0s 113us/step - loss: 0.3838 - accuracy: 0.8373\n",
      "Epoch 54/100\n",
      "891/891 [==============================] - 0s 109us/step - loss: 0.3821 - accuracy: 0.8361\n",
      "Epoch 55/100\n",
      "891/891 [==============================] - 0s 114us/step - loss: 0.3829 - accuracy: 0.8395\n",
      "Epoch 56/100\n",
      "891/891 [==============================] - 0s 97us/step - loss: 0.3825 - accuracy: 0.8373\n",
      "Epoch 57/100\n",
      "891/891 [==============================] - 0s 118us/step - loss: 0.3829 - accuracy: 0.8361\n",
      "Epoch 58/100\n",
      "891/891 [==============================] - 0s 170us/step - loss: 0.3832 - accuracy: 0.8429\n",
      "Epoch 59/100\n",
      "891/891 [==============================] - 0s 201us/step - loss: 0.3842 - accuracy: 0.8395\n",
      "Epoch 60/100\n",
      "891/891 [==============================] - 0s 168us/step - loss: 0.3812 - accuracy: 0.8451\n",
      "Epoch 61/100\n",
      "891/891 [==============================] - 0s 210us/step - loss: 0.3815 - accuracy: 0.8429\n",
      "Epoch 62/100\n",
      "891/891 [==============================] - 0s 168us/step - loss: 0.3830 - accuracy: 0.8418\n",
      "Epoch 63/100\n",
      "891/891 [==============================] - 0s 205us/step - loss: 0.3816 - accuracy: 0.8418\n",
      "Epoch 64/100\n",
      "891/891 [==============================] - 0s 168us/step - loss: 0.3812 - accuracy: 0.8384\n",
      "Epoch 65/100\n",
      "891/891 [==============================] - 0s 124us/step - loss: 0.3813 - accuracy: 0.8395\n",
      "Epoch 66/100\n",
      "891/891 [==============================] - 0s 83us/step - loss: 0.3807 - accuracy: 0.8451\n",
      "Epoch 67/100\n",
      "891/891 [==============================] - 0s 112us/step - loss: 0.3804 - accuracy: 0.8395\n",
      "Epoch 68/100\n",
      "891/891 [==============================] - 0s 112us/step - loss: 0.3794 - accuracy: 0.8451\n",
      "Epoch 69/100\n",
      "891/891 [==============================] - 0s 177us/step - loss: 0.3801 - accuracy: 0.8406\n",
      "Epoch 70/100\n",
      "891/891 [==============================] - 0s 169us/step - loss: 0.3788 - accuracy: 0.8451\n",
      "Epoch 71/100\n",
      "891/891 [==============================] - 0s 161us/step - loss: 0.3802 - accuracy: 0.8406\n",
      "Epoch 72/100\n",
      "891/891 [==============================] - 0s 214us/step - loss: 0.3802 - accuracy: 0.8429\n",
      "Epoch 73/100\n",
      "891/891 [==============================] - 0s 257us/step - loss: 0.3796 - accuracy: 0.8361\n",
      "Epoch 74/100\n",
      "891/891 [==============================] - 0s 218us/step - loss: 0.3798 - accuracy: 0.8418\n",
      "Epoch 75/100\n",
      "891/891 [==============================] - 0s 185us/step - loss: 0.3792 - accuracy: 0.8429\n",
      "Epoch 76/100\n",
      "891/891 [==============================] - 0s 129us/step - loss: 0.3775 - accuracy: 0.8418\n",
      "Epoch 77/100\n",
      "891/891 [==============================] - 0s 137us/step - loss: 0.3780 - accuracy: 0.8429\n",
      "Epoch 78/100\n",
      "891/891 [==============================] - 0s 134us/step - loss: 0.3783 - accuracy: 0.8418\n",
      "Epoch 79/100\n",
      "891/891 [==============================] - 0s 167us/step - loss: 0.3776 - accuracy: 0.8429\n"
     ]
    },
    {
     "name": "stdout",
     "output_type": "stream",
     "text": [
      "Epoch 80/100\n",
      "891/891 [==============================] - 0s 148us/step - loss: 0.3786 - accuracy: 0.8395\n",
      "Epoch 81/100\n",
      "891/891 [==============================] - 0s 138us/step - loss: 0.3773 - accuracy: 0.8440\n",
      "Epoch 82/100\n",
      "891/891 [==============================] - 0s 148us/step - loss: 0.3769 - accuracy: 0.8429\n",
      "Epoch 83/100\n",
      "891/891 [==============================] - 0s 134us/step - loss: 0.3779 - accuracy: 0.8406\n",
      "Epoch 84/100\n",
      "891/891 [==============================] - 0s 140us/step - loss: 0.3776 - accuracy: 0.8462\n",
      "Epoch 85/100\n",
      "891/891 [==============================] - 0s 134us/step - loss: 0.3765 - accuracy: 0.8440\n",
      "Epoch 86/100\n",
      "891/891 [==============================] - 0s 134us/step - loss: 0.3781 - accuracy: 0.8474\n",
      "Epoch 87/100\n",
      "891/891 [==============================] - 0s 132us/step - loss: 0.3764 - accuracy: 0.8418\n",
      "Epoch 88/100\n",
      "891/891 [==============================] - 0s 101us/step - loss: 0.3772 - accuracy: 0.8429\n",
      "Epoch 89/100\n",
      "891/891 [==============================] - 0s 101us/step - loss: 0.3761 - accuracy: 0.8474\n",
      "Epoch 90/100\n",
      "891/891 [==============================] - 0s 113us/step - loss: 0.3781 - accuracy: 0.8485\n",
      "Epoch 91/100\n",
      "891/891 [==============================] - 0s 107us/step - loss: 0.3774 - accuracy: 0.8406\n",
      "Epoch 92/100\n",
      "891/891 [==============================] - 0s 107us/step - loss: 0.3773 - accuracy: 0.8462\n",
      "Epoch 93/100\n",
      "891/891 [==============================] - 0s 97us/step - loss: 0.3745 - accuracy: 0.8462\n",
      "Epoch 94/100\n",
      "891/891 [==============================] - 0s 99us/step - loss: 0.3774 - accuracy: 0.8440\n",
      "Epoch 95/100\n",
      "891/891 [==============================] - 0s 105us/step - loss: 0.3768 - accuracy: 0.8496\n",
      "Epoch 96/100\n",
      "891/891 [==============================] - 0s 103us/step - loss: 0.3751 - accuracy: 0.8440\n",
      "Epoch 97/100\n",
      "891/891 [==============================] - 0s 102us/step - loss: 0.3747 - accuracy: 0.8429\n",
      "Epoch 98/100\n",
      "891/891 [==============================] - 0s 107us/step - loss: 0.3749 - accuracy: 0.8429\n",
      "Epoch 99/100\n",
      "891/891 [==============================] - 0s 107us/step - loss: 0.3755 - accuracy: 0.8496\n",
      "Epoch 100/100\n",
      "891/891 [==============================] - 0s 97us/step - loss: 0.3743 - accuracy: 0.8440\n"
     ]
    },
    {
     "data": {
      "text/plain": [
       "<keras.callbacks.callbacks.History at 0x1aede527b48>"
      ]
     },
     "execution_count": 269,
     "metadata": {},
     "output_type": "execute_result"
    }
   ],
   "source": [
    "classifier.fit(train1,y_train,batch_size = 10, nb_epoch = 100)"
   ]
  },
  {
   "cell_type": "code",
   "execution_count": 270,
   "metadata": {},
   "outputs": [
    {
     "data": {
      "text/plain": [
       "0.8496071829405163"
      ]
     },
     "execution_count": 270,
     "metadata": {},
     "output_type": "execute_result"
    }
   ],
   "source": [
    "accuracy_score(y_train,classifier.predict(train1))"
   ]
  },
  {
   "cell_type": "code",
   "execution_count": 271,
   "metadata": {},
   "outputs": [],
   "source": [
    "y_pred = classifier.predict(test1)\n",
    "y_pred = pd.DataFrame(y_pred)"
   ]
  },
  {
   "cell_type": "code",
   "execution_count": 250,
   "metadata": {},
   "outputs": [],
   "source": [
    "y_pred.to_csv('titanic_submission_neural1.csv')"
   ]
  },
  {
   "cell_type": "code",
   "execution_count": 73,
   "metadata": {},
   "outputs": [
    {
     "name": "stdout",
     "output_type": "stream",
     "text": [
      "WARNING:tensorflow:From C:\\Users\\clicklabs\\Anaconda3\\lib\\site-packages\\tensorflow\\python\\ops\\resource_variable_ops.py:435: colocate_with (from tensorflow.python.framework.ops) is deprecated and will be removed in a future version.\n",
      "Instructions for updating:\n",
      "Colocations handled automatically by placer.\n",
      "WARNING:tensorflow:From C:\\Users\\clicklabs\\Anaconda3\\lib\\site-packages\\tensorflow\\python\\ops\\math_ops.py:3066: to_int32 (from tensorflow.python.ops.math_ops) is deprecated and will be removed in a future version.\n",
      "Instructions for updating:\n",
      "Use tf.cast instead.\n",
      "Epoch 1/1\n",
      "712/712 [==============================] - 0s 251us/step - loss: 0.6927 - accuracy: 0.5309\n",
      "Epoch 1/1\n",
      "713/713 [==============================] - 0s 246us/step - loss: 0.6911 - accuracy: 0.6311\n",
      "Epoch 1/1\n",
      "713/713 [==============================] - 0s 257us/step - loss: 0.6922 - accuracy: 0.5933\n",
      "Epoch 1/1\n",
      "713/713 [==============================] - 0s 271us/step - loss: 0.6918 - accuracy: 0.5975\n",
      "Epoch 1/1\n",
      "713/713 [==============================] - 0s 271us/step - loss: 0.6917 - accuracy: 0.6157\n",
      "Epoch 1/1\n",
      "712/712 [==============================] - 0s 242us/step - loss: 0.6902 - accuracy: 0.6067\n",
      "Epoch 1/1\n",
      "713/713 [==============================] - 0s 252us/step - loss: 0.6904 - accuracy: 0.6255\n",
      "Epoch 1/1\n",
      "713/713 [==============================] - 0s 261us/step - loss: 0.6900 - accuracy: 0.6171\n",
      "Epoch 1/1\n",
      "713/713 [==============================] - 0s 271us/step - loss: 0.6896 - accuracy: 0.6213\n",
      "Epoch 1/1\n",
      "713/713 [==============================] - 0s 280us/step - loss: 0.6907 - accuracy: 0.6101\n",
      "Epoch 1/1\n",
      "712/712 [==============================] - 0s 329us/step - loss: 0.6916 - accuracy: 0.6025\n",
      "Epoch 1/1\n",
      "713/713 [==============================] - 0s 332us/step - loss: 0.6914 - accuracy: 0.6227\n",
      "Epoch 1/1\n",
      "713/713 [==============================] - 0s 345us/step - loss: 0.6919 - accuracy: 0.6031\n",
      "Epoch 1/1\n",
      "713/713 [==============================] - 0s 369us/step - loss: 0.6913 - accuracy: 0.6185\n",
      "Epoch 1/1\n",
      "713/713 [==============================] - 0s 369us/step - loss: 0.6917 - accuracy: 0.5989\n",
      "Epoch 1/1\n",
      "712/712 [==============================] - 0s 388us/step - loss: 0.6903 - accuracy: 0.5983\n",
      "Epoch 1/1\n",
      "713/713 [==============================] - 0s 357us/step - loss: 0.6891 - accuracy: 0.6311\n",
      "Epoch 1/1\n",
      "713/713 [==============================] - 0s 361us/step - loss: 0.6911 - accuracy: 0.5905\n",
      "Epoch 1/1\n",
      "713/713 [==============================] - 0s 361us/step - loss: 0.6900 - accuracy: 0.6171\n",
      "Epoch 1/1\n",
      "713/713 [==============================] - 0s 582us/step - loss: 0.6906 - accuracy: 0.6101\n",
      "Epoch 1/1\n",
      "712/712 [==============================] - 0s 470us/step - loss: 0.6920 - accuracy: 0.5941\n",
      "Epoch 1/1\n",
      "713/713 [==============================] - 0s 674us/step - loss: 0.6916 - accuracy: 0.6185\n",
      "Epoch 1/1\n",
      "713/713 [==============================] - 0s 509us/step - loss: 0.6917 - accuracy: 0.6073\n",
      "Epoch 1/1\n",
      "713/713 [==============================] - 1s 883us/step - loss: 0.6917 - accuracy: 0.5905\n",
      "Epoch 1/1\n",
      "713/713 [==============================] - 0s 597us/step - loss: 0.6919 - accuracy: 0.6101\n",
      "Epoch 1/1\n",
      "712/712 [==============================] - 0s 507us/step - loss: 0.6908 - accuracy: 0.5969\n",
      "Epoch 1/1\n",
      "713/713 [==============================] - 0s 449us/step - loss: 0.6901 - accuracy: 0.6311\n",
      "Epoch 1/1\n",
      "713/713 [==============================] - 0s 599us/step - loss: 0.6909 - accuracy: 0.6101\n",
      "Epoch 1/1\n",
      "713/713 [==============================] - 0s 582us/step - loss: 0.6900 - accuracy: 0.6157\n",
      "Epoch 1/1\n",
      "713/713 [==============================] - 0s 604us/step - loss: 0.6906 - accuracy: 0.6073\n",
      "Epoch 1/1\n",
      "712/712 [==============================] - 0s 570us/step - loss: 0.6918 - accuracy: 0.5927\n",
      "Epoch 1/1\n",
      "713/713 [==============================] - 0s 483us/step - loss: 0.6914 - accuracy: 0.6325\n",
      "Epoch 1/1\n",
      "713/713 [==============================] - 0s 525us/step - loss: 0.6916 - accuracy: 0.6045\n",
      "Epoch 1/1\n",
      "713/713 [==============================] - 0s 510us/step - loss: 0.6914 - accuracy: 0.6213\n",
      "Epoch 1/1\n",
      "713/713 [==============================] - 0s 685us/step - loss: 0.6918 - accuracy: 0.5989\n",
      "Epoch 1/1\n",
      "712/712 [==============================] - 0s 476us/step - loss: 0.6913 - accuracy: 0.5871\n",
      "Epoch 1/1\n",
      "713/713 [==============================] - 0s 501us/step - loss: 0.6903 - accuracy: 0.6059\n",
      "Epoch 1/1\n",
      "713/713 [==============================] - 0s 504us/step - loss: 0.6907 - accuracy: 0.6171\n",
      "Epoch 1/1\n",
      "713/713 [==============================] - 0s 512us/step - loss: 0.6896 - accuracy: 0.6087\n",
      "Epoch 1/1\n",
      "713/713 [==============================] - 0s 517us/step - loss: 0.6906 - accuracy: 0.5961\n",
      "Epoch 1/1\n",
      "712/712 [==============================] - 0s 563us/step - loss: 0.6917 - accuracy: 0.5927\n",
      "Epoch 1/1\n",
      "713/713 [==============================] - 0s 575us/step - loss: 0.6914 - accuracy: 0.6269\n",
      "Epoch 1/1\n",
      "713/713 [==============================] - 0s 571us/step - loss: 0.6913 - accuracy: 0.6157\n",
      "Epoch 1/1\n",
      "713/713 [==============================] - 1s 1ms/step - loss: 0.6920 - accuracy: 0.5933\n",
      "Epoch 1/1\n",
      "713/713 [==============================] - 0s 611us/step - loss: 0.6918 - accuracy: 0.5919\n",
      "Epoch 1/1\n",
      "712/712 [==============================] - 0s 588us/step - loss: 0.6904 - accuracy: 0.5941\n",
      "Epoch 1/1\n",
      "713/713 [==============================] - 1s 781us/step - loss: 0.6912 - accuracy: 0.6087\n",
      "Epoch 1/1\n",
      "713/713 [==============================] - 0s 607us/step - loss: 0.6901 - accuracy: 0.6073\n",
      "Epoch 1/1\n",
      "713/713 [==============================] - 0s 596us/step - loss: 0.6899 - accuracy: 0.6227\n",
      "Epoch 1/1\n",
      "713/713 [==============================] - 0s 624us/step - loss: 0.6905 - accuracy: 0.6017\n",
      "Epoch 1/1\n",
      "712/712 [==============================] - 1s 867us/step - loss: 0.6922 - accuracy: 0.6011\n",
      "Epoch 1/1\n",
      "713/713 [==============================] - 0s 663us/step - loss: 0.6916 - accuracy: 0.6311\n",
      "Epoch 1/1\n",
      "713/713 [==============================] - 0s 665us/step - loss: 0.6922 - accuracy: 0.6143\n",
      "Epoch 1/1\n",
      "713/713 [==============================] - 0s 688us/step - loss: 0.6918 - accuracy: 0.6185\n",
      "Epoch 1/1\n",
      "713/713 [==============================] - 1s 704us/step - loss: 0.6919 - accuracy: 0.6073\n",
      "Epoch 1/1\n",
      "712/712 [==============================] - 0s 678us/step - loss: 0.6911 - accuracy: 0.5997\n",
      "Epoch 1/1\n",
      "713/713 [==============================] - 0s 669us/step - loss: 0.6900 - accuracy: 0.6255\n",
      "Epoch 1/1\n",
      "713/713 [==============================] - 0s 688us/step - loss: 0.6910 - accuracy: 0.6185\n",
      "Epoch 1/1\n",
      "713/713 [==============================] - 1s 743us/step - loss: 0.6912 - accuracy: 0.5947\n",
      "Epoch 1/1\n",
      "713/713 [==============================] - 1s 705us/step - loss: 0.6910 - accuracy: 0.5891\n",
      "Epoch 1/1\n",
      "712/712 [==============================] - 1s 756us/step - loss: 0.6921 - accuracy: 0.5899\n",
      "Epoch 1/1\n",
      "713/713 [==============================] - 1s 766us/step - loss: 0.6920 - accuracy: 0.6283\n",
      "Epoch 1/1\n",
      "713/713 [==============================] - 1s 776us/step - loss: 0.6920 - accuracy: 0.6199\n",
      "Epoch 1/1\n",
      "713/713 [==============================] - 1s 782us/step - loss: 0.6915 - accuracy: 0.6143\n",
      "Epoch 1/1\n",
      "713/713 [==============================] - 1s 796us/step - loss: 0.6922 - accuracy: 0.6115\n",
      "Epoch 1/1\n",
      "712/712 [==============================] - 1s 781us/step - loss: 0.6912 - accuracy: 0.6011\n",
      "Epoch 1/1\n",
      "713/713 [==============================] - 1s 778us/step - loss: 0.6904 - accuracy: 0.6129\n",
      "Epoch 1/1\n",
      "713/713 [==============================] - 1s 867us/step - loss: 0.6907 - accuracy: 0.6171\n",
      "Epoch 1/1\n",
      "713/713 [==============================] - 1s 781us/step - loss: 0.6912 - accuracy: 0.6087\n",
      "Epoch 1/1\n",
      "713/713 [==============================] - 1s 798us/step - loss: 0.6910 - accuracy: 0.6073\n",
      "Epoch 1/1\n",
      "712/712 [==============================] - 1s 842us/step - loss: 0.6922 - accuracy: 0.5969\n",
      "Epoch 1/1\n",
      "713/713 [==============================] - 1s 854us/step - loss: 0.6917 - accuracy: 0.6269\n",
      "Epoch 1/1\n",
      "713/713 [==============================] - 1s 866us/step - loss: 0.6918 - accuracy: 0.6143\n",
      "Epoch 1/1\n",
      "713/713 [==============================] - 1s 884us/step - loss: 0.6922 - accuracy: 0.6059\n",
      "Epoch 1/1\n",
      "713/713 [==============================] - 1s 947us/step - loss: 0.6919 - accuracy: 0.5975\n",
      "Epoch 1/1\n",
      "712/712 [==============================] - 1s 926us/step - loss: 0.6920 - accuracy: 0.5843\n",
      "Epoch 1/1\n",
      "713/713 [==============================] - 1s 1ms/step - loss: 0.6909 - accuracy: 0.6143\n",
      "Epoch 1/1\n",
      "713/713 [==============================] - 1s 871us/step - loss: 0.6899 - accuracy: 0.6171\n",
      "Epoch 1/1\n",
      "713/713 [==============================] - 1s 897us/step - loss: 0.6909 - accuracy: 0.6157\n",
      "Epoch 1/1\n",
      "713/713 [==============================] - 1s 877us/step - loss: 0.6912 - accuracy: 0.6003\n",
      "Epoch 1/1\n",
      "712/712 [==============================] - 1s 1ms/step - loss: 0.6920 - accuracy: 0.5913\n",
      "Epoch 1/1\n",
      "713/713 [==============================] - 1s 965us/step - loss: 0.6917 - accuracy: 0.6241\n",
      "Epoch 1/1\n",
      "713/713 [==============================] - 1s 978us/step - loss: 0.6920 - accuracy: 0.6115\n",
      "Epoch 1/1\n",
      "713/713 [==============================] - 1s 1ms/step - loss: 0.6917 - accuracy: 0.6241\n",
      "Epoch 1/1\n",
      "713/713 [==============================] - 1s 1ms/step - loss: 0.6923 - accuracy: 0.5933\n",
      "Epoch 1/1\n",
      "712/712 [==============================] - 1s 979us/step - loss: 0.6910 - accuracy: 0.6025\n",
      "Epoch 1/1\n",
      "713/713 [==============================] - 1s 974us/step - loss: 0.6903 - accuracy: 0.6311\n",
      "Epoch 1/1\n",
      "713/713 [==============================] - 1s 981us/step - loss: 0.6909 - accuracy: 0.6143\n",
      "Epoch 1/1\n",
      "713/713 [==============================] - 1s 1ms/step - loss: 0.6908 - accuracy: 0.6157\n",
      "Epoch 1/1\n",
      "713/713 [==============================] - 1s 1ms/step - loss: 0.6912 - accuracy: 0.6073\n",
      "Epoch 1/1\n",
      "712/712 [==============================] - 1s 1ms/step - loss: 0.6918 - accuracy: 0.6011\n",
      "Epoch 1/1\n",
      "713/713 [==============================] - 1s 1ms/step - loss: 0.6914 - accuracy: 0.6171\n",
      "Epoch 1/1\n",
      "713/713 [==============================] - 1s 1ms/step - loss: 0.6920 - accuracy: 0.6157\n",
      "Epoch 1/1\n",
      "713/713 [==============================] - 1s 1ms/step - loss: 0.6919 - accuracy: 0.6129\n",
      "Epoch 1/1\n",
      "713/713 [==============================] - 1s 1ms/step - loss: 0.6919 - accuracy: 0.6045\n",
      "Epoch 1/1\n",
      "712/712 [==============================] - 1s 1ms/step - loss: 0.6908 - accuracy: 0.5997\n",
      "Epoch 1/1\n",
      "713/713 [==============================] - 1s 1ms/step - loss: 0.6897 - accuracy: 0.6311\n",
      "Epoch 1/1\n",
      "713/713 [==============================] - 1s 1ms/step - loss: 0.6908 - accuracy: 0.6171\n",
      "Epoch 1/1\n",
      "713/713 [==============================] - 1s 1ms/step - loss: 0.6907 - accuracy: 0.6185\n",
      "Epoch 1/1\n",
      "713/713 [==============================] - 1s 1ms/step - loss: 0.6911 - accuracy: 0.6115\n",
      "Epoch 1/1\n",
      "891/891 [==============================] - 1s 982us/step - loss: 0.6903 - accuracy: 0.6162\n"
     ]
    }
   ],
   "source": [
    "from keras.wrappers.scikit_learn import KerasClassifier\n",
    "from keras.models import Sequential\n",
    "from keras.layers import Dense\n",
    "from sklearn.model_selection import cross_val_score\n",
    "from sklearn.model_selection import GridSearchCV\n",
    "def build_classifier(optimizer):\n",
    "    classifier = Sequential()\n",
    "    classifier.add(Dense(output_dim = 7,init = 'uniform',activation = 'relu',input_dim = 12)) ##1st hidden layer\n",
    "    classifier.add(Dense(output_dim = 7,init = 'uniform',activation = 'relu'))\n",
    "    classifier.add(Dense(output_dim = 1,init = 'uniform',activation = 'sigmoid')) ##sigmoid activation fn(probablistic approch)\n",
    "    classifier.compile(optimizer=optimizer,loss='binary_crossentropy',metrics=['accuracy'])\n",
    "    return classifier ##Local\n",
    "classifier = KerasClassifier(build_fn=build_classifier)\n",
    "params = {'batch_size': [25,32],'nb_epoch':[100,200,300,400,500],'optimizer':['adam','rmsprop']}\n",
    "\n",
    "grid_search = GridSearchCV(estimator=classifier,param_grid=params,scoring = 'accuracy',cv = 5)\n",
    "grid_search = grid_search.fit(train1,y_train)\n",
    "best_parameters = grid_search.best_params_\n",
    "best_accuracy = grid_search.best_score_"
   ]
  },
  {
   "cell_type": "code",
   "execution_count": 74,
   "metadata": {},
   "outputs": [
    {
     "data": {
      "text/plain": [
       "{'batch_size': 25, 'nb_epoch': 100, 'optimizer': 'adam'}"
      ]
     },
     "execution_count": 74,
     "metadata": {},
     "output_type": "execute_result"
    }
   ],
   "source": [
    "best_parameters"
   ]
  },
  {
   "cell_type": "code",
   "execution_count": 100,
   "metadata": {},
   "outputs": [
    {
     "name": "stdout",
     "output_type": "stream",
     "text": [
      "Epoch 1/200\n",
      "891/891 [==============================] - 2s 2ms/step - loss: 0.6913 - accuracy: 0.6162\n",
      "Epoch 2/200\n",
      "891/891 [==============================] - 0s 223us/step - loss: 0.6866 - accuracy: 0.6162\n",
      "Epoch 3/200\n",
      "891/891 [==============================] - 0s 220us/step - loss: 0.6729 - accuracy: 0.6162\n",
      "Epoch 4/200\n",
      "891/891 [==============================] - 0s 215us/step - loss: 0.6281 - accuracy: 0.6162\n",
      "Epoch 5/200\n",
      "891/891 [==============================] - 0s 221us/step - loss: 0.5594 - accuracy: 0.6756\n",
      "Epoch 6/200\n",
      "891/891 [==============================] - 0s 226us/step - loss: 0.5136 - accuracy: 0.8137\n",
      "Epoch 7/200\n",
      "891/891 [==============================] - 0s 222us/step - loss: 0.4757 - accuracy: 0.8159\n",
      "Epoch 8/200\n",
      "891/891 [==============================] - 0s 218us/step - loss: 0.4470 - accuracy: 0.8182\n",
      "Epoch 9/200\n",
      "891/891 [==============================] - 0s 214us/step - loss: 0.4355 - accuracy: 0.8148\n",
      "Epoch 10/200\n",
      "891/891 [==============================] - 0s 224us/step - loss: 0.4257 - accuracy: 0.8182\n",
      "Epoch 11/200\n",
      "891/891 [==============================] - 0s 226us/step - loss: 0.4208 - accuracy: 0.8204\n",
      "Epoch 12/200\n",
      "891/891 [==============================] - 0s 270us/step - loss: 0.4186 - accuracy: 0.8193\n",
      "Epoch 13/200\n",
      "891/891 [==============================] - 0s 257us/step - loss: 0.4168 - accuracy: 0.8215\n",
      "Epoch 14/200\n",
      "891/891 [==============================] - 0s 240us/step - loss: 0.4155 - accuracy: 0.8193\n",
      "Epoch 15/200\n",
      "891/891 [==============================] - 0s 288us/step - loss: 0.4139 - accuracy: 0.8215\n",
      "Epoch 16/200\n",
      "891/891 [==============================] - 0s 228us/step - loss: 0.4124 - accuracy: 0.8204\n",
      "Epoch 17/200\n",
      "891/891 [==============================] - 0s 212us/step - loss: 0.4111 - accuracy: 0.8260\n",
      "Epoch 18/200\n",
      "891/891 [==============================] - 0s 222us/step - loss: 0.4107 - accuracy: 0.8182\n",
      "Epoch 19/200\n",
      "891/891 [==============================] - 0s 209us/step - loss: 0.4097 - accuracy: 0.8238\n",
      "Epoch 20/200\n",
      "891/891 [==============================] - 0s 273us/step - loss: 0.4082 - accuracy: 0.8193\n",
      "Epoch 21/200\n",
      "891/891 [==============================] - 0s 262us/step - loss: 0.4096 - accuracy: 0.8171\n",
      "Epoch 22/200\n",
      "891/891 [==============================] - 0s 223us/step - loss: 0.4073 - accuracy: 0.8227\n",
      "Epoch 23/200\n",
      "891/891 [==============================] - 0s 217us/step - loss: 0.4073 - accuracy: 0.8227\n",
      "Epoch 24/200\n",
      "891/891 [==============================] - 0s 214us/step - loss: 0.4047 - accuracy: 0.8249\n",
      "Epoch 25/200\n",
      "891/891 [==============================] - 0s 217us/step - loss: 0.4058 - accuracy: 0.8260\n",
      "Epoch 26/200\n",
      "891/891 [==============================] - 0s 220us/step - loss: 0.4028 - accuracy: 0.8272\n",
      "Epoch 27/200\n",
      "891/891 [==============================] - 0s 217us/step - loss: 0.4025 - accuracy: 0.8316\n",
      "Epoch 28/200\n",
      "891/891 [==============================] - 0s 216us/step - loss: 0.4028 - accuracy: 0.8283\n",
      "Epoch 29/200\n",
      "891/891 [==============================] - 0s 215us/step - loss: 0.4006 - accuracy: 0.8283\n",
      "Epoch 30/200\n",
      "891/891 [==============================] - 0s 218us/step - loss: 0.3990 - accuracy: 0.8305\n",
      "Epoch 31/200\n",
      "891/891 [==============================] - 0s 217us/step - loss: 0.3981 - accuracy: 0.8249\n",
      "Epoch 32/200\n",
      "891/891 [==============================] - 0s 215us/step - loss: 0.3977 - accuracy: 0.8272\n",
      "Epoch 33/200\n",
      "891/891 [==============================] - 0s 218us/step - loss: 0.3961 - accuracy: 0.8328\n",
      "Epoch 34/200\n",
      "891/891 [==============================] - 0s 224us/step - loss: 0.3963 - accuracy: 0.8328\n",
      "Epoch 35/200\n",
      "891/891 [==============================] - 0s 219us/step - loss: 0.3954 - accuracy: 0.8328\n",
      "Epoch 36/200\n",
      "891/891 [==============================] - 0s 220us/step - loss: 0.3959 - accuracy: 0.8294\n",
      "Epoch 37/200\n",
      "891/891 [==============================] - 0s 219us/step - loss: 0.3953 - accuracy: 0.8305\n",
      "Epoch 38/200\n",
      "891/891 [==============================] - 0s 216us/step - loss: 0.3953 - accuracy: 0.8339\n",
      "Epoch 39/200\n",
      "891/891 [==============================] - 0s 214us/step - loss: 0.3929 - accuracy: 0.8294\n",
      "Epoch 40/200\n",
      "891/891 [==============================] - 0s 194us/step - loss: 0.3913 - accuracy: 0.8339\n",
      "Epoch 41/200\n",
      "891/891 [==============================] - 0s 235us/step - loss: 0.3917 - accuracy: 0.8339\n",
      "Epoch 42/200\n",
      "891/891 [==============================] - 0s 234us/step - loss: 0.3915 - accuracy: 0.8272\n",
      "Epoch 43/200\n",
      "891/891 [==============================] - 0s 210us/step - loss: 0.3902 - accuracy: 0.8305\n",
      "Epoch 44/200\n",
      "891/891 [==============================] - 0s 223us/step - loss: 0.3890 - accuracy: 0.8328\n",
      "Epoch 45/200\n",
      "891/891 [==============================] - 0s 219us/step - loss: 0.3884 - accuracy: 0.8294\n",
      "Epoch 46/200\n",
      "891/891 [==============================] - 0s 267us/step - loss: 0.3874 - accuracy: 0.8305\n",
      "Epoch 47/200\n",
      "891/891 [==============================] - 0s 248us/step - loss: 0.3870 - accuracy: 0.8328\n",
      "Epoch 48/200\n",
      "891/891 [==============================] - 0s 216us/step - loss: 0.3864 - accuracy: 0.8339\n",
      "Epoch 49/200\n",
      "891/891 [==============================] - 0s 213us/step - loss: 0.3872 - accuracy: 0.8395\n",
      "Epoch 50/200\n",
      "891/891 [==============================] - 0s 216us/step - loss: 0.3863 - accuracy: 0.8294\n",
      "Epoch 51/200\n",
      "891/891 [==============================] - 0s 213us/step - loss: 0.3849 - accuracy: 0.8384\n",
      "Epoch 52/200\n",
      "891/891 [==============================] - 0s 215us/step - loss: 0.3864 - accuracy: 0.8305\n",
      "Epoch 53/200\n",
      "891/891 [==============================] - 0s 215us/step - loss: 0.3839 - accuracy: 0.8328\n",
      "Epoch 54/200\n",
      "891/891 [==============================] - 0s 210us/step - loss: 0.3840 - accuracy: 0.8350\n",
      "Epoch 55/200\n",
      "891/891 [==============================] - 0s 215us/step - loss: 0.3828 - accuracy: 0.8350\n",
      "Epoch 56/200\n",
      "891/891 [==============================] - 0s 216us/step - loss: 0.3823 - accuracy: 0.8316\n",
      "Epoch 57/200\n",
      "891/891 [==============================] - 0s 234us/step - loss: 0.3825 - accuracy: 0.8339\n",
      "Epoch 58/200\n",
      "891/891 [==============================] - 0s 231us/step - loss: 0.3828 - accuracy: 0.8406\n",
      "Epoch 59/200\n",
      "891/891 [==============================] - 0s 233us/step - loss: 0.3803 - accuracy: 0.8339\n",
      "Epoch 60/200\n",
      "891/891 [==============================] - 0s 220us/step - loss: 0.3809 - accuracy: 0.8384\n",
      "Epoch 61/200\n",
      "891/891 [==============================] - 0s 228us/step - loss: 0.3823 - accuracy: 0.8350\n",
      "Epoch 62/200\n",
      "891/891 [==============================] - 0s 221us/step - loss: 0.3805 - accuracy: 0.8361\n",
      "Epoch 63/200\n",
      "891/891 [==============================] - 0s 248us/step - loss: 0.3795 - accuracy: 0.8328\n",
      "Epoch 64/200\n",
      "891/891 [==============================] - 0s 212us/step - loss: 0.3783 - accuracy: 0.8384\n",
      "Epoch 65/200\n",
      "891/891 [==============================] - 0s 215us/step - loss: 0.3790 - accuracy: 0.8406\n",
      "Epoch 66/200\n",
      "891/891 [==============================] - 0s 218us/step - loss: 0.3785 - accuracy: 0.8395\n",
      "Epoch 67/200\n",
      "891/891 [==============================] - 0s 218us/step - loss: 0.3778 - accuracy: 0.8395\n",
      "Epoch 68/200\n",
      "891/891 [==============================] - 0s 210us/step - loss: 0.3781 - accuracy: 0.8406\n",
      "Epoch 69/200\n",
      "891/891 [==============================] - 0s 214us/step - loss: 0.3797 - accuracy: 0.8361\n",
      "Epoch 70/200\n",
      "891/891 [==============================] - 0s 214us/step - loss: 0.3771 - accuracy: 0.8406\n",
      "Epoch 71/200\n",
      "891/891 [==============================] - 0s 212us/step - loss: 0.3750 - accuracy: 0.8440\n",
      "Epoch 72/200\n",
      "891/891 [==============================] - 0s 260us/step - loss: 0.3766 - accuracy: 0.8418\n",
      "Epoch 73/200\n",
      "891/891 [==============================] - 0s 251us/step - loss: 0.3772 - accuracy: 0.8429\n",
      "Epoch 74/200\n",
      "891/891 [==============================] - 0s 218us/step - loss: 0.3746 - accuracy: 0.8395\n",
      "Epoch 75/200\n",
      "891/891 [==============================] - 0s 215us/step - loss: 0.3755 - accuracy: 0.8406\n",
      "Epoch 76/200\n",
      "891/891 [==============================] - 0s 218us/step - loss: 0.3760 - accuracy: 0.8418\n",
      "Epoch 77/200\n",
      "891/891 [==============================] - 0s 207us/step - loss: 0.3766 - accuracy: 0.8406\n",
      "Epoch 78/200\n",
      "891/891 [==============================] - 0s 214us/step - loss: 0.3772 - accuracy: 0.8361\n",
      "Epoch 79/200\n",
      "891/891 [==============================] - 0s 221us/step - loss: 0.3740 - accuracy: 0.8395\n",
      "Epoch 80/200\n",
      "891/891 [==============================] - 0s 218us/step - loss: 0.3722 - accuracy: 0.8485\n",
      "Epoch 81/200\n",
      "891/891 [==============================] - 0s 208us/step - loss: 0.3728 - accuracy: 0.8474\n",
      "Epoch 82/200\n",
      "891/891 [==============================] - 0s 220us/step - loss: 0.3738 - accuracy: 0.8429\n",
      "Epoch 83/200\n",
      "891/891 [==============================] - 0s 214us/step - loss: 0.3716 - accuracy: 0.8485\n",
      "Epoch 84/200\n",
      "891/891 [==============================] - 0s 209us/step - loss: 0.3719 - accuracy: 0.8384\n",
      "Epoch 85/200\n",
      "891/891 [==============================] - 0s 208us/step - loss: 0.3719 - accuracy: 0.8406\n",
      "Epoch 86/200\n",
      "891/891 [==============================] - 0s 224us/step - loss: 0.3712 - accuracy: 0.8462\n",
      "Epoch 87/200\n",
      "891/891 [==============================] - 0s 213us/step - loss: 0.3719 - accuracy: 0.8451\n",
      "Epoch 88/200\n",
      "891/891 [==============================] - 0s 217us/step - loss: 0.3711 - accuracy: 0.8451\n",
      "Epoch 89/200\n",
      "891/891 [==============================] - 0s 219us/step - loss: 0.3714 - accuracy: 0.8406\n",
      "Epoch 90/200\n",
      "891/891 [==============================] - 0s 217us/step - loss: 0.3712 - accuracy: 0.8440\n",
      "Epoch 91/200\n",
      "891/891 [==============================] - 0s 215us/step - loss: 0.3709 - accuracy: 0.8462\n",
      "Epoch 92/200\n",
      "891/891 [==============================] - 0s 213us/step - loss: 0.3705 - accuracy: 0.8429\n",
      "Epoch 93/200\n",
      "891/891 [==============================] - 0s 214us/step - loss: 0.3702 - accuracy: 0.8451\n",
      "Epoch 94/200\n",
      "891/891 [==============================] - 0s 220us/step - loss: 0.3707 - accuracy: 0.8429\n",
      "Epoch 95/200\n",
      "891/891 [==============================] - 0s 222us/step - loss: 0.3709 - accuracy: 0.8406\n",
      "Epoch 96/200\n",
      "891/891 [==============================] - 0s 218us/step - loss: 0.3700 - accuracy: 0.8406\n",
      "Epoch 97/200\n",
      "891/891 [==============================] - 0s 217us/step - loss: 0.3702 - accuracy: 0.8418\n",
      "Epoch 98/200\n",
      "891/891 [==============================] - 0s 222us/step - loss: 0.3700 - accuracy: 0.8429\n",
      "Epoch 99/200\n",
      "891/891 [==============================] - 0s 286us/step - loss: 0.3706 - accuracy: 0.8429\n",
      "Epoch 100/200\n",
      "891/891 [==============================] - 0s 228us/step - loss: 0.3685 - accuracy: 0.8462\n",
      "Epoch 101/200\n",
      "891/891 [==============================] - 0s 211us/step - loss: 0.3706 - accuracy: 0.8395\n",
      "Epoch 102/200\n",
      "891/891 [==============================] - 0s 218us/step - loss: 0.3691 - accuracy: 0.8462\n",
      "Epoch 103/200\n",
      "891/891 [==============================] - 0s 217us/step - loss: 0.3691 - accuracy: 0.8418\n",
      "Epoch 104/200\n",
      "891/891 [==============================] - 0s 217us/step - loss: 0.3698 - accuracy: 0.8451\n",
      "Epoch 105/200\n",
      "891/891 [==============================] - 0s 220us/step - loss: 0.3689 - accuracy: 0.8406\n",
      "Epoch 106/200\n",
      "891/891 [==============================] - 0s 217us/step - loss: 0.3685 - accuracy: 0.8451\n",
      "Epoch 107/200\n",
      "891/891 [==============================] - 0s 216us/step - loss: 0.3682 - accuracy: 0.8429\n",
      "Epoch 108/200\n",
      "891/891 [==============================] - 0s 217us/step - loss: 0.3691 - accuracy: 0.8406\n",
      "Epoch 109/200\n",
      "891/891 [==============================] - 0s 215us/step - loss: 0.3677 - accuracy: 0.8462\n",
      "Epoch 110/200\n",
      "891/891 [==============================] - 0s 216us/step - loss: 0.3704 - accuracy: 0.8418\n",
      "Epoch 111/200\n",
      "891/891 [==============================] - 0s 218us/step - loss: 0.3683 - accuracy: 0.8429\n",
      "Epoch 112/200\n",
      "891/891 [==============================] - 0s 213us/step - loss: 0.3680 - accuracy: 0.8406\n",
      "Epoch 113/200\n",
      "891/891 [==============================] - 0s 215us/step - loss: 0.3684 - accuracy: 0.8406\n",
      "Epoch 114/200\n",
      "891/891 [==============================] - 0s 214us/step - loss: 0.3673 - accuracy: 0.8373\n",
      "Epoch 115/200\n",
      "891/891 [==============================] - 0s 220us/step - loss: 0.3683 - accuracy: 0.8429\n",
      "Epoch 116/200\n",
      "891/891 [==============================] - 0s 216us/step - loss: 0.3683 - accuracy: 0.8485\n",
      "Epoch 117/200\n",
      "891/891 [==============================] - 0s 211us/step - loss: 0.3666 - accuracy: 0.8429\n",
      "Epoch 118/200\n",
      "891/891 [==============================] - 0s 216us/step - loss: 0.3666 - accuracy: 0.8440\n",
      "Epoch 119/200\n",
      "891/891 [==============================] - 0s 222us/step - loss: 0.3685 - accuracy: 0.8418\n",
      "Epoch 120/200\n",
      "891/891 [==============================] - 0s 222us/step - loss: 0.3692 - accuracy: 0.8418\n",
      "Epoch 121/200\n",
      "891/891 [==============================] - 0s 219us/step - loss: 0.3687 - accuracy: 0.8418\n",
      "Epoch 122/200\n",
      "891/891 [==============================] - 0s 217us/step - loss: 0.3698 - accuracy: 0.8462\n",
      "Epoch 123/200\n",
      "891/891 [==============================] - 0s 219us/step - loss: 0.3668 - accuracy: 0.8462\n",
      "Epoch 124/200\n",
      "891/891 [==============================] - 0s 223us/step - loss: 0.3656 - accuracy: 0.8519\n",
      "Epoch 125/200\n",
      "891/891 [==============================] - 0s 289us/step - loss: 0.3667 - accuracy: 0.8440\n",
      "Epoch 126/200\n",
      "891/891 [==============================] - 0s 240us/step - loss: 0.3685 - accuracy: 0.8451\n",
      "Epoch 127/200\n",
      "891/891 [==============================] - 0s 219us/step - loss: 0.3670 - accuracy: 0.8451\n",
      "Epoch 128/200\n",
      "891/891 [==============================] - 0s 218us/step - loss: 0.3666 - accuracy: 0.8485\n",
      "Epoch 129/200\n",
      "891/891 [==============================] - 0s 214us/step - loss: 0.3651 - accuracy: 0.8474\n",
      "Epoch 130/200\n",
      "891/891 [==============================] - 0s 215us/step - loss: 0.3649 - accuracy: 0.8440\n",
      "Epoch 131/200\n",
      "891/891 [==============================] - 0s 219us/step - loss: 0.3671 - accuracy: 0.8541\n",
      "Epoch 132/200\n",
      "891/891 [==============================] - 0s 217us/step - loss: 0.3676 - accuracy: 0.8429\n",
      "Epoch 133/200\n",
      "891/891 [==============================] - 0s 216us/step - loss: 0.3668 - accuracy: 0.8429\n",
      "Epoch 134/200\n",
      "891/891 [==============================] - 0s 215us/step - loss: 0.3651 - accuracy: 0.8474\n",
      "Epoch 135/200\n",
      "891/891 [==============================] - 0s 231us/step - loss: 0.3661 - accuracy: 0.8474\n",
      "Epoch 136/200\n",
      "891/891 [==============================] - 0s 247us/step - loss: 0.3643 - accuracy: 0.8485\n",
      "Epoch 137/200\n",
      "891/891 [==============================] - 0s 250us/step - loss: 0.3672 - accuracy: 0.8418\n",
      "Epoch 138/200\n",
      "891/891 [==============================] - 0s 233us/step - loss: 0.3655 - accuracy: 0.8530\n",
      "Epoch 139/200\n",
      "891/891 [==============================] - 0s 244us/step - loss: 0.3654 - accuracy: 0.8440\n",
      "Epoch 140/200\n",
      "891/891 [==============================] - 0s 237us/step - loss: 0.3638 - accuracy: 0.8462\n",
      "Epoch 141/200\n",
      "891/891 [==============================] - 0s 258us/step - loss: 0.3635 - accuracy: 0.8507\n",
      "Epoch 142/200\n",
      "891/891 [==============================] - 0s 217us/step - loss: 0.3639 - accuracy: 0.8429\n",
      "Epoch 143/200\n",
      "891/891 [==============================] - 0s 217us/step - loss: 0.3651 - accuracy: 0.8474\n",
      "Epoch 144/200\n",
      "891/891 [==============================] - 0s 221us/step - loss: 0.3666 - accuracy: 0.8440\n",
      "Epoch 145/200\n",
      "891/891 [==============================] - 0s 213us/step - loss: 0.3633 - accuracy: 0.8474\n",
      "Epoch 146/200\n",
      "891/891 [==============================] - 0s 213us/step - loss: 0.3629 - accuracy: 0.8462\n",
      "Epoch 147/200\n",
      "891/891 [==============================] - 0s 216us/step - loss: 0.3633 - accuracy: 0.8485\n",
      "Epoch 148/200\n",
      "891/891 [==============================] - 0s 218us/step - loss: 0.3630 - accuracy: 0.8474\n",
      "Epoch 149/200\n",
      "891/891 [==============================] - 0s 215us/step - loss: 0.3638 - accuracy: 0.8474\n",
      "Epoch 150/200\n",
      "891/891 [==============================] - 0s 239us/step - loss: 0.3636 - accuracy: 0.8519\n",
      "Epoch 151/200\n",
      "891/891 [==============================] - 0s 297us/step - loss: 0.3617 - accuracy: 0.8541\n",
      "Epoch 152/200\n",
      "891/891 [==============================] - 0s 217us/step - loss: 0.3629 - accuracy: 0.8485\n",
      "Epoch 153/200\n",
      "891/891 [==============================] - 0s 213us/step - loss: 0.3619 - accuracy: 0.8496\n",
      "Epoch 154/200\n",
      "891/891 [==============================] - 0s 216us/step - loss: 0.3638 - accuracy: 0.8507\n",
      "Epoch 155/200\n",
      "891/891 [==============================] - 0s 210us/step - loss: 0.3634 - accuracy: 0.8519\n",
      "Epoch 156/200\n",
      "891/891 [==============================] - 0s 212us/step - loss: 0.3646 - accuracy: 0.8474\n",
      "Epoch 157/200\n"
     ]
    },
    {
     "name": "stdout",
     "output_type": "stream",
     "text": [
      "891/891 [==============================] - 0s 217us/step - loss: 0.3640 - accuracy: 0.8496\n",
      "Epoch 158/200\n",
      "891/891 [==============================] - 0s 217us/step - loss: 0.3616 - accuracy: 0.8519\n",
      "Epoch 159/200\n",
      "891/891 [==============================] - 0s 219us/step - loss: 0.3638 - accuracy: 0.8474\n",
      "Epoch 160/200\n",
      "891/891 [==============================] - 0s 214us/step - loss: 0.3642 - accuracy: 0.8462\n",
      "Epoch 161/200\n",
      "891/891 [==============================] - 0s 216us/step - loss: 0.3620 - accuracy: 0.8496\n",
      "Epoch 162/200\n",
      "891/891 [==============================] - 0s 211us/step - loss: 0.3620 - accuracy: 0.8541\n",
      "Epoch 163/200\n",
      "891/891 [==============================] - 0s 213us/step - loss: 0.3620 - accuracy: 0.8507\n",
      "Epoch 164/200\n",
      "891/891 [==============================] - 0s 249us/step - loss: 0.3645 - accuracy: 0.8485\n",
      "Epoch 165/200\n",
      "891/891 [==============================] - 0s 214us/step - loss: 0.3600 - accuracy: 0.8552\n",
      "Epoch 166/200\n",
      "891/891 [==============================] - 0s 217us/step - loss: 0.3605 - accuracy: 0.8496\n",
      "Epoch 167/200\n",
      "891/891 [==============================] - 0s 222us/step - loss: 0.3633 - accuracy: 0.8575\n",
      "Epoch 168/200\n",
      "891/891 [==============================] - 0s 212us/step - loss: 0.3611 - accuracy: 0.8541\n",
      "Epoch 169/200\n",
      "891/891 [==============================] - 0s 217us/step - loss: 0.3617 - accuracy: 0.8541\n",
      "Epoch 170/200\n",
      "891/891 [==============================] - 0s 217us/step - loss: 0.3609 - accuracy: 0.8485\n",
      "Epoch 171/200\n",
      "891/891 [==============================] - 0s 213us/step - loss: 0.3624 - accuracy: 0.8541\n",
      "Epoch 172/200\n",
      "891/891 [==============================] - 0s 217us/step - loss: 0.3603 - accuracy: 0.8552\n",
      "Epoch 173/200\n",
      "891/891 [==============================] - 0s 214us/step - loss: 0.3602 - accuracy: 0.8597\n",
      "Epoch 174/200\n",
      "891/891 [==============================] - 0s 212us/step - loss: 0.3606 - accuracy: 0.8541\n",
      "Epoch 175/200\n",
      "891/891 [==============================] - 0s 215us/step - loss: 0.3597 - accuracy: 0.8541\n",
      "Epoch 176/200\n",
      "891/891 [==============================] - 0s 217us/step - loss: 0.3606 - accuracy: 0.8563\n",
      "Epoch 177/200\n",
      "891/891 [==============================] - 0s 296us/step - loss: 0.3603 - accuracy: 0.8563\n",
      "Epoch 178/200\n",
      "891/891 [==============================] - 0s 245us/step - loss: 0.3603 - accuracy: 0.8530\n",
      "Epoch 179/200\n",
      "891/891 [==============================] - 0s 220us/step - loss: 0.3583 - accuracy: 0.8563\n",
      "Epoch 180/200\n",
      "891/891 [==============================] - 0s 207us/step - loss: 0.3601 - accuracy: 0.8507\n",
      "Epoch 181/200\n",
      "891/891 [==============================] - 0s 215us/step - loss: 0.3620 - accuracy: 0.8530\n",
      "Epoch 182/200\n",
      "891/891 [==============================] - 0s 218us/step - loss: 0.3611 - accuracy: 0.8530\n",
      "Epoch 183/200\n",
      "891/891 [==============================] - 0s 214us/step - loss: 0.3595 - accuracy: 0.8485\n",
      "Epoch 184/200\n",
      "891/891 [==============================] - 0s 221us/step - loss: 0.3605 - accuracy: 0.8541\n",
      "Epoch 185/200\n",
      "891/891 [==============================] - 0s 204us/step - loss: 0.3584 - accuracy: 0.8541\n",
      "Epoch 186/200\n",
      "891/891 [==============================] - 0s 214us/step - loss: 0.3608 - accuracy: 0.8496\n",
      "Epoch 187/200\n",
      "891/891 [==============================] - 0s 221us/step - loss: 0.3587 - accuracy: 0.8541\n",
      "Epoch 188/200\n",
      "891/891 [==============================] - 0s 221us/step - loss: 0.3584 - accuracy: 0.8530\n",
      "Epoch 189/200\n",
      "891/891 [==============================] - 0s 217us/step - loss: 0.3598 - accuracy: 0.8496\n",
      "Epoch 190/200\n",
      "891/891 [==============================] - 0s 200us/step - loss: 0.3588 - accuracy: 0.8541\n",
      "Epoch 191/200\n",
      "891/891 [==============================] - 0s 220us/step - loss: 0.3593 - accuracy: 0.8541\n",
      "Epoch 192/200\n",
      "891/891 [==============================] - 0s 219us/step - loss: 0.3586 - accuracy: 0.8507\n",
      "Epoch 193/200\n",
      "891/891 [==============================] - 0s 216us/step - loss: 0.3599 - accuracy: 0.8519\n",
      "Epoch 194/200\n",
      "891/891 [==============================] - 0s 220us/step - loss: 0.3574 - accuracy: 0.8496\n",
      "Epoch 195/200\n",
      "891/891 [==============================] - 0s 218us/step - loss: 0.3603 - accuracy: 0.8496\n",
      "Epoch 196/200\n",
      "891/891 [==============================] - 0s 216us/step - loss: 0.3582 - accuracy: 0.8507\n",
      "Epoch 197/200\n",
      "891/891 [==============================] - 0s 221us/step - loss: 0.3590 - accuracy: 0.8541\n",
      "Epoch 198/200\n",
      "891/891 [==============================] - 0s 218us/step - loss: 0.3566 - accuracy: 0.8552\n",
      "Epoch 199/200\n",
      "891/891 [==============================] - 0s 216us/step - loss: 0.3575 - accuracy: 0.8462\n",
      "Epoch 200/200\n",
      "891/891 [==============================] - 0s 209us/step - loss: 0.3582 - accuracy: 0.8519\n"
     ]
    },
    {
     "data": {
      "text/plain": [
       "<keras.callbacks.callbacks.History at 0x267c0626c08>"
      ]
     },
     "execution_count": 100,
     "metadata": {},
     "output_type": "execute_result"
    }
   ],
   "source": [
    "classifier1 = Sequential()\n",
    "classifier1.add(Dense(output_dim = 7,init = 'uniform',activation = 'relu',input_dim = 12)) ##1st hidden layer\n",
    "classifier1.add(Dense(output_dim = 7,init = 'uniform',activation = 'relu')) ## with 2- 61%\n",
    "classifier1.add(Dense(output_dim = 10,init = 'uniform',activation = 'relu')) ##increased later to get better accuracy\n",
    "classifier1.add(Dense(output_dim = 10,init = 'uniform',activation = 'relu'))\n",
    "classifier1.add(Dense(output_dim = 1,init = 'uniform',activation = 'sigmoid')) ##sigmoid activation fn(probablistic approch)\n",
    "classifier1.compile(optimizer='adam',loss='binary_crossentropy',metrics=['accuracy'])\n",
    "classifier1.fit(train1,y_train,batch_size = 25, nb_epoch = 200)"
   ]
  },
  {
   "cell_type": "code",
   "execution_count": 104,
   "metadata": {},
   "outputs": [],
   "source": [
    "y_pred_nn = classifier1.predict(test1)\n",
    "y_pred_nn = pd.DataFrame(y_pred_nn)\n",
    "y_pred_nn['pred'] = y_pred_nn.iloc[:,0].apply(lambda x: 1 if x>0.5 else 0)"
   ]
  },
  {
   "cell_type": "code",
   "execution_count": 106,
   "metadata": {},
   "outputs": [],
   "source": [
    "y_pred_nn.to_csv('titanic_submission_neural4.1.csv')"
   ]
  },
  {
   "cell_type": "markdown",
   "metadata": {},
   "source": [
    "## Stacked model"
   ]
  },
  {
   "cell_type": "code",
   "execution_count": 121,
   "metadata": {},
   "outputs": [],
   "source": [
    "from sklearn.ensemble import VotingClassifier"
   ]
  },
  {
   "cell_type": "code",
   "execution_count": 260,
   "metadata": {},
   "outputs": [],
   "source": [
    "clf = VotingClassifier(estimators = [('model_lgb',model_lgb),('model_xgb',model_xgb),('gboost',gboost)],weights = [0.20,0.20,0.60],voting='soft')"
   ]
  },
  {
   "cell_type": "code",
   "execution_count": 261,
   "metadata": {},
   "outputs": [
    {
     "name": "stdout",
     "output_type": "stream",
     "text": [
      "[14:57:01] WARNING: C:\\Users\\Administrator\\workspace\\xgboost-win64_release_1.1.0\\src\\learner.cc:480: \n",
      "Parameters: { silent } might not be used.\n",
      "\n",
      "  This may not be accurate due to some parameters are only used in language bindings but\n",
      "  passed down to XGBoost core.  Or some parameters are not used but slip through this\n",
      "  verification. Please open an issue if you find above cases.\n",
      "\n",
      "\n",
      "[14:57:04] WARNING: C:\\Users\\Administrator\\workspace\\xgboost-win64_release_1.1.0\\src\\learner.cc:480: \n",
      "Parameters: { silent } might not be used.\n",
      "\n",
      "  This may not be accurate due to some parameters are only used in language bindings but\n",
      "  passed down to XGBoost core.  Or some parameters are not used but slip through this\n",
      "  verification. Please open an issue if you find above cases.\n",
      "\n",
      "\n",
      "[14:57:06] WARNING: C:\\Users\\Administrator\\workspace\\xgboost-win64_release_1.1.0\\src\\learner.cc:480: \n",
      "Parameters: { silent } might not be used.\n",
      "\n",
      "  This may not be accurate due to some parameters are only used in language bindings but\n",
      "  passed down to XGBoost core.  Or some parameters are not used but slip through this\n",
      "  verification. Please open an issue if you find above cases.\n",
      "\n",
      "\n",
      "[14:57:07] WARNING: C:\\Users\\Administrator\\workspace\\xgboost-win64_release_1.1.0\\src\\learner.cc:480: \n",
      "Parameters: { silent } might not be used.\n",
      "\n",
      "  This may not be accurate due to some parameters are only used in language bindings but\n",
      "  passed down to XGBoost core.  Or some parameters are not used but slip through this\n",
      "  verification. Please open an issue if you find above cases.\n",
      "\n",
      "\n",
      "[14:57:08] WARNING: C:\\Users\\Administrator\\workspace\\xgboost-win64_release_1.1.0\\src\\learner.cc:480: \n",
      "Parameters: { silent } might not be used.\n",
      "\n",
      "  This may not be accurate due to some parameters are only used in language bindings but\n",
      "  passed down to XGBoost core.  Or some parameters are not used but slip through this\n",
      "  verification. Please open an issue if you find above cases.\n",
      "\n",
      "\n",
      "0.880460 (0.033178)\n"
     ]
    }
   ],
   "source": [
    "kfold = KFold(shuffle = True, n_splits = 5, random_state = 0)\n",
    "results = cross_val_score(clf,train,y_train,cv = kfold, scoring = 'roc_auc')\n",
    "print(\"%f (%f)\" %(np.mean(results),np.std(results,ddof = 1)))"
   ]
  },
  {
   "cell_type": "code",
   "execution_count": 262,
   "metadata": {},
   "outputs": [
    {
     "name": "stdout",
     "output_type": "stream",
     "text": [
      "[14:57:18] WARNING: C:\\Users\\Administrator\\workspace\\xgboost-win64_release_1.1.0\\src\\learner.cc:480: \n",
      "Parameters: { silent } might not be used.\n",
      "\n",
      "  This may not be accurate due to some parameters are only used in language bindings but\n",
      "  passed down to XGBoost core.  Or some parameters are not used but slip through this\n",
      "  verification. Please open an issue if you find above cases.\n",
      "\n",
      "\n"
     ]
    },
    {
     "data": {
      "text/plain": [
       "0.9401942926533091"
      ]
     },
     "execution_count": 262,
     "metadata": {},
     "output_type": "execute_result"
    }
   ],
   "source": [
    "clf.fit(train,y_train)\n",
    "pred_train = clf.predict(train)\n",
    "pred_train_prob = clf.predict_proba(train)[:,1]\n",
    "pred_test = clf.predict(test)\n",
    "roc_auc_score(y_train,pred_train_prob)"
   ]
  },
  {
   "cell_type": "code",
   "execution_count": 259,
   "metadata": {},
   "outputs": [],
   "source": [
    "pred10 = pd.DataFrame(pred_test)\n",
    "pred10.to_csv('titanic_submission_stacked.csv')"
   ]
  },
  {
   "cell_type": "code",
   "execution_count": 263,
   "metadata": {},
   "outputs": [],
   "source": [
    "pred11 = pd.DataFrame(pred_test)\n",
    "pred11.to_csv('titanic_submission_stacked2.csv')"
   ]
  },
  {
   "cell_type": "code",
   "execution_count": 125,
   "metadata": {},
   "outputs": [],
   "source": [
    "clf = VotingClassifier(estimators = [('model_lgb',model_lgb),('model_xgb',model_xgb),('gboost',gboost)],voting = 'soft')"
   ]
  },
  {
   "cell_type": "code",
   "execution_count": 126,
   "metadata": {},
   "outputs": [
    {
     "name": "stdout",
     "output_type": "stream",
     "text": [
      "[16:56:09] WARNING: C:\\Users\\Administrator\\workspace\\xgboost-win64_release_1.1.0\\src\\learner.cc:480: \n",
      "Parameters: { silent } might not be used.\n",
      "\n",
      "  This may not be accurate due to some parameters are only used in language bindings but\n",
      "  passed down to XGBoost core.  Or some parameters are not used but slip through this\n",
      "  verification. Please open an issue if you find above cases.\n",
      "\n",
      "\n"
     ]
    },
    {
     "data": {
      "text/plain": [
       "0.9444977044919525"
      ]
     },
     "execution_count": 126,
     "metadata": {},
     "output_type": "execute_result"
    }
   ],
   "source": [
    "clf.fit(train,y_train)\n",
    "pred_train = clf.predict(train)\n",
    "pred_train_prob = clf.predict_proba(train)[:,1]\n",
    "pred_test = clf.predict(test)\n",
    "roc_auc_score(y_train,pred_train_prob)"
   ]
  },
  {
   "cell_type": "code",
   "execution_count": 127,
   "metadata": {},
   "outputs": [],
   "source": [
    "pred13 = pd.DataFrame(pred_test)\n",
    "pred13.to_csv('titanic_submission_stacked3.csv')"
   ]
  },
  {
   "cell_type": "markdown",
   "metadata": {},
   "source": [
    "## Applying PCA"
   ]
  },
  {
   "cell_type": "code",
   "execution_count": 110,
   "metadata": {},
   "outputs": [
    {
     "data": {
      "text/plain": [
       "<matplotlib.axes._subplots.AxesSubplot at 0x268002d2a88>"
      ]
     },
     "execution_count": 110,
     "metadata": {},
     "output_type": "execute_result"
    },
    {
     "data": {
      "image/png": "[encoded data removed]",
      "text/plain": [
       "<Figure size 720x576 with 2 Axes>"
      ]
     },
     "metadata": {
      "needs_background": "light"
     },
     "output_type": "display_data"
    }
   ],
   "source": [
    "plt.figure(figsize = (10,8))\n",
    "sns.heatmap(train.corr(),annot = True)"
   ]
  },
  {
   "cell_type": "code",
   "execution_count": 115,
   "metadata": {},
   "outputs": [],
   "source": [
    "from sklearn.preprocessing import PolynomialFeatures\n",
    "qr = PolynomialFeatures(degree = 2)"
   ]
  },
  {
   "cell_type": "code",
   "execution_count": 116,
   "metadata": {},
   "outputs": [],
   "source": [
    "x_qr_train = qr.fit_transform(train)\n",
    "x_qr_test = qr.fit_transform(test)"
   ]
  },
  {
   "cell_type": "code",
   "execution_count": 117,
   "metadata": {},
   "outputs": [
    {
     "data": {
      "text/plain": [
       "GradientBoostingClassifier(ccp_alpha=0.0, criterion='friedman_mse', init=None,\n",
       "                           learning_rate=0.1, loss='deviance', max_depth=3,\n",
       "                           max_features=None, max_leaf_nodes=None,\n",
       "                           min_impurity_decrease=0.0, min_impurity_split=None,\n",
       "                           min_samples_leaf=1, min_samples_split=2,\n",
       "                           min_weight_fraction_leaf=0.0, n_estimators=49,\n",
       "                           n_iter_no_change=None, presort='deprecated',\n",
       "                           random_state=0, subsample=1.0, tol=0.0001,\n",
       "                           validation_fraction=0.1, verbose=0,\n",
       "                           warm_start=False)"
      ]
     },
     "execution_count": 117,
     "metadata": {},
     "output_type": "execute_result"
    }
   ],
   "source": [
    "gboost.fit(x_qr_train,y_train)"
   ]
  },
  {
   "cell_type": "code",
   "execution_count": 118,
   "metadata": {},
   "outputs": [],
   "source": [
    "pred_test = gboost.predict(x_qr_test)"
   ]
  },
  {
   "cell_type": "code",
   "execution_count": 119,
   "metadata": {},
   "outputs": [],
   "source": [
    "pred12 = pd.DataFrame(pred_test)\n",
    "pred12.to_csv('titanic_submission_polynomial.csv')"
   ]
  },
  {
   "cell_type": "code",
   "execution_count": 128,
   "metadata": {},
   "outputs": [
    {
     "data": {
      "text/html": [
       "<div>\n",
       "<style scoped>\n",
       "    .dataframe tbody tr th:only-of-type {\n",
       "        vertical-align: middle;\n",
       "    }\n",
       "\n",
       "    .dataframe tbody tr th {\n",
       "        vertical-align: top;\n",
       "    }\n",
       "\n",
       "    .dataframe thead th {\n",
       "        text-align: right;\n",
       "    }\n",
       "</style>\n",
       "<table border=\"1\" class=\"dataframe\">\n",
       "  <thead>\n",
       "    <tr style=\"text-align: right;\">\n",
       "      <th></th>\n",
       "      <th>Age</th>\n",
       "      <th>Fare</th>\n",
       "      <th>Parch</th>\n",
       "      <th>SibSp</th>\n",
       "      <th>Embarked_C</th>\n",
       "      <th>Embarked_Q</th>\n",
       "      <th>Embarked_S</th>\n",
       "      <th>Pclass_1</th>\n",
       "      <th>Pclass_2</th>\n",
       "      <th>Pclass_3</th>\n",
       "      <th>Sex_female</th>\n",
       "      <th>Sex_male</th>\n",
       "    </tr>\n",
       "  </thead>\n",
       "  <tbody>\n",
       "    <tr>\n",
       "      <td>0</td>\n",
       "      <td>22.000</td>\n",
       "      <td>2.482</td>\n",
       "      <td>0.000</td>\n",
       "      <td>0.730</td>\n",
       "      <td>0</td>\n",
       "      <td>0</td>\n",
       "      <td>1</td>\n",
       "      <td>0</td>\n",
       "      <td>0</td>\n",
       "      <td>1</td>\n",
       "      <td>0</td>\n",
       "      <td>1</td>\n",
       "    </tr>\n",
       "    <tr>\n",
       "      <td>1</td>\n",
       "      <td>38.000</td>\n",
       "      <td>6.003</td>\n",
       "      <td>0.000</td>\n",
       "      <td>0.730</td>\n",
       "      <td>1</td>\n",
       "      <td>0</td>\n",
       "      <td>0</td>\n",
       "      <td>1</td>\n",
       "      <td>0</td>\n",
       "      <td>0</td>\n",
       "      <td>1</td>\n",
       "      <td>0</td>\n",
       "    </tr>\n",
       "    <tr>\n",
       "      <td>2</td>\n",
       "      <td>26.000</td>\n",
       "      <td>2.591</td>\n",
       "      <td>0.000</td>\n",
       "      <td>0.000</td>\n",
       "      <td>0</td>\n",
       "      <td>0</td>\n",
       "      <td>1</td>\n",
       "      <td>0</td>\n",
       "      <td>0</td>\n",
       "      <td>1</td>\n",
       "      <td>1</td>\n",
       "      <td>0</td>\n",
       "    </tr>\n",
       "    <tr>\n",
       "      <td>3</td>\n",
       "      <td>35.000</td>\n",
       "      <td>5.464</td>\n",
       "      <td>0.000</td>\n",
       "      <td>0.730</td>\n",
       "      <td>0</td>\n",
       "      <td>0</td>\n",
       "      <td>1</td>\n",
       "      <td>1</td>\n",
       "      <td>0</td>\n",
       "      <td>0</td>\n",
       "      <td>1</td>\n",
       "      <td>0</td>\n",
       "    </tr>\n",
       "    <tr>\n",
       "      <td>4</td>\n",
       "      <td>35.000</td>\n",
       "      <td>2.610</td>\n",
       "      <td>0.000</td>\n",
       "      <td>0.000</td>\n",
       "      <td>0</td>\n",
       "      <td>0</td>\n",
       "      <td>1</td>\n",
       "      <td>0</td>\n",
       "      <td>0</td>\n",
       "      <td>1</td>\n",
       "      <td>0</td>\n",
       "      <td>1</td>\n",
       "    </tr>\n",
       "    <tr>\n",
       "      <td>...</td>\n",
       "      <td>...</td>\n",
       "      <td>...</td>\n",
       "      <td>...</td>\n",
       "      <td>...</td>\n",
       "      <td>...</td>\n",
       "      <td>...</td>\n",
       "      <td>...</td>\n",
       "      <td>...</td>\n",
       "      <td>...</td>\n",
       "      <td>...</td>\n",
       "      <td>...</td>\n",
       "      <td>...</td>\n",
       "    </tr>\n",
       "    <tr>\n",
       "      <td>1304</td>\n",
       "      <td>29.000</td>\n",
       "      <td>2.610</td>\n",
       "      <td>0.000</td>\n",
       "      <td>0.000</td>\n",
       "      <td>0</td>\n",
       "      <td>0</td>\n",
       "      <td>1</td>\n",
       "      <td>0</td>\n",
       "      <td>0</td>\n",
       "      <td>1</td>\n",
       "      <td>0</td>\n",
       "      <td>1</td>\n",
       "    </tr>\n",
       "    <tr>\n",
       "      <td>1305</td>\n",
       "      <td>39.000</td>\n",
       "      <td>6.825</td>\n",
       "      <td>0.000</td>\n",
       "      <td>0.000</td>\n",
       "      <td>1</td>\n",
       "      <td>0</td>\n",
       "      <td>0</td>\n",
       "      <td>1</td>\n",
       "      <td>0</td>\n",
       "      <td>0</td>\n",
       "      <td>1</td>\n",
       "      <td>0</td>\n",
       "    </tr>\n",
       "    <tr>\n",
       "      <td>1306</td>\n",
       "      <td>38.500</td>\n",
       "      <td>2.482</td>\n",
       "      <td>0.000</td>\n",
       "      <td>0.000</td>\n",
       "      <td>0</td>\n",
       "      <td>0</td>\n",
       "      <td>1</td>\n",
       "      <td>0</td>\n",
       "      <td>0</td>\n",
       "      <td>1</td>\n",
       "      <td>0</td>\n",
       "      <td>1</td>\n",
       "    </tr>\n",
       "    <tr>\n",
       "      <td>1307</td>\n",
       "      <td>29.000</td>\n",
       "      <td>2.610</td>\n",
       "      <td>0.000</td>\n",
       "      <td>0.000</td>\n",
       "      <td>0</td>\n",
       "      <td>0</td>\n",
       "      <td>1</td>\n",
       "      <td>0</td>\n",
       "      <td>0</td>\n",
       "      <td>1</td>\n",
       "      <td>0</td>\n",
       "      <td>1</td>\n",
       "    </tr>\n",
       "    <tr>\n",
       "      <td>1308</td>\n",
       "      <td>4.000</td>\n",
       "      <td>4.028</td>\n",
       "      <td>0.730</td>\n",
       "      <td>0.730</td>\n",
       "      <td>1</td>\n",
       "      <td>0</td>\n",
       "      <td>0</td>\n",
       "      <td>0</td>\n",
       "      <td>0</td>\n",
       "      <td>1</td>\n",
       "      <td>0</td>\n",
       "      <td>1</td>\n",
       "    </tr>\n",
       "  </tbody>\n",
       "</table>\n",
       "<p>1309 rows × 12 columns</p>\n",
       "</div>"
      ],
      "text/plain": [
       "        Age  Fare  Parch  SibSp  Embarked_C  Embarked_Q  Embarked_S  Pclass_1  \\\n",
       "0    22.000 2.482  0.000  0.730           0           0           1         0   \n",
       "1    38.000 6.003  0.000  0.730           1           0           0         1   \n",
       "2    26.000 2.591  0.000  0.000           0           0           1         0   \n",
       "3    35.000 5.464  0.000  0.730           0           0           1         1   \n",
       "4    35.000 2.610  0.000  0.000           0           0           1         0   \n",
       "...     ...   ...    ...    ...         ...         ...         ...       ...   \n",
       "1304 29.000 2.610  0.000  0.000           0           0           1         0   \n",
       "1305 39.000 6.825  0.000  0.000           1           0           0         1   \n",
       "1306 38.500 2.482  0.000  0.000           0           0           1         0   \n",
       "1307 29.000 2.610  0.000  0.000           0           0           1         0   \n",
       "1308  4.000 4.028  0.730  0.730           1           0           0         0   \n",
       "\n",
       "      Pclass_2  Pclass_3  Sex_female  Sex_male  \n",
       "0            0         1           0         1  \n",
       "1            0         0           1         0  \n",
       "2            0         1           1         0  \n",
       "3            0         0           1         0  \n",
       "4            0         1           0         1  \n",
       "...        ...       ...         ...       ...  \n",
       "1304         0         1           0         1  \n",
       "1305         0         0           1         0  \n",
       "1306         0         1           0         1  \n",
       "1307         0         1           0         1  \n",
       "1308         0         1           0         1  \n",
       "\n",
       "[1309 rows x 12 columns]"
      ]
     },
     "execution_count": 128,
     "metadata": {},
     "output_type": "execute_result"
    }
   ],
   "source": [
    "all_data"
   ]
  },
  {
   "cell_type": "code",
   "execution_count": 131,
   "metadata": {},
   "outputs": [],
   "source": [
    "from catboost import CatBoostClassifier, CatBoostRegressor\n",
    "cat_boost =CatBoostClassifier(eval_metric='Accuracy',use_best_model=True,random_seed=2, learning_rate=0.5, depth=3)"
   ]
  },
  {
   "cell_type": "code",
   "execution_count": 132,
   "metadata": {},
   "outputs": [
    {
     "name": "stdout",
     "output_type": "stream",
     "text": [
      "0:\tlearn: 0.8002245\ttest: 0.8002245\tbest: 0.8002245 (0)\ttotal: 202ms\tremaining: 3m 22s\n",
      "1:\tlearn: 0.8226712\ttest: 0.8226712\tbest: 0.8226712 (1)\ttotal: 220ms\tremaining: 1m 49s\n",
      "2:\tlearn: 0.8271605\ttest: 0.8271605\tbest: 0.8271605 (2)\ttotal: 225ms\tremaining: 1m 14s\n",
      "3:\tlearn: 0.8338945\ttest: 0.8338945\tbest: 0.8338945 (3)\ttotal: 231ms\tremaining: 57.6s\n",
      "4:\tlearn: 0.8361392\ttest: 0.8361392\tbest: 0.8361392 (4)\ttotal: 234ms\tremaining: 46.5s\n",
      "5:\tlearn: 0.8383838\ttest: 0.8383838\tbest: 0.8383838 (5)\ttotal: 236ms\tremaining: 39.1s\n",
      "6:\tlearn: 0.8428732\ttest: 0.8428732\tbest: 0.8428732 (6)\ttotal: 238ms\tremaining: 33.8s\n",
      "7:\tlearn: 0.8451178\ttest: 0.8451178\tbest: 0.8451178 (7)\ttotal: 241ms\tremaining: 29.8s\n",
      "8:\tlearn: 0.8451178\ttest: 0.8451178\tbest: 0.8451178 (7)\ttotal: 243ms\tremaining: 26.7s\n",
      "9:\tlearn: 0.8462402\ttest: 0.8462402\tbest: 0.8462402 (9)\ttotal: 253ms\tremaining: 25.1s\n",
      "10:\tlearn: 0.8473625\ttest: 0.8473625\tbest: 0.8473625 (10)\ttotal: 256ms\tremaining: 23s\n",
      "11:\tlearn: 0.8496072\ttest: 0.8496072\tbest: 0.8496072 (11)\ttotal: 257ms\tremaining: 21.2s\n",
      "12:\tlearn: 0.8518519\ttest: 0.8518519\tbest: 0.8518519 (12)\ttotal: 259ms\tremaining: 19.7s\n",
      "13:\tlearn: 0.8507295\ttest: 0.8507295\tbest: 0.8518519 (12)\ttotal: 261ms\tremaining: 18.4s\n",
      "14:\tlearn: 0.8507295\ttest: 0.8507295\tbest: 0.8518519 (12)\ttotal: 262ms\tremaining: 17.2s\n",
      "15:\tlearn: 0.8507295\ttest: 0.8507295\tbest: 0.8518519 (12)\ttotal: 263ms\tremaining: 16.2s\n",
      "16:\tlearn: 0.8518519\ttest: 0.8518519\tbest: 0.8518519 (12)\ttotal: 264ms\tremaining: 15.3s\n",
      "17:\tlearn: 0.8540965\ttest: 0.8540965\tbest: 0.8540965 (17)\ttotal: 265ms\tremaining: 14.5s\n",
      "18:\tlearn: 0.8563412\ttest: 0.8563412\tbest: 0.8563412 (18)\ttotal: 266ms\tremaining: 13.7s\n",
      "19:\tlearn: 0.8563412\ttest: 0.8563412\tbest: 0.8563412 (18)\ttotal: 267ms\tremaining: 13.1s\n",
      "20:\tlearn: 0.8563412\ttest: 0.8563412\tbest: 0.8563412 (18)\ttotal: 268ms\tremaining: 12.5s\n",
      "21:\tlearn: 0.8597082\ttest: 0.8597082\tbest: 0.8597082 (21)\ttotal: 269ms\tremaining: 12s\n",
      "22:\tlearn: 0.8597082\ttest: 0.8597082\tbest: 0.8597082 (21)\ttotal: 270ms\tremaining: 11.5s\n",
      "23:\tlearn: 0.8641975\ttest: 0.8641975\tbest: 0.8641975 (23)\ttotal: 285ms\tremaining: 11.6s\n",
      "24:\tlearn: 0.8619529\ttest: 0.8619529\tbest: 0.8641975 (23)\ttotal: 286ms\tremaining: 11.2s\n",
      "25:\tlearn: 0.8641975\ttest: 0.8641975\tbest: 0.8641975 (23)\ttotal: 292ms\tremaining: 10.9s\n",
      "26:\tlearn: 0.8664422\ttest: 0.8664422\tbest: 0.8664422 (26)\ttotal: 293ms\tremaining: 10.6s\n",
      "27:\tlearn: 0.8709315\ttest: 0.8709315\tbest: 0.8709315 (27)\ttotal: 295ms\tremaining: 10.2s\n",
      "28:\tlearn: 0.8720539\ttest: 0.8720539\tbest: 0.8720539 (28)\ttotal: 296ms\tremaining: 9.92s\n",
      "29:\tlearn: 0.8720539\ttest: 0.8720539\tbest: 0.8720539 (28)\ttotal: 298ms\tremaining: 9.62s\n",
      "30:\tlearn: 0.8731762\ttest: 0.8731762\tbest: 0.8731762 (30)\ttotal: 298ms\tremaining: 9.33s\n",
      "31:\tlearn: 0.8731762\ttest: 0.8731762\tbest: 0.8731762 (30)\ttotal: 299ms\tremaining: 9.06s\n",
      "32:\tlearn: 0.8754209\ttest: 0.8754209\tbest: 0.8754209 (32)\ttotal: 300ms\tremaining: 8.8s\n",
      "33:\tlearn: 0.8787879\ttest: 0.8787879\tbest: 0.8787879 (33)\ttotal: 301ms\tremaining: 8.56s\n",
      "34:\tlearn: 0.8866442\ttest: 0.8866442\tbest: 0.8866442 (34)\ttotal: 302ms\tremaining: 8.34s\n",
      "35:\tlearn: 0.8866442\ttest: 0.8866442\tbest: 0.8866442 (34)\ttotal: 303ms\tremaining: 8.12s\n",
      "36:\tlearn: 0.8843996\ttest: 0.8843996\tbest: 0.8866442 (34)\ttotal: 304ms\tremaining: 7.92s\n",
      "37:\tlearn: 0.8888889\ttest: 0.8888889\tbest: 0.8888889 (37)\ttotal: 305ms\tremaining: 7.73s\n",
      "38:\tlearn: 0.8911336\ttest: 0.8911336\tbest: 0.8911336 (38)\ttotal: 313ms\tremaining: 7.71s\n",
      "39:\tlearn: 0.8911336\ttest: 0.8911336\tbest: 0.8911336 (38)\ttotal: 314ms\tremaining: 7.54s\n",
      "40:\tlearn: 0.8933782\ttest: 0.8933782\tbest: 0.8933782 (40)\ttotal: 315ms\tremaining: 7.37s\n",
      "41:\tlearn: 0.8933782\ttest: 0.8933782\tbest: 0.8933782 (40)\ttotal: 316ms\tremaining: 7.21s\n",
      "42:\tlearn: 0.8933782\ttest: 0.8933782\tbest: 0.8933782 (40)\ttotal: 317ms\tremaining: 7.06s\n",
      "43:\tlearn: 0.8967452\ttest: 0.8967452\tbest: 0.8967452 (43)\ttotal: 318ms\tremaining: 6.91s\n",
      "44:\tlearn: 0.8956229\ttest: 0.8956229\tbest: 0.8967452 (43)\ttotal: 319ms\tremaining: 6.77s\n",
      "45:\tlearn: 0.8933782\ttest: 0.8933782\tbest: 0.8967452 (43)\ttotal: 320ms\tremaining: 6.64s\n",
      "46:\tlearn: 0.8967452\ttest: 0.8967452\tbest: 0.8967452 (43)\ttotal: 321ms\tremaining: 6.51s\n",
      "47:\tlearn: 0.8956229\ttest: 0.8956229\tbest: 0.8967452 (43)\ttotal: 322ms\tremaining: 6.39s\n",
      "48:\tlearn: 0.8956229\ttest: 0.8956229\tbest: 0.8967452 (43)\ttotal: 323ms\tremaining: 6.27s\n",
      "49:\tlearn: 0.8945006\ttest: 0.8945006\tbest: 0.8967452 (43)\ttotal: 324ms\tremaining: 6.16s\n",
      "50:\tlearn: 0.8956229\ttest: 0.8956229\tbest: 0.8967452 (43)\ttotal: 325ms\tremaining: 6.05s\n",
      "51:\tlearn: 0.8967452\ttest: 0.8967452\tbest: 0.8967452 (43)\ttotal: 326ms\tremaining: 5.95s\n",
      "52:\tlearn: 0.8989899\ttest: 0.8989899\tbest: 0.8989899 (52)\ttotal: 327ms\tremaining: 5.85s\n",
      "53:\tlearn: 0.8978676\ttest: 0.8978676\tbest: 0.8989899 (52)\ttotal: 328ms\tremaining: 5.75s\n",
      "54:\tlearn: 0.9023569\ttest: 0.9023569\tbest: 0.9023569 (54)\ttotal: 329ms\tremaining: 5.66s\n",
      "55:\tlearn: 0.9023569\ttest: 0.9023569\tbest: 0.9023569 (54)\ttotal: 330ms\tremaining: 5.57s\n",
      "56:\tlearn: 0.9034792\ttest: 0.9034792\tbest: 0.9034792 (56)\ttotal: 331ms\tremaining: 5.48s\n",
      "57:\tlearn: 0.9023569\ttest: 0.9023569\tbest: 0.9034792 (56)\ttotal: 332ms\tremaining: 5.4s\n",
      "58:\tlearn: 0.9023569\ttest: 0.9023569\tbest: 0.9034792 (56)\ttotal: 334ms\tremaining: 5.33s\n",
      "59:\tlearn: 0.9023569\ttest: 0.9023569\tbest: 0.9034792 (56)\ttotal: 356ms\tremaining: 5.57s\n",
      "60:\tlearn: 0.9023569\ttest: 0.9023569\tbest: 0.9034792 (56)\ttotal: 357ms\tremaining: 5.49s\n",
      "61:\tlearn: 0.9023569\ttest: 0.9023569\tbest: 0.9034792 (56)\ttotal: 357ms\tremaining: 5.41s\n",
      "62:\tlearn: 0.9046016\ttest: 0.9046016\tbest: 0.9046016 (62)\ttotal: 358ms\tremaining: 5.33s\n",
      "63:\tlearn: 0.9034792\ttest: 0.9034792\tbest: 0.9046016 (62)\ttotal: 360ms\tremaining: 5.26s\n",
      "64:\tlearn: 0.9057239\ttest: 0.9057239\tbest: 0.9057239 (64)\ttotal: 361ms\tremaining: 5.19s\n",
      "65:\tlearn: 0.9079686\ttest: 0.9079686\tbest: 0.9079686 (65)\ttotal: 362ms\tremaining: 5.12s\n",
      "66:\tlearn: 0.9113356\ttest: 0.9113356\tbest: 0.9113356 (66)\ttotal: 363ms\tremaining: 5.05s\n",
      "67:\tlearn: 0.9102132\ttest: 0.9102132\tbest: 0.9113356 (66)\ttotal: 364ms\tremaining: 4.99s\n",
      "68:\tlearn: 0.9102132\ttest: 0.9102132\tbest: 0.9113356 (66)\ttotal: 365ms\tremaining: 4.92s\n",
      "69:\tlearn: 0.9113356\ttest: 0.9113356\tbest: 0.9113356 (66)\ttotal: 366ms\tremaining: 4.86s\n",
      "70:\tlearn: 0.9124579\ttest: 0.9124579\tbest: 0.9124579 (70)\ttotal: 367ms\tremaining: 4.8s\n",
      "71:\tlearn: 0.9124579\ttest: 0.9124579\tbest: 0.9124579 (70)\ttotal: 368ms\tremaining: 4.75s\n",
      "72:\tlearn: 0.9147026\ttest: 0.9147026\tbest: 0.9147026 (72)\ttotal: 370ms\tremaining: 4.7s\n",
      "73:\tlearn: 0.9158249\ttest: 0.9158249\tbest: 0.9158249 (73)\ttotal: 372ms\tremaining: 4.66s\n",
      "74:\tlearn: 0.9147026\ttest: 0.9147026\tbest: 0.9158249 (73)\ttotal: 391ms\tremaining: 4.82s\n",
      "75:\tlearn: 0.9147026\ttest: 0.9147026\tbest: 0.9158249 (73)\ttotal: 392ms\tremaining: 4.77s\n",
      "76:\tlearn: 0.9169473\ttest: 0.9169473\tbest: 0.9169473 (76)\ttotal: 394ms\tremaining: 4.72s\n",
      "77:\tlearn: 0.9169473\ttest: 0.9169473\tbest: 0.9169473 (76)\ttotal: 395ms\tremaining: 4.67s\n",
      "78:\tlearn: 0.9180696\ttest: 0.9180696\tbest: 0.9180696 (78)\ttotal: 396ms\tremaining: 4.62s\n",
      "79:\tlearn: 0.9191919\ttest: 0.9191919\tbest: 0.9191919 (79)\ttotal: 397ms\tremaining: 4.57s\n",
      "80:\tlearn: 0.9191919\ttest: 0.9191919\tbest: 0.9191919 (79)\ttotal: 398ms\tremaining: 4.52s\n",
      "81:\tlearn: 0.9203143\ttest: 0.9203143\tbest: 0.9203143 (81)\ttotal: 400ms\tremaining: 4.47s\n",
      "82:\tlearn: 0.9214366\ttest: 0.9214366\tbest: 0.9214366 (82)\ttotal: 401ms\tremaining: 4.43s\n",
      "83:\tlearn: 0.9214366\ttest: 0.9214366\tbest: 0.9214366 (82)\ttotal: 402ms\tremaining: 4.38s\n",
      "84:\tlearn: 0.9236813\ttest: 0.9236813\tbest: 0.9236813 (84)\ttotal: 403ms\tremaining: 4.34s\n",
      "85:\tlearn: 0.9259259\ttest: 0.9259259\tbest: 0.9259259 (85)\ttotal: 404ms\tremaining: 4.29s\n",
      "86:\tlearn: 0.9248036\ttest: 0.9248036\tbest: 0.9259259 (85)\ttotal: 405ms\tremaining: 4.25s\n",
      "87:\tlearn: 0.9270483\ttest: 0.9270483\tbest: 0.9270483 (87)\ttotal: 406ms\tremaining: 4.21s\n",
      "88:\tlearn: 0.9270483\ttest: 0.9270483\tbest: 0.9270483 (87)\ttotal: 407ms\tremaining: 4.17s\n",
      "89:\tlearn: 0.9259259\ttest: 0.9259259\tbest: 0.9270483 (87)\ttotal: 409ms\tremaining: 4.13s\n",
      "90:\tlearn: 0.9225589\ttest: 0.9225589\tbest: 0.9270483 (87)\ttotal: 410ms\tremaining: 4.09s\n",
      "91:\tlearn: 0.9236813\ttest: 0.9236813\tbest: 0.9270483 (87)\ttotal: 411ms\tremaining: 4.05s\n",
      "92:\tlearn: 0.9236813\ttest: 0.9236813\tbest: 0.9270483 (87)\ttotal: 424ms\tremaining: 4.13s\n",
      "93:\tlearn: 0.9281706\ttest: 0.9281706\tbest: 0.9281706 (93)\ttotal: 425ms\tremaining: 4.09s\n",
      "94:\tlearn: 0.9281706\ttest: 0.9281706\tbest: 0.9281706 (93)\ttotal: 426ms\tremaining: 4.06s\n",
      "95:\tlearn: 0.9281706\ttest: 0.9281706\tbest: 0.9281706 (93)\ttotal: 427ms\tremaining: 4.02s\n",
      "96:\tlearn: 0.9248036\ttest: 0.9248036\tbest: 0.9281706 (93)\ttotal: 428ms\tremaining: 3.98s\n",
      "97:\tlearn: 0.9270483\ttest: 0.9270483\tbest: 0.9281706 (93)\ttotal: 429ms\tremaining: 3.95s\n",
      "98:\tlearn: 0.9292929\ttest: 0.9292929\tbest: 0.9292929 (98)\ttotal: 430ms\tremaining: 3.91s\n",
      "99:\tlearn: 0.9281706\ttest: 0.9281706\tbest: 0.9292929 (98)\ttotal: 431ms\tremaining: 3.88s\n",
      "100:\tlearn: 0.9304153\ttest: 0.9304153\tbest: 0.9304153 (100)\ttotal: 432ms\tremaining: 3.84s\n",
      "101:\tlearn: 0.9337823\ttest: 0.9337823\tbest: 0.9337823 (101)\ttotal: 433ms\tremaining: 3.81s\n",
      "102:\tlearn: 0.9337823\ttest: 0.9337823\tbest: 0.9337823 (101)\ttotal: 434ms\tremaining: 3.78s\n",
      "103:\tlearn: 0.9349046\ttest: 0.9349046\tbest: 0.9349046 (103)\ttotal: 436ms\tremaining: 3.75s\n",
      "104:\tlearn: 0.9360269\ttest: 0.9360269\tbest: 0.9360269 (104)\ttotal: 437ms\tremaining: 3.72s\n",
      "105:\tlearn: 0.9360269\ttest: 0.9360269\tbest: 0.9360269 (104)\ttotal: 443ms\tremaining: 3.73s\n",
      "106:\tlearn: 0.9349046\ttest: 0.9349046\tbest: 0.9360269 (104)\ttotal: 443ms\tremaining: 3.7s\n",
      "107:\tlearn: 0.9360269\ttest: 0.9360269\tbest: 0.9360269 (104)\ttotal: 444ms\tremaining: 3.67s\n",
      "108:\tlearn: 0.9371493\ttest: 0.9371493\tbest: 0.9371493 (108)\ttotal: 445ms\tremaining: 3.64s\n",
      "109:\tlearn: 0.9360269\ttest: 0.9360269\tbest: 0.9371493 (108)\ttotal: 446ms\tremaining: 3.61s\n",
      "110:\tlearn: 0.9360269\ttest: 0.9360269\tbest: 0.9371493 (108)\ttotal: 447ms\tremaining: 3.58s\n",
      "111:\tlearn: 0.9360269\ttest: 0.9360269\tbest: 0.9371493 (108)\ttotal: 448ms\tremaining: 3.55s\n",
      "112:\tlearn: 0.9349046\ttest: 0.9349046\tbest: 0.9371493 (108)\ttotal: 449ms\tremaining: 3.53s\n",
      "113:\tlearn: 0.9371493\ttest: 0.9371493\tbest: 0.9371493 (108)\ttotal: 450ms\tremaining: 3.5s\n",
      "114:\tlearn: 0.9382716\ttest: 0.9382716\tbest: 0.9382716 (114)\ttotal: 451ms\tremaining: 3.47s\n",
      "115:\tlearn: 0.9371493\ttest: 0.9371493\tbest: 0.9382716 (114)\ttotal: 466ms\tremaining: 3.55s\n",
      "116:\tlearn: 0.9371493\ttest: 0.9371493\tbest: 0.9382716 (114)\ttotal: 467ms\tremaining: 3.53s\n",
      "117:\tlearn: 0.9382716\ttest: 0.9382716\tbest: 0.9382716 (114)\ttotal: 468ms\tremaining: 3.5s\n",
      "118:\tlearn: 0.9382716\ttest: 0.9382716\tbest: 0.9382716 (114)\ttotal: 469ms\tremaining: 3.47s\n",
      "119:\tlearn: 0.9393939\ttest: 0.9393939\tbest: 0.9393939 (119)\ttotal: 470ms\tremaining: 3.45s\n",
      "120:\tlearn: 0.9405163\ttest: 0.9405163\tbest: 0.9405163 (120)\ttotal: 471ms\tremaining: 3.42s\n",
      "121:\tlearn: 0.9405163\ttest: 0.9405163\tbest: 0.9405163 (120)\ttotal: 472ms\tremaining: 3.4s\n",
      "122:\tlearn: 0.9416386\ttest: 0.9416386\tbest: 0.9416386 (122)\ttotal: 473ms\tremaining: 3.37s\n",
      "123:\tlearn: 0.9416386\ttest: 0.9416386\tbest: 0.9416386 (122)\ttotal: 475ms\tremaining: 3.36s\n",
      "124:\tlearn: 0.9416386\ttest: 0.9416386\tbest: 0.9416386 (122)\ttotal: 476ms\tremaining: 3.33s\n",
      "125:\tlearn: 0.9416386\ttest: 0.9416386\tbest: 0.9416386 (122)\ttotal: 478ms\tremaining: 3.31s\n",
      "126:\tlearn: 0.9427609\ttest: 0.9427609\tbest: 0.9427609 (126)\ttotal: 479ms\tremaining: 3.29s\n",
      "127:\tlearn: 0.9427609\ttest: 0.9427609\tbest: 0.9427609 (126)\ttotal: 480ms\tremaining: 3.27s\n",
      "128:\tlearn: 0.9438833\ttest: 0.9438833\tbest: 0.9438833 (128)\ttotal: 500ms\tremaining: 3.37s\n"
     ]
    },
    {
     "name": "stdout",
     "output_type": "stream",
     "text": [
      "129:\tlearn: 0.9427609\ttest: 0.9427609\tbest: 0.9438833 (128)\ttotal: 507ms\tremaining: 3.39s\n",
      "130:\tlearn: 0.9450056\ttest: 0.9450056\tbest: 0.9450056 (130)\ttotal: 508ms\tremaining: 3.37s\n",
      "131:\tlearn: 0.9427609\ttest: 0.9427609\tbest: 0.9450056 (130)\ttotal: 509ms\tremaining: 3.35s\n",
      "132:\tlearn: 0.9427609\ttest: 0.9427609\tbest: 0.9450056 (130)\ttotal: 510ms\tremaining: 3.33s\n",
      "133:\tlearn: 0.9438833\ttest: 0.9438833\tbest: 0.9450056 (130)\ttotal: 511ms\tremaining: 3.3s\n",
      "134:\tlearn: 0.9450056\ttest: 0.9450056\tbest: 0.9450056 (130)\ttotal: 512ms\tremaining: 3.28s\n",
      "135:\tlearn: 0.9450056\ttest: 0.9450056\tbest: 0.9450056 (130)\ttotal: 513ms\tremaining: 3.26s\n",
      "136:\tlearn: 0.9438833\ttest: 0.9438833\tbest: 0.9450056 (130)\ttotal: 514ms\tremaining: 3.24s\n",
      "137:\tlearn: 0.9450056\ttest: 0.9450056\tbest: 0.9450056 (130)\ttotal: 515ms\tremaining: 3.22s\n",
      "138:\tlearn: 0.9461279\ttest: 0.9461279\tbest: 0.9461279 (138)\ttotal: 517ms\tremaining: 3.2s\n",
      "139:\tlearn: 0.9461279\ttest: 0.9461279\tbest: 0.9461279 (138)\ttotal: 518ms\tremaining: 3.18s\n",
      "140:\tlearn: 0.9461279\ttest: 0.9461279\tbest: 0.9461279 (138)\ttotal: 519ms\tremaining: 3.16s\n",
      "141:\tlearn: 0.9450056\ttest: 0.9450056\tbest: 0.9461279 (138)\ttotal: 521ms\tremaining: 3.15s\n",
      "142:\tlearn: 0.9472503\ttest: 0.9472503\tbest: 0.9472503 (142)\ttotal: 522ms\tremaining: 3.13s\n",
      "143:\tlearn: 0.9450056\ttest: 0.9450056\tbest: 0.9472503 (142)\ttotal: 523ms\tremaining: 3.11s\n",
      "144:\tlearn: 0.9461279\ttest: 0.9461279\tbest: 0.9472503 (142)\ttotal: 525ms\tremaining: 3.1s\n",
      "145:\tlearn: 0.9472503\ttest: 0.9472503\tbest: 0.9472503 (142)\ttotal: 526ms\tremaining: 3.08s\n",
      "146:\tlearn: 0.9472503\ttest: 0.9472503\tbest: 0.9472503 (142)\ttotal: 527ms\tremaining: 3.06s\n",
      "147:\tlearn: 0.9461279\ttest: 0.9461279\tbest: 0.9472503 (142)\ttotal: 528ms\tremaining: 3.04s\n",
      "148:\tlearn: 0.9461279\ttest: 0.9461279\tbest: 0.9472503 (142)\ttotal: 529ms\tremaining: 3.02s\n",
      "149:\tlearn: 0.9461279\ttest: 0.9461279\tbest: 0.9472503 (142)\ttotal: 530ms\tremaining: 3s\n",
      "150:\tlearn: 0.9461279\ttest: 0.9461279\tbest: 0.9472503 (142)\ttotal: 531ms\tremaining: 2.98s\n",
      "151:\tlearn: 0.9461279\ttest: 0.9461279\tbest: 0.9472503 (142)\ttotal: 532ms\tremaining: 2.97s\n",
      "152:\tlearn: 0.9461279\ttest: 0.9461279\tbest: 0.9472503 (142)\ttotal: 533ms\tremaining: 2.95s\n",
      "153:\tlearn: 0.9461279\ttest: 0.9461279\tbest: 0.9472503 (142)\ttotal: 534ms\tremaining: 2.93s\n",
      "154:\tlearn: 0.9461279\ttest: 0.9461279\tbest: 0.9472503 (142)\ttotal: 535ms\tremaining: 2.92s\n",
      "155:\tlearn: 0.9461279\ttest: 0.9461279\tbest: 0.9472503 (142)\ttotal: 537ms\tremaining: 2.9s\n",
      "156:\tlearn: 0.9472503\ttest: 0.9472503\tbest: 0.9472503 (142)\ttotal: 538ms\tremaining: 2.89s\n",
      "157:\tlearn: 0.9472503\ttest: 0.9472503\tbest: 0.9472503 (142)\ttotal: 540ms\tremaining: 2.88s\n",
      "158:\tlearn: 0.9461279\ttest: 0.9461279\tbest: 0.9472503 (142)\ttotal: 541ms\tremaining: 2.86s\n",
      "159:\tlearn: 0.9461279\ttest: 0.9461279\tbest: 0.9472503 (142)\ttotal: 542ms\tremaining: 2.84s\n",
      "160:\tlearn: 0.9472503\ttest: 0.9472503\tbest: 0.9472503 (142)\ttotal: 543ms\tremaining: 2.83s\n",
      "161:\tlearn: 0.9472503\ttest: 0.9472503\tbest: 0.9472503 (142)\ttotal: 545ms\tremaining: 2.82s\n",
      "162:\tlearn: 0.9461279\ttest: 0.9461279\tbest: 0.9472503 (142)\ttotal: 546ms\tremaining: 2.8s\n",
      "163:\tlearn: 0.9461279\ttest: 0.9461279\tbest: 0.9472503 (142)\ttotal: 549ms\tremaining: 2.8s\n",
      "164:\tlearn: 0.9483726\ttest: 0.9483726\tbest: 0.9483726 (164)\ttotal: 560ms\tremaining: 2.83s\n",
      "165:\tlearn: 0.9472503\ttest: 0.9472503\tbest: 0.9483726 (164)\ttotal: 562ms\tremaining: 2.82s\n",
      "166:\tlearn: 0.9494949\ttest: 0.9494949\tbest: 0.9494949 (166)\ttotal: 563ms\tremaining: 2.81s\n",
      "167:\tlearn: 0.9494949\ttest: 0.9494949\tbest: 0.9494949 (166)\ttotal: 564ms\tremaining: 2.79s\n",
      "168:\tlearn: 0.9483726\ttest: 0.9483726\tbest: 0.9494949 (166)\ttotal: 565ms\tremaining: 2.78s\n",
      "169:\tlearn: 0.9483726\ttest: 0.9483726\tbest: 0.9494949 (166)\ttotal: 566ms\tremaining: 2.76s\n",
      "170:\tlearn: 0.9494949\ttest: 0.9494949\tbest: 0.9494949 (166)\ttotal: 567ms\tremaining: 2.75s\n",
      "171:\tlearn: 0.9494949\ttest: 0.9494949\tbest: 0.9494949 (166)\ttotal: 568ms\tremaining: 2.73s\n",
      "172:\tlearn: 0.9494949\ttest: 0.9494949\tbest: 0.9494949 (166)\ttotal: 569ms\tremaining: 2.72s\n",
      "173:\tlearn: 0.9494949\ttest: 0.9494949\tbest: 0.9494949 (166)\ttotal: 571ms\tremaining: 2.71s\n",
      "174:\tlearn: 0.9494949\ttest: 0.9494949\tbest: 0.9494949 (166)\ttotal: 572ms\tremaining: 2.7s\n",
      "175:\tlearn: 0.9506173\ttest: 0.9506173\tbest: 0.9506173 (175)\ttotal: 574ms\tremaining: 2.69s\n",
      "176:\tlearn: 0.9506173\ttest: 0.9506173\tbest: 0.9506173 (175)\ttotal: 575ms\tremaining: 2.67s\n",
      "177:\tlearn: 0.9506173\ttest: 0.9506173\tbest: 0.9506173 (175)\ttotal: 594ms\tremaining: 2.74s\n",
      "178:\tlearn: 0.9506173\ttest: 0.9506173\tbest: 0.9506173 (175)\ttotal: 595ms\tremaining: 2.73s\n",
      "179:\tlearn: 0.9506173\ttest: 0.9506173\tbest: 0.9506173 (175)\ttotal: 596ms\tremaining: 2.71s\n",
      "180:\tlearn: 0.9517396\ttest: 0.9517396\tbest: 0.9517396 (180)\ttotal: 597ms\tremaining: 2.7s\n",
      "181:\tlearn: 0.9517396\ttest: 0.9517396\tbest: 0.9517396 (180)\ttotal: 598ms\tremaining: 2.69s\n",
      "182:\tlearn: 0.9506173\ttest: 0.9506173\tbest: 0.9517396 (180)\ttotal: 617ms\tremaining: 2.75s\n",
      "183:\tlearn: 0.9517396\ttest: 0.9517396\tbest: 0.9517396 (180)\ttotal: 618ms\tremaining: 2.74s\n",
      "184:\tlearn: 0.9517396\ttest: 0.9517396\tbest: 0.9517396 (180)\ttotal: 620ms\tremaining: 2.73s\n",
      "185:\tlearn: 0.9539843\ttest: 0.9539843\tbest: 0.9539843 (185)\ttotal: 621ms\tremaining: 2.72s\n",
      "186:\tlearn: 0.9539843\ttest: 0.9539843\tbest: 0.9539843 (185)\ttotal: 622ms\tremaining: 2.71s\n",
      "187:\tlearn: 0.9528620\ttest: 0.9528620\tbest: 0.9539843 (185)\ttotal: 633ms\tremaining: 2.73s\n",
      "188:\tlearn: 0.9551066\ttest: 0.9551066\tbest: 0.9551066 (188)\ttotal: 635ms\tremaining: 2.72s\n",
      "189:\tlearn: 0.9551066\ttest: 0.9551066\tbest: 0.9551066 (188)\ttotal: 636ms\tremaining: 2.71s\n",
      "190:\tlearn: 0.9551066\ttest: 0.9551066\tbest: 0.9551066 (188)\ttotal: 637ms\tremaining: 2.7s\n",
      "191:\tlearn: 0.9573513\ttest: 0.9573513\tbest: 0.9573513 (191)\ttotal: 638ms\tremaining: 2.69s\n",
      "192:\tlearn: 0.9562290\ttest: 0.9562290\tbest: 0.9573513 (191)\ttotal: 651ms\tremaining: 2.72s\n",
      "193:\tlearn: 0.9562290\ttest: 0.9562290\tbest: 0.9573513 (191)\ttotal: 652ms\tremaining: 2.71s\n",
      "194:\tlearn: 0.9562290\ttest: 0.9562290\tbest: 0.9573513 (191)\ttotal: 654ms\tremaining: 2.7s\n",
      "195:\tlearn: 0.9551066\ttest: 0.9551066\tbest: 0.9573513 (191)\ttotal: 655ms\tremaining: 2.69s\n",
      "196:\tlearn: 0.9551066\ttest: 0.9551066\tbest: 0.9573513 (191)\ttotal: 656ms\tremaining: 2.67s\n",
      "197:\tlearn: 0.9551066\ttest: 0.9551066\tbest: 0.9573513 (191)\ttotal: 667ms\tremaining: 2.7s\n",
      "198:\tlearn: 0.9551066\ttest: 0.9551066\tbest: 0.9573513 (191)\ttotal: 669ms\tremaining: 2.69s\n",
      "199:\tlearn: 0.9551066\ttest: 0.9551066\tbest: 0.9573513 (191)\ttotal: 670ms\tremaining: 2.68s\n",
      "200:\tlearn: 0.9562290\ttest: 0.9562290\tbest: 0.9573513 (191)\ttotal: 672ms\tremaining: 2.67s\n",
      "201:\tlearn: 0.9562290\ttest: 0.9562290\tbest: 0.9573513 (191)\ttotal: 674ms\tremaining: 2.66s\n",
      "202:\tlearn: 0.9562290\ttest: 0.9562290\tbest: 0.9573513 (191)\ttotal: 675ms\tremaining: 2.65s\n",
      "203:\tlearn: 0.9551066\ttest: 0.9551066\tbest: 0.9573513 (191)\ttotal: 677ms\tremaining: 2.64s\n",
      "204:\tlearn: 0.9551066\ttest: 0.9551066\tbest: 0.9573513 (191)\ttotal: 679ms\tremaining: 2.63s\n",
      "205:\tlearn: 0.9551066\ttest: 0.9551066\tbest: 0.9573513 (191)\ttotal: 680ms\tremaining: 2.62s\n",
      "206:\tlearn: 0.9551066\ttest: 0.9551066\tbest: 0.9573513 (191)\ttotal: 681ms\tremaining: 2.61s\n",
      "207:\tlearn: 0.9551066\ttest: 0.9551066\tbest: 0.9573513 (191)\ttotal: 683ms\tremaining: 2.6s\n",
      "208:\tlearn: 0.9551066\ttest: 0.9551066\tbest: 0.9573513 (191)\ttotal: 684ms\tremaining: 2.59s\n",
      "209:\tlearn: 0.9573513\ttest: 0.9573513\tbest: 0.9573513 (191)\ttotal: 685ms\tremaining: 2.58s\n",
      "210:\tlearn: 0.9573513\ttest: 0.9573513\tbest: 0.9573513 (191)\ttotal: 687ms\tremaining: 2.57s\n",
      "211:\tlearn: 0.9584736\ttest: 0.9584736\tbest: 0.9584736 (211)\ttotal: 688ms\tremaining: 2.56s\n",
      "212:\tlearn: 0.9584736\ttest: 0.9584736\tbest: 0.9584736 (211)\ttotal: 690ms\tremaining: 2.55s\n",
      "213:\tlearn: 0.9584736\ttest: 0.9584736\tbest: 0.9584736 (211)\ttotal: 691ms\tremaining: 2.54s\n",
      "214:\tlearn: 0.9584736\ttest: 0.9584736\tbest: 0.9584736 (211)\ttotal: 692ms\tremaining: 2.52s\n",
      "215:\tlearn: 0.9584736\ttest: 0.9584736\tbest: 0.9584736 (211)\ttotal: 693ms\tremaining: 2.52s\n",
      "216:\tlearn: 0.9584736\ttest: 0.9584736\tbest: 0.9584736 (211)\ttotal: 695ms\tremaining: 2.51s\n",
      "217:\tlearn: 0.9584736\ttest: 0.9584736\tbest: 0.9584736 (211)\ttotal: 696ms\tremaining: 2.5s\n",
      "218:\tlearn: 0.9584736\ttest: 0.9584736\tbest: 0.9584736 (211)\ttotal: 698ms\tremaining: 2.49s\n",
      "219:\tlearn: 0.9584736\ttest: 0.9584736\tbest: 0.9584736 (211)\ttotal: 699ms\tremaining: 2.48s\n",
      "220:\tlearn: 0.9573513\ttest: 0.9573513\tbest: 0.9584736 (211)\ttotal: 700ms\tremaining: 2.47s\n",
      "221:\tlearn: 0.9573513\ttest: 0.9573513\tbest: 0.9584736 (211)\ttotal: 702ms\tremaining: 2.46s\n",
      "222:\tlearn: 0.9573513\ttest: 0.9573513\tbest: 0.9584736 (211)\ttotal: 703ms\tremaining: 2.45s\n",
      "223:\tlearn: 0.9573513\ttest: 0.9573513\tbest: 0.9584736 (211)\ttotal: 704ms\tremaining: 2.44s\n",
      "224:\tlearn: 0.9573513\ttest: 0.9573513\tbest: 0.9584736 (211)\ttotal: 706ms\tremaining: 2.43s\n",
      "225:\tlearn: 0.9584736\ttest: 0.9584736\tbest: 0.9584736 (211)\ttotal: 707ms\tremaining: 2.42s\n",
      "226:\tlearn: 0.9584736\ttest: 0.9584736\tbest: 0.9584736 (211)\ttotal: 708ms\tremaining: 2.41s\n",
      "227:\tlearn: 0.9595960\ttest: 0.9595960\tbest: 0.9595960 (227)\ttotal: 708ms\tremaining: 2.4s\n",
      "228:\tlearn: 0.9595960\ttest: 0.9595960\tbest: 0.9595960 (227)\ttotal: 710ms\tremaining: 2.39s\n",
      "229:\tlearn: 0.9595960\ttest: 0.9595960\tbest: 0.9595960 (227)\ttotal: 711ms\tremaining: 2.38s\n",
      "230:\tlearn: 0.9595960\ttest: 0.9595960\tbest: 0.9595960 (227)\ttotal: 712ms\tremaining: 2.37s\n",
      "231:\tlearn: 0.9595960\ttest: 0.9595960\tbest: 0.9595960 (227)\ttotal: 714ms\tremaining: 2.36s\n",
      "232:\tlearn: 0.9584736\ttest: 0.9584736\tbest: 0.9595960 (227)\ttotal: 715ms\tremaining: 2.35s\n",
      "233:\tlearn: 0.9584736\ttest: 0.9584736\tbest: 0.9595960 (227)\ttotal: 716ms\tremaining: 2.34s\n",
      "234:\tlearn: 0.9584736\ttest: 0.9584736\tbest: 0.9595960 (227)\ttotal: 717ms\tremaining: 2.33s\n",
      "235:\tlearn: 0.9595960\ttest: 0.9595960\tbest: 0.9595960 (227)\ttotal: 718ms\tremaining: 2.32s\n",
      "236:\tlearn: 0.9595960\ttest: 0.9595960\tbest: 0.9595960 (227)\ttotal: 719ms\tremaining: 2.31s\n",
      "237:\tlearn: 0.9607183\ttest: 0.9607183\tbest: 0.9607183 (237)\ttotal: 721ms\tremaining: 2.31s\n",
      "238:\tlearn: 0.9629630\ttest: 0.9629630\tbest: 0.9629630 (238)\ttotal: 722ms\tremaining: 2.3s\n",
      "239:\tlearn: 0.9618406\ttest: 0.9618406\tbest: 0.9629630 (238)\ttotal: 723ms\tremaining: 2.29s\n",
      "240:\tlearn: 0.9607183\ttest: 0.9607183\tbest: 0.9629630 (238)\ttotal: 724ms\tremaining: 2.28s\n",
      "241:\tlearn: 0.9618406\ttest: 0.9618406\tbest: 0.9629630 (238)\ttotal: 725ms\tremaining: 2.27s\n",
      "242:\tlearn: 0.9618406\ttest: 0.9618406\tbest: 0.9629630 (238)\ttotal: 727ms\tremaining: 2.26s\n",
      "243:\tlearn: 0.9618406\ttest: 0.9618406\tbest: 0.9629630 (238)\ttotal: 729ms\tremaining: 2.26s\n",
      "244:\tlearn: 0.9618406\ttest: 0.9618406\tbest: 0.9629630 (238)\ttotal: 731ms\tremaining: 2.25s\n",
      "245:\tlearn: 0.9618406\ttest: 0.9618406\tbest: 0.9629630 (238)\ttotal: 732ms\tremaining: 2.24s\n",
      "246:\tlearn: 0.9607183\ttest: 0.9607183\tbest: 0.9629630 (238)\ttotal: 733ms\tremaining: 2.23s\n",
      "247:\tlearn: 0.9607183\ttest: 0.9607183\tbest: 0.9629630 (238)\ttotal: 735ms\tremaining: 2.23s\n",
      "248:\tlearn: 0.9607183\ttest: 0.9607183\tbest: 0.9629630 (238)\ttotal: 736ms\tremaining: 2.22s\n",
      "249:\tlearn: 0.9618406\ttest: 0.9618406\tbest: 0.9629630 (238)\ttotal: 738ms\tremaining: 2.21s\n",
      "250:\tlearn: 0.9607183\ttest: 0.9607183\tbest: 0.9629630 (238)\ttotal: 739ms\tremaining: 2.2s\n",
      "251:\tlearn: 0.9607183\ttest: 0.9607183\tbest: 0.9629630 (238)\ttotal: 740ms\tremaining: 2.2s\n",
      "252:\tlearn: 0.9595960\ttest: 0.9595960\tbest: 0.9629630 (238)\ttotal: 741ms\tremaining: 2.19s\n",
      "253:\tlearn: 0.9595960\ttest: 0.9595960\tbest: 0.9629630 (238)\ttotal: 742ms\tremaining: 2.18s\n",
      "254:\tlearn: 0.9595960\ttest: 0.9595960\tbest: 0.9629630 (238)\ttotal: 743ms\tremaining: 2.17s\n",
      "255:\tlearn: 0.9595960\ttest: 0.9595960\tbest: 0.9629630 (238)\ttotal: 744ms\tremaining: 2.16s\n",
      "256:\tlearn: 0.9607183\ttest: 0.9607183\tbest: 0.9629630 (238)\ttotal: 750ms\tremaining: 2.17s\n",
      "257:\tlearn: 0.9618406\ttest: 0.9618406\tbest: 0.9629630 (238)\ttotal: 752ms\tremaining: 2.16s\n",
      "258:\tlearn: 0.9618406\ttest: 0.9618406\tbest: 0.9629630 (238)\ttotal: 753ms\tremaining: 2.15s\n",
      "259:\tlearn: 0.9618406\ttest: 0.9618406\tbest: 0.9629630 (238)\ttotal: 754ms\tremaining: 2.14s\n",
      "260:\tlearn: 0.9618406\ttest: 0.9618406\tbest: 0.9629630 (238)\ttotal: 755ms\tremaining: 2.14s\n",
      "261:\tlearn: 0.9618406\ttest: 0.9618406\tbest: 0.9629630 (238)\ttotal: 756ms\tremaining: 2.13s\n",
      "262:\tlearn: 0.9607183\ttest: 0.9607183\tbest: 0.9629630 (238)\ttotal: 757ms\tremaining: 2.12s\n",
      "263:\tlearn: 0.9618406\ttest: 0.9618406\tbest: 0.9629630 (238)\ttotal: 758ms\tremaining: 2.11s\n",
      "264:\tlearn: 0.9629630\ttest: 0.9629630\tbest: 0.9629630 (238)\ttotal: 759ms\tremaining: 2.1s\n",
      "265:\tlearn: 0.9629630\ttest: 0.9629630\tbest: 0.9629630 (238)\ttotal: 760ms\tremaining: 2.1s\n",
      "266:\tlearn: 0.9629630\ttest: 0.9629630\tbest: 0.9629630 (238)\ttotal: 761ms\tremaining: 2.09s\n",
      "267:\tlearn: 0.9629630\ttest: 0.9629630\tbest: 0.9629630 (238)\ttotal: 762ms\tremaining: 2.08s\n",
      "268:\tlearn: 0.9629630\ttest: 0.9629630\tbest: 0.9629630 (238)\ttotal: 763ms\tremaining: 2.07s\n",
      "269:\tlearn: 0.9629630\ttest: 0.9629630\tbest: 0.9629630 (238)\ttotal: 764ms\tremaining: 2.06s\n",
      "270:\tlearn: 0.9629630\ttest: 0.9629630\tbest: 0.9629630 (238)\ttotal: 765ms\tremaining: 2.06s\n",
      "271:\tlearn: 0.9629630\ttest: 0.9629630\tbest: 0.9629630 (238)\ttotal: 766ms\tremaining: 2.05s\n",
      "272:\tlearn: 0.9629630\ttest: 0.9629630\tbest: 0.9629630 (238)\ttotal: 767ms\tremaining: 2.04s\n",
      "273:\tlearn: 0.9629630\ttest: 0.9629630\tbest: 0.9629630 (238)\ttotal: 769ms\tremaining: 2.04s\n",
      "274:\tlearn: 0.9629630\ttest: 0.9629630\tbest: 0.9629630 (238)\ttotal: 770ms\tremaining: 2.03s\n",
      "275:\tlearn: 0.9629630\ttest: 0.9629630\tbest: 0.9629630 (238)\ttotal: 771ms\tremaining: 2.02s\n",
      "276:\tlearn: 0.9629630\ttest: 0.9629630\tbest: 0.9629630 (238)\ttotal: 772ms\tremaining: 2.02s\n",
      "277:\tlearn: 0.9629630\ttest: 0.9629630\tbest: 0.9629630 (238)\ttotal: 773ms\tremaining: 2.01s\n",
      "278:\tlearn: 0.9629630\ttest: 0.9629630\tbest: 0.9629630 (238)\ttotal: 774ms\tremaining: 2s\n",
      "279:\tlearn: 0.9629630\ttest: 0.9629630\tbest: 0.9629630 (238)\ttotal: 775ms\tremaining: 1.99s\n",
      "280:\tlearn: 0.9629630\ttest: 0.9629630\tbest: 0.9629630 (238)\ttotal: 776ms\tremaining: 1.99s\n",
      "281:\tlearn: 0.9629630\ttest: 0.9629630\tbest: 0.9629630 (238)\ttotal: 777ms\tremaining: 1.98s\n",
      "282:\tlearn: 0.9618406\ttest: 0.9618406\tbest: 0.9629630 (238)\ttotal: 778ms\tremaining: 1.97s\n",
      "283:\tlearn: 0.9618406\ttest: 0.9618406\tbest: 0.9629630 (238)\ttotal: 779ms\tremaining: 1.96s\n",
      "284:\tlearn: 0.9618406\ttest: 0.9618406\tbest: 0.9629630 (238)\ttotal: 780ms\tremaining: 1.96s\n",
      "285:\tlearn: 0.9618406\ttest: 0.9618406\tbest: 0.9629630 (238)\ttotal: 782ms\tremaining: 1.95s\n",
      "286:\tlearn: 0.9618406\ttest: 0.9618406\tbest: 0.9629630 (238)\ttotal: 783ms\tremaining: 1.94s\n",
      "287:\tlearn: 0.9618406\ttest: 0.9618406\tbest: 0.9629630 (238)\ttotal: 784ms\tremaining: 1.94s\n",
      "288:\tlearn: 0.9640853\ttest: 0.9640853\tbest: 0.9640853 (288)\ttotal: 785ms\tremaining: 1.93s\n",
      "289:\tlearn: 0.9640853\ttest: 0.9640853\tbest: 0.9640853 (288)\ttotal: 786ms\tremaining: 1.92s\n",
      "290:\tlearn: 0.9640853\ttest: 0.9640853\tbest: 0.9640853 (288)\ttotal: 787ms\tremaining: 1.92s\n"
     ]
    },
    {
     "name": "stdout",
     "output_type": "stream",
     "text": [
      "291:\tlearn: 0.9640853\ttest: 0.9640853\tbest: 0.9640853 (288)\ttotal: 831ms\tremaining: 2.02s\n",
      "292:\tlearn: 0.9640853\ttest: 0.9640853\tbest: 0.9640853 (288)\ttotal: 832ms\tremaining: 2.01s\n",
      "293:\tlearn: 0.9640853\ttest: 0.9640853\tbest: 0.9640853 (288)\ttotal: 833ms\tremaining: 2s\n",
      "294:\tlearn: 0.9640853\ttest: 0.9640853\tbest: 0.9640853 (288)\ttotal: 835ms\tremaining: 1.99s\n",
      "295:\tlearn: 0.9652076\ttest: 0.9652076\tbest: 0.9652076 (295)\ttotal: 836ms\tremaining: 1.99s\n",
      "296:\tlearn: 0.9652076\ttest: 0.9652076\tbest: 0.9652076 (295)\ttotal: 837ms\tremaining: 1.98s\n",
      "297:\tlearn: 0.9652076\ttest: 0.9652076\tbest: 0.9652076 (295)\ttotal: 838ms\tremaining: 1.97s\n",
      "298:\tlearn: 0.9652076\ttest: 0.9652076\tbest: 0.9652076 (295)\ttotal: 839ms\tremaining: 1.97s\n",
      "299:\tlearn: 0.9652076\ttest: 0.9652076\tbest: 0.9652076 (295)\ttotal: 840ms\tremaining: 1.96s\n",
      "300:\tlearn: 0.9652076\ttest: 0.9652076\tbest: 0.9652076 (295)\ttotal: 841ms\tremaining: 1.95s\n",
      "301:\tlearn: 0.9652076\ttest: 0.9652076\tbest: 0.9652076 (295)\ttotal: 842ms\tremaining: 1.95s\n",
      "302:\tlearn: 0.9652076\ttest: 0.9652076\tbest: 0.9652076 (295)\ttotal: 843ms\tremaining: 1.94s\n",
      "303:\tlearn: 0.9652076\ttest: 0.9652076\tbest: 0.9652076 (295)\ttotal: 844ms\tremaining: 1.93s\n",
      "304:\tlearn: 0.9652076\ttest: 0.9652076\tbest: 0.9652076 (295)\ttotal: 846ms\tremaining: 1.93s\n",
      "305:\tlearn: 0.9652076\ttest: 0.9652076\tbest: 0.9652076 (295)\ttotal: 847ms\tremaining: 1.92s\n",
      "306:\tlearn: 0.9652076\ttest: 0.9652076\tbest: 0.9652076 (295)\ttotal: 848ms\tremaining: 1.91s\n",
      "307:\tlearn: 0.9652076\ttest: 0.9652076\tbest: 0.9652076 (295)\ttotal: 849ms\tremaining: 1.91s\n",
      "308:\tlearn: 0.9652076\ttest: 0.9652076\tbest: 0.9652076 (295)\ttotal: 851ms\tremaining: 1.9s\n",
      "309:\tlearn: 0.9652076\ttest: 0.9652076\tbest: 0.9652076 (295)\ttotal: 852ms\tremaining: 1.9s\n",
      "310:\tlearn: 0.9652076\ttest: 0.9652076\tbest: 0.9652076 (295)\ttotal: 853ms\tremaining: 1.89s\n",
      "311:\tlearn: 0.9652076\ttest: 0.9652076\tbest: 0.9652076 (295)\ttotal: 854ms\tremaining: 1.88s\n",
      "312:\tlearn: 0.9652076\ttest: 0.9652076\tbest: 0.9652076 (295)\ttotal: 855ms\tremaining: 1.88s\n",
      "313:\tlearn: 0.9663300\ttest: 0.9663300\tbest: 0.9663300 (313)\ttotal: 856ms\tremaining: 1.87s\n",
      "314:\tlearn: 0.9663300\ttest: 0.9663300\tbest: 0.9663300 (313)\ttotal: 857ms\tremaining: 1.86s\n",
      "315:\tlearn: 0.9663300\ttest: 0.9663300\tbest: 0.9663300 (313)\ttotal: 875ms\tremaining: 1.89s\n",
      "316:\tlearn: 0.9663300\ttest: 0.9663300\tbest: 0.9663300 (313)\ttotal: 876ms\tremaining: 1.89s\n",
      "317:\tlearn: 0.9663300\ttest: 0.9663300\tbest: 0.9663300 (313)\ttotal: 877ms\tremaining: 1.88s\n",
      "318:\tlearn: 0.9663300\ttest: 0.9663300\tbest: 0.9663300 (313)\ttotal: 878ms\tremaining: 1.87s\n",
      "319:\tlearn: 0.9663300\ttest: 0.9663300\tbest: 0.9663300 (313)\ttotal: 880ms\tremaining: 1.87s\n",
      "320:\tlearn: 0.9663300\ttest: 0.9663300\tbest: 0.9663300 (313)\ttotal: 881ms\tremaining: 1.86s\n",
      "321:\tlearn: 0.9663300\ttest: 0.9663300\tbest: 0.9663300 (313)\ttotal: 882ms\tremaining: 1.86s\n",
      "322:\tlearn: 0.9663300\ttest: 0.9663300\tbest: 0.9663300 (313)\ttotal: 883ms\tremaining: 1.85s\n",
      "323:\tlearn: 0.9674523\ttest: 0.9674523\tbest: 0.9674523 (323)\ttotal: 884ms\tremaining: 1.84s\n",
      "324:\tlearn: 0.9685746\ttest: 0.9685746\tbest: 0.9685746 (324)\ttotal: 885ms\tremaining: 1.84s\n",
      "325:\tlearn: 0.9685746\ttest: 0.9685746\tbest: 0.9685746 (324)\ttotal: 886ms\tremaining: 1.83s\n",
      "326:\tlearn: 0.9685746\ttest: 0.9685746\tbest: 0.9685746 (324)\ttotal: 888ms\tremaining: 1.83s\n",
      "327:\tlearn: 0.9685746\ttest: 0.9685746\tbest: 0.9685746 (324)\ttotal: 889ms\tremaining: 1.82s\n",
      "328:\tlearn: 0.9685746\ttest: 0.9685746\tbest: 0.9685746 (324)\ttotal: 890ms\tremaining: 1.81s\n",
      "329:\tlearn: 0.9685746\ttest: 0.9685746\tbest: 0.9685746 (324)\ttotal: 891ms\tremaining: 1.81s\n",
      "330:\tlearn: 0.9685746\ttest: 0.9685746\tbest: 0.9685746 (324)\ttotal: 892ms\tremaining: 1.8s\n",
      "331:\tlearn: 0.9685746\ttest: 0.9685746\tbest: 0.9685746 (324)\ttotal: 893ms\tremaining: 1.8s\n",
      "332:\tlearn: 0.9685746\ttest: 0.9685746\tbest: 0.9685746 (324)\ttotal: 894ms\tremaining: 1.79s\n",
      "333:\tlearn: 0.9685746\ttest: 0.9685746\tbest: 0.9685746 (324)\ttotal: 896ms\tremaining: 1.78s\n",
      "334:\tlearn: 0.9685746\ttest: 0.9685746\tbest: 0.9685746 (324)\ttotal: 897ms\tremaining: 1.78s\n",
      "335:\tlearn: 0.9696970\ttest: 0.9696970\tbest: 0.9696970 (335)\ttotal: 898ms\tremaining: 1.77s\n",
      "336:\tlearn: 0.9696970\ttest: 0.9696970\tbest: 0.9696970 (335)\ttotal: 898ms\tremaining: 1.77s\n",
      "337:\tlearn: 0.9696970\ttest: 0.9696970\tbest: 0.9696970 (335)\ttotal: 900ms\tremaining: 1.76s\n",
      "338:\tlearn: 0.9696970\ttest: 0.9696970\tbest: 0.9696970 (335)\ttotal: 901ms\tremaining: 1.76s\n",
      "339:\tlearn: 0.9696970\ttest: 0.9696970\tbest: 0.9696970 (335)\ttotal: 902ms\tremaining: 1.75s\n",
      "340:\tlearn: 0.9696970\ttest: 0.9696970\tbest: 0.9696970 (335)\ttotal: 903ms\tremaining: 1.75s\n",
      "341:\tlearn: 0.9696970\ttest: 0.9696970\tbest: 0.9696970 (335)\ttotal: 905ms\tremaining: 1.74s\n",
      "342:\tlearn: 0.9708193\ttest: 0.9708193\tbest: 0.9708193 (342)\ttotal: 906ms\tremaining: 1.73s\n",
      "343:\tlearn: 0.9708193\ttest: 0.9708193\tbest: 0.9708193 (342)\ttotal: 907ms\tremaining: 1.73s\n",
      "344:\tlearn: 0.9696970\ttest: 0.9696970\tbest: 0.9708193 (342)\ttotal: 907ms\tremaining: 1.72s\n",
      "345:\tlearn: 0.9708193\ttest: 0.9708193\tbest: 0.9708193 (342)\ttotal: 908ms\tremaining: 1.72s\n",
      "346:\tlearn: 0.9708193\ttest: 0.9708193\tbest: 0.9708193 (342)\ttotal: 910ms\tremaining: 1.71s\n",
      "347:\tlearn: 0.9708193\ttest: 0.9708193\tbest: 0.9708193 (342)\ttotal: 910ms\tremaining: 1.71s\n",
      "348:\tlearn: 0.9719416\ttest: 0.9719416\tbest: 0.9719416 (348)\ttotal: 911ms\tremaining: 1.7s\n",
      "349:\tlearn: 0.9708193\ttest: 0.9708193\tbest: 0.9719416 (348)\ttotal: 912ms\tremaining: 1.69s\n",
      "350:\tlearn: 0.9708193\ttest: 0.9708193\tbest: 0.9719416 (348)\ttotal: 913ms\tremaining: 1.69s\n",
      "351:\tlearn: 0.9708193\ttest: 0.9708193\tbest: 0.9719416 (348)\ttotal: 915ms\tremaining: 1.68s\n",
      "352:\tlearn: 0.9708193\ttest: 0.9708193\tbest: 0.9719416 (348)\ttotal: 915ms\tremaining: 1.68s\n",
      "353:\tlearn: 0.9719416\ttest: 0.9719416\tbest: 0.9719416 (348)\ttotal: 917ms\tremaining: 1.67s\n",
      "354:\tlearn: 0.9708193\ttest: 0.9708193\tbest: 0.9719416 (348)\ttotal: 917ms\tremaining: 1.67s\n",
      "355:\tlearn: 0.9708193\ttest: 0.9708193\tbest: 0.9719416 (348)\ttotal: 919ms\tremaining: 1.66s\n",
      "356:\tlearn: 0.9719416\ttest: 0.9719416\tbest: 0.9719416 (348)\ttotal: 920ms\tremaining: 1.66s\n",
      "357:\tlearn: 0.9719416\ttest: 0.9719416\tbest: 0.9719416 (348)\ttotal: 921ms\tremaining: 1.65s\n",
      "358:\tlearn: 0.9719416\ttest: 0.9719416\tbest: 0.9719416 (348)\ttotal: 922ms\tremaining: 1.65s\n",
      "359:\tlearn: 0.9719416\ttest: 0.9719416\tbest: 0.9719416 (348)\ttotal: 923ms\tremaining: 1.64s\n",
      "360:\tlearn: 0.9719416\ttest: 0.9719416\tbest: 0.9719416 (348)\ttotal: 924ms\tremaining: 1.63s\n",
      "361:\tlearn: 0.9719416\ttest: 0.9719416\tbest: 0.9719416 (348)\ttotal: 925ms\tremaining: 1.63s\n",
      "362:\tlearn: 0.9719416\ttest: 0.9719416\tbest: 0.9719416 (348)\ttotal: 925ms\tremaining: 1.62s\n",
      "363:\tlearn: 0.9719416\ttest: 0.9719416\tbest: 0.9719416 (348)\ttotal: 926ms\tremaining: 1.62s\n",
      "364:\tlearn: 0.9719416\ttest: 0.9719416\tbest: 0.9719416 (348)\ttotal: 927ms\tremaining: 1.61s\n",
      "365:\tlearn: 0.9719416\ttest: 0.9719416\tbest: 0.9719416 (348)\ttotal: 928ms\tremaining: 1.61s\n",
      "366:\tlearn: 0.9719416\ttest: 0.9719416\tbest: 0.9719416 (348)\ttotal: 929ms\tremaining: 1.6s\n",
      "367:\tlearn: 0.9719416\ttest: 0.9719416\tbest: 0.9719416 (348)\ttotal: 930ms\tremaining: 1.6s\n",
      "368:\tlearn: 0.9719416\ttest: 0.9719416\tbest: 0.9719416 (348)\ttotal: 931ms\tremaining: 1.59s\n",
      "369:\tlearn: 0.9719416\ttest: 0.9719416\tbest: 0.9719416 (348)\ttotal: 932ms\tremaining: 1.59s\n",
      "370:\tlearn: 0.9719416\ttest: 0.9719416\tbest: 0.9719416 (348)\ttotal: 933ms\tremaining: 1.58s\n",
      "371:\tlearn: 0.9719416\ttest: 0.9719416\tbest: 0.9719416 (348)\ttotal: 934ms\tremaining: 1.58s\n",
      "372:\tlearn: 0.9719416\ttest: 0.9719416\tbest: 0.9719416 (348)\ttotal: 935ms\tremaining: 1.57s\n",
      "373:\tlearn: 0.9719416\ttest: 0.9719416\tbest: 0.9719416 (348)\ttotal: 936ms\tremaining: 1.57s\n",
      "374:\tlearn: 0.9719416\ttest: 0.9719416\tbest: 0.9719416 (348)\ttotal: 937ms\tremaining: 1.56s\n",
      "375:\tlearn: 0.9719416\ttest: 0.9719416\tbest: 0.9719416 (348)\ttotal: 938ms\tremaining: 1.56s\n",
      "376:\tlearn: 0.9719416\ttest: 0.9719416\tbest: 0.9719416 (348)\ttotal: 939ms\tremaining: 1.55s\n",
      "377:\tlearn: 0.9719416\ttest: 0.9719416\tbest: 0.9719416 (348)\ttotal: 940ms\tremaining: 1.55s\n",
      "378:\tlearn: 0.9719416\ttest: 0.9719416\tbest: 0.9719416 (348)\ttotal: 941ms\tremaining: 1.54s\n",
      "379:\tlearn: 0.9719416\ttest: 0.9719416\tbest: 0.9719416 (348)\ttotal: 941ms\tremaining: 1.54s\n",
      "380:\tlearn: 0.9719416\ttest: 0.9719416\tbest: 0.9719416 (348)\ttotal: 942ms\tremaining: 1.53s\n",
      "381:\tlearn: 0.9719416\ttest: 0.9719416\tbest: 0.9719416 (348)\ttotal: 943ms\tremaining: 1.53s\n",
      "382:\tlearn: 0.9719416\ttest: 0.9719416\tbest: 0.9719416 (348)\ttotal: 967ms\tremaining: 1.56s\n"
     ]
    },
    {
     "name": "stdout",
     "output_type": "stream",
     "text": [
      "383:\tlearn: 0.9719416\ttest: 0.9719416\tbest: 0.9719416 (348)\ttotal: 978ms\tremaining: 1.57s\n",
      "384:\tlearn: 0.9719416\ttest: 0.9719416\tbest: 0.9719416 (348)\ttotal: 979ms\tremaining: 1.56s\n",
      "385:\tlearn: 0.9719416\ttest: 0.9719416\tbest: 0.9719416 (348)\ttotal: 980ms\tremaining: 1.56s\n",
      "386:\tlearn: 0.9719416\ttest: 0.9719416\tbest: 0.9719416 (348)\ttotal: 981ms\tremaining: 1.55s\n",
      "387:\tlearn: 0.9719416\ttest: 0.9719416\tbest: 0.9719416 (348)\ttotal: 982ms\tremaining: 1.55s\n",
      "388:\tlearn: 0.9719416\ttest: 0.9719416\tbest: 0.9719416 (348)\ttotal: 983ms\tremaining: 1.54s\n",
      "389:\tlearn: 0.9719416\ttest: 0.9719416\tbest: 0.9719416 (348)\ttotal: 984ms\tremaining: 1.54s\n",
      "390:\tlearn: 0.9719416\ttest: 0.9719416\tbest: 0.9719416 (348)\ttotal: 985ms\tremaining: 1.53s\n",
      "391:\tlearn: 0.9719416\ttest: 0.9719416\tbest: 0.9719416 (348)\ttotal: 986ms\tremaining: 1.53s\n",
      "392:\tlearn: 0.9719416\ttest: 0.9719416\tbest: 0.9719416 (348)\ttotal: 987ms\tremaining: 1.52s\n",
      "393:\tlearn: 0.9719416\ttest: 0.9719416\tbest: 0.9719416 (348)\ttotal: 989ms\tremaining: 1.52s\n",
      "394:\tlearn: 0.9719416\ttest: 0.9719416\tbest: 0.9719416 (348)\ttotal: 990ms\tremaining: 1.51s\n",
      "395:\tlearn: 0.9719416\ttest: 0.9719416\tbest: 0.9719416 (348)\ttotal: 991ms\tremaining: 1.51s\n",
      "396:\tlearn: 0.9719416\ttest: 0.9719416\tbest: 0.9719416 (348)\ttotal: 991ms\tremaining: 1.5s\n",
      "397:\tlearn: 0.9719416\ttest: 0.9719416\tbest: 0.9719416 (348)\ttotal: 992ms\tremaining: 1.5s\n",
      "398:\tlearn: 0.9708193\ttest: 0.9708193\tbest: 0.9719416 (348)\ttotal: 993ms\tremaining: 1.5s\n",
      "399:\tlearn: 0.9708193\ttest: 0.9708193\tbest: 0.9719416 (348)\ttotal: 994ms\tremaining: 1.49s\n",
      "400:\tlearn: 0.9708193\ttest: 0.9708193\tbest: 0.9719416 (348)\ttotal: 995ms\tremaining: 1.49s\n",
      "401:\tlearn: 0.9708193\ttest: 0.9708193\tbest: 0.9719416 (348)\ttotal: 997ms\tremaining: 1.48s\n",
      "402:\tlearn: 0.9708193\ttest: 0.9708193\tbest: 0.9719416 (348)\ttotal: 998ms\tremaining: 1.48s\n",
      "403:\tlearn: 0.9708193\ttest: 0.9708193\tbest: 0.9719416 (348)\ttotal: 999ms\tremaining: 1.47s\n",
      "404:\tlearn: 0.9708193\ttest: 0.9708193\tbest: 0.9719416 (348)\ttotal: 1000ms\tremaining: 1.47s\n",
      "405:\tlearn: 0.9708193\ttest: 0.9708193\tbest: 0.9719416 (348)\ttotal: 1s\tremaining: 1.46s\n",
      "406:\tlearn: 0.9708193\ttest: 0.9708193\tbest: 0.9719416 (348)\ttotal: 1s\tremaining: 1.46s\n",
      "407:\tlearn: 0.9708193\ttest: 0.9708193\tbest: 0.9719416 (348)\ttotal: 1s\tremaining: 1.46s\n",
      "408:\tlearn: 0.9708193\ttest: 0.9708193\tbest: 0.9719416 (348)\ttotal: 1s\tremaining: 1.45s\n",
      "409:\tlearn: 0.9708193\ttest: 0.9708193\tbest: 0.9719416 (348)\ttotal: 1.01s\tremaining: 1.45s\n",
      "410:\tlearn: 0.9708193\ttest: 0.9708193\tbest: 0.9719416 (348)\ttotal: 1.01s\tremaining: 1.44s\n",
      "411:\tlearn: 0.9708193\ttest: 0.9708193\tbest: 0.9719416 (348)\ttotal: 1.01s\tremaining: 1.44s\n",
      "412:\tlearn: 0.9708193\ttest: 0.9708193\tbest: 0.9719416 (348)\ttotal: 1.01s\tremaining: 1.43s\n",
      "413:\tlearn: 0.9708193\ttest: 0.9708193\tbest: 0.9719416 (348)\ttotal: 1.01s\tremaining: 1.43s\n",
      "414:\tlearn: 0.9708193\ttest: 0.9708193\tbest: 0.9719416 (348)\ttotal: 1.01s\tremaining: 1.43s\n",
      "415:\tlearn: 0.9708193\ttest: 0.9708193\tbest: 0.9719416 (348)\ttotal: 1.01s\tremaining: 1.42s\n",
      "416:\tlearn: 0.9708193\ttest: 0.9708193\tbest: 0.9719416 (348)\ttotal: 1.01s\tremaining: 1.42s\n",
      "417:\tlearn: 0.9708193\ttest: 0.9708193\tbest: 0.9719416 (348)\ttotal: 1.01s\tremaining: 1.41s\n",
      "418:\tlearn: 0.9708193\ttest: 0.9708193\tbest: 0.9719416 (348)\ttotal: 1.01s\tremaining: 1.41s\n",
      "419:\tlearn: 0.9730640\ttest: 0.9730640\tbest: 0.9730640 (419)\ttotal: 1.02s\tremaining: 1.4s\n",
      "420:\tlearn: 0.9730640\ttest: 0.9730640\tbest: 0.9730640 (419)\ttotal: 1.02s\tremaining: 1.4s\n",
      "421:\tlearn: 0.9730640\ttest: 0.9730640\tbest: 0.9730640 (419)\ttotal: 1.02s\tremaining: 1.39s\n",
      "422:\tlearn: 0.9730640\ttest: 0.9730640\tbest: 0.9730640 (419)\ttotal: 1.02s\tremaining: 1.39s\n",
      "423:\tlearn: 0.9730640\ttest: 0.9730640\tbest: 0.9730640 (419)\ttotal: 1.02s\tremaining: 1.39s\n",
      "424:\tlearn: 0.9730640\ttest: 0.9730640\tbest: 0.9730640 (419)\ttotal: 1.02s\tremaining: 1.38s\n",
      "425:\tlearn: 0.9730640\ttest: 0.9730640\tbest: 0.9730640 (419)\ttotal: 1.02s\tremaining: 1.38s\n",
      "426:\tlearn: 0.9730640\ttest: 0.9730640\tbest: 0.9730640 (419)\ttotal: 1.02s\tremaining: 1.37s\n",
      "427:\tlearn: 0.9730640\ttest: 0.9730640\tbest: 0.9730640 (419)\ttotal: 1.02s\tremaining: 1.37s\n",
      "428:\tlearn: 0.9730640\ttest: 0.9730640\tbest: 0.9730640 (419)\ttotal: 1.02s\tremaining: 1.36s\n",
      "429:\tlearn: 0.9730640\ttest: 0.9730640\tbest: 0.9730640 (419)\ttotal: 1.03s\tremaining: 1.36s\n",
      "430:\tlearn: 0.9730640\ttest: 0.9730640\tbest: 0.9730640 (419)\ttotal: 1.03s\tremaining: 1.36s\n",
      "431:\tlearn: 0.9730640\ttest: 0.9730640\tbest: 0.9730640 (419)\ttotal: 1.03s\tremaining: 1.35s\n",
      "432:\tlearn: 0.9730640\ttest: 0.9730640\tbest: 0.9730640 (419)\ttotal: 1.03s\tremaining: 1.35s\n",
      "433:\tlearn: 0.9730640\ttest: 0.9730640\tbest: 0.9730640 (419)\ttotal: 1.03s\tremaining: 1.34s\n",
      "434:\tlearn: 0.9730640\ttest: 0.9730640\tbest: 0.9730640 (419)\ttotal: 1.03s\tremaining: 1.34s\n",
      "435:\tlearn: 0.9730640\ttest: 0.9730640\tbest: 0.9730640 (419)\ttotal: 1.03s\tremaining: 1.33s\n",
      "436:\tlearn: 0.9730640\ttest: 0.9730640\tbest: 0.9730640 (419)\ttotal: 1.03s\tremaining: 1.33s\n",
      "437:\tlearn: 0.9730640\ttest: 0.9730640\tbest: 0.9730640 (419)\ttotal: 1.03s\tremaining: 1.33s\n",
      "438:\tlearn: 0.9730640\ttest: 0.9730640\tbest: 0.9730640 (419)\ttotal: 1.03s\tremaining: 1.32s\n",
      "439:\tlearn: 0.9730640\ttest: 0.9730640\tbest: 0.9730640 (419)\ttotal: 1.04s\tremaining: 1.32s\n",
      "440:\tlearn: 0.9730640\ttest: 0.9730640\tbest: 0.9730640 (419)\ttotal: 1.04s\tremaining: 1.31s\n",
      "441:\tlearn: 0.9730640\ttest: 0.9730640\tbest: 0.9730640 (419)\ttotal: 1.04s\tremaining: 1.31s\n",
      "442:\tlearn: 0.9730640\ttest: 0.9730640\tbest: 0.9730640 (419)\ttotal: 1.04s\tremaining: 1.31s\n",
      "443:\tlearn: 0.9730640\ttest: 0.9730640\tbest: 0.9730640 (419)\ttotal: 1.04s\tremaining: 1.3s\n",
      "444:\tlearn: 0.9730640\ttest: 0.9730640\tbest: 0.9730640 (419)\ttotal: 1.04s\tremaining: 1.3s\n",
      "445:\tlearn: 0.9730640\ttest: 0.9730640\tbest: 0.9730640 (419)\ttotal: 1.04s\tremaining: 1.3s\n",
      "446:\tlearn: 0.9730640\ttest: 0.9730640\tbest: 0.9730640 (419)\ttotal: 1.04s\tremaining: 1.29s\n",
      "447:\tlearn: 0.9730640\ttest: 0.9730640\tbest: 0.9730640 (419)\ttotal: 1.05s\tremaining: 1.29s\n",
      "448:\tlearn: 0.9730640\ttest: 0.9730640\tbest: 0.9730640 (419)\ttotal: 1.05s\tremaining: 1.29s\n",
      "449:\tlearn: 0.9730640\ttest: 0.9730640\tbest: 0.9730640 (419)\ttotal: 1.05s\tremaining: 1.28s\n",
      "450:\tlearn: 0.9730640\ttest: 0.9730640\tbest: 0.9730640 (419)\ttotal: 1.05s\tremaining: 1.28s\n",
      "451:\tlearn: 0.9730640\ttest: 0.9730640\tbest: 0.9730640 (419)\ttotal: 1.05s\tremaining: 1.27s\n",
      "452:\tlearn: 0.9730640\ttest: 0.9730640\tbest: 0.9730640 (419)\ttotal: 1.05s\tremaining: 1.27s\n",
      "453:\tlearn: 0.9730640\ttest: 0.9730640\tbest: 0.9730640 (419)\ttotal: 1.05s\tremaining: 1.27s\n",
      "454:\tlearn: 0.9730640\ttest: 0.9730640\tbest: 0.9730640 (419)\ttotal: 1.05s\tremaining: 1.26s\n",
      "455:\tlearn: 0.9730640\ttest: 0.9730640\tbest: 0.9730640 (419)\ttotal: 1.05s\tremaining: 1.26s\n",
      "456:\tlearn: 0.9730640\ttest: 0.9730640\tbest: 0.9730640 (419)\ttotal: 1.06s\tremaining: 1.25s\n",
      "457:\tlearn: 0.9730640\ttest: 0.9730640\tbest: 0.9730640 (419)\ttotal: 1.06s\tremaining: 1.25s\n",
      "458:\tlearn: 0.9730640\ttest: 0.9730640\tbest: 0.9730640 (419)\ttotal: 1.06s\tremaining: 1.25s\n",
      "459:\tlearn: 0.9730640\ttest: 0.9730640\tbest: 0.9730640 (419)\ttotal: 1.06s\tremaining: 1.24s\n",
      "460:\tlearn: 0.9730640\ttest: 0.9730640\tbest: 0.9730640 (419)\ttotal: 1.06s\tremaining: 1.24s\n",
      "461:\tlearn: 0.9730640\ttest: 0.9730640\tbest: 0.9730640 (419)\ttotal: 1.06s\tremaining: 1.24s\n",
      "462:\tlearn: 0.9730640\ttest: 0.9730640\tbest: 0.9730640 (419)\ttotal: 1.06s\tremaining: 1.23s\n",
      "463:\tlearn: 0.9730640\ttest: 0.9730640\tbest: 0.9730640 (419)\ttotal: 1.06s\tremaining: 1.23s\n",
      "464:\tlearn: 0.9730640\ttest: 0.9730640\tbest: 0.9730640 (419)\ttotal: 1.06s\tremaining: 1.23s\n",
      "465:\tlearn: 0.9730640\ttest: 0.9730640\tbest: 0.9730640 (419)\ttotal: 1.07s\tremaining: 1.22s\n",
      "466:\tlearn: 0.9730640\ttest: 0.9730640\tbest: 0.9730640 (419)\ttotal: 1.07s\tremaining: 1.22s\n",
      "467:\tlearn: 0.9730640\ttest: 0.9730640\tbest: 0.9730640 (419)\ttotal: 1.07s\tremaining: 1.22s\n",
      "468:\tlearn: 0.9730640\ttest: 0.9730640\tbest: 0.9730640 (419)\ttotal: 1.07s\tremaining: 1.21s\n",
      "469:\tlearn: 0.9730640\ttest: 0.9730640\tbest: 0.9730640 (419)\ttotal: 1.07s\tremaining: 1.21s\n",
      "470:\tlearn: 0.9730640\ttest: 0.9730640\tbest: 0.9730640 (419)\ttotal: 1.07s\tremaining: 1.2s\n",
      "471:\tlearn: 0.9730640\ttest: 0.9730640\tbest: 0.9730640 (419)\ttotal: 1.07s\tremaining: 1.2s\n",
      "472:\tlearn: 0.9730640\ttest: 0.9730640\tbest: 0.9730640 (419)\ttotal: 1.07s\tremaining: 1.2s\n",
      "473:\tlearn: 0.9730640\ttest: 0.9730640\tbest: 0.9730640 (419)\ttotal: 1.07s\tremaining: 1.19s\n",
      "474:\tlearn: 0.9730640\ttest: 0.9730640\tbest: 0.9730640 (419)\ttotal: 1.08s\tremaining: 1.19s\n",
      "475:\tlearn: 0.9730640\ttest: 0.9730640\tbest: 0.9730640 (419)\ttotal: 1.08s\tremaining: 1.19s\n",
      "476:\tlearn: 0.9730640\ttest: 0.9730640\tbest: 0.9730640 (419)\ttotal: 1.08s\tremaining: 1.18s\n",
      "477:\tlearn: 0.9730640\ttest: 0.9730640\tbest: 0.9730640 (419)\ttotal: 1.08s\tremaining: 1.18s\n",
      "478:\tlearn: 0.9730640\ttest: 0.9730640\tbest: 0.9730640 (419)\ttotal: 1.08s\tremaining: 1.18s\n",
      "479:\tlearn: 0.9730640\ttest: 0.9730640\tbest: 0.9730640 (419)\ttotal: 1.08s\tremaining: 1.17s\n",
      "480:\tlearn: 0.9730640\ttest: 0.9730640\tbest: 0.9730640 (419)\ttotal: 1.08s\tremaining: 1.17s\n",
      "481:\tlearn: 0.9730640\ttest: 0.9730640\tbest: 0.9730640 (419)\ttotal: 1.08s\tremaining: 1.16s\n",
      "482:\tlearn: 0.9730640\ttest: 0.9730640\tbest: 0.9730640 (419)\ttotal: 1.08s\tremaining: 1.16s\n",
      "483:\tlearn: 0.9730640\ttest: 0.9730640\tbest: 0.9730640 (419)\ttotal: 1.08s\tremaining: 1.16s\n",
      "484:\tlearn: 0.9730640\ttest: 0.9730640\tbest: 0.9730640 (419)\ttotal: 1.09s\tremaining: 1.15s\n",
      "485:\tlearn: 0.9730640\ttest: 0.9730640\tbest: 0.9730640 (419)\ttotal: 1.09s\tremaining: 1.15s\n",
      "486:\tlearn: 0.9730640\ttest: 0.9730640\tbest: 0.9730640 (419)\ttotal: 1.09s\tremaining: 1.15s\n",
      "487:\tlearn: 0.9730640\ttest: 0.9730640\tbest: 0.9730640 (419)\ttotal: 1.09s\tremaining: 1.14s\n",
      "488:\tlearn: 0.9730640\ttest: 0.9730640\tbest: 0.9730640 (419)\ttotal: 1.09s\tremaining: 1.14s\n",
      "489:\tlearn: 0.9730640\ttest: 0.9730640\tbest: 0.9730640 (419)\ttotal: 1.09s\tremaining: 1.14s\n",
      "490:\tlearn: 0.9730640\ttest: 0.9730640\tbest: 0.9730640 (419)\ttotal: 1.09s\tremaining: 1.13s\n",
      "491:\tlearn: 0.9730640\ttest: 0.9730640\tbest: 0.9730640 (419)\ttotal: 1.09s\tremaining: 1.13s\n",
      "492:\tlearn: 0.9730640\ttest: 0.9730640\tbest: 0.9730640 (419)\ttotal: 1.09s\tremaining: 1.12s\n",
      "493:\tlearn: 0.9730640\ttest: 0.9730640\tbest: 0.9730640 (419)\ttotal: 1.09s\tremaining: 1.12s\n",
      "494:\tlearn: 0.9730640\ttest: 0.9730640\tbest: 0.9730640 (419)\ttotal: 1.09s\tremaining: 1.12s\n",
      "495:\tlearn: 0.9730640\ttest: 0.9730640\tbest: 0.9730640 (419)\ttotal: 1.1s\tremaining: 1.11s\n",
      "496:\tlearn: 0.9730640\ttest: 0.9730640\tbest: 0.9730640 (419)\ttotal: 1.1s\tremaining: 1.11s\n"
     ]
    },
    {
     "name": "stdout",
     "output_type": "stream",
     "text": [
      "497:\tlearn: 0.9730640\ttest: 0.9730640\tbest: 0.9730640 (419)\ttotal: 1.14s\tremaining: 1.15s\n",
      "498:\tlearn: 0.9730640\ttest: 0.9730640\tbest: 0.9730640 (419)\ttotal: 1.15s\tremaining: 1.15s\n",
      "499:\tlearn: 0.9730640\ttest: 0.9730640\tbest: 0.9730640 (419)\ttotal: 1.15s\tremaining: 1.15s\n",
      "500:\tlearn: 0.9730640\ttest: 0.9730640\tbest: 0.9730640 (419)\ttotal: 1.15s\tremaining: 1.14s\n",
      "501:\tlearn: 0.9730640\ttest: 0.9730640\tbest: 0.9730640 (419)\ttotal: 1.15s\tremaining: 1.14s\n",
      "502:\tlearn: 0.9730640\ttest: 0.9730640\tbest: 0.9730640 (419)\ttotal: 1.15s\tremaining: 1.14s\n",
      "503:\tlearn: 0.9730640\ttest: 0.9730640\tbest: 0.9730640 (419)\ttotal: 1.16s\tremaining: 1.14s\n",
      "504:\tlearn: 0.9730640\ttest: 0.9730640\tbest: 0.9730640 (419)\ttotal: 1.16s\tremaining: 1.13s\n",
      "505:\tlearn: 0.9730640\ttest: 0.9730640\tbest: 0.9730640 (419)\ttotal: 1.16s\tremaining: 1.13s\n",
      "506:\tlearn: 0.9730640\ttest: 0.9730640\tbest: 0.9730640 (419)\ttotal: 1.16s\tremaining: 1.13s\n",
      "507:\tlearn: 0.9730640\ttest: 0.9730640\tbest: 0.9730640 (419)\ttotal: 1.16s\tremaining: 1.12s\n",
      "508:\tlearn: 0.9730640\ttest: 0.9730640\tbest: 0.9730640 (419)\ttotal: 1.16s\tremaining: 1.12s\n",
      "509:\tlearn: 0.9730640\ttest: 0.9730640\tbest: 0.9730640 (419)\ttotal: 1.16s\tremaining: 1.12s\n",
      "510:\tlearn: 0.9730640\ttest: 0.9730640\tbest: 0.9730640 (419)\ttotal: 1.17s\tremaining: 1.11s\n",
      "511:\tlearn: 0.9730640\ttest: 0.9730640\tbest: 0.9730640 (419)\ttotal: 1.17s\tremaining: 1.11s\n",
      "512:\tlearn: 0.9730640\ttest: 0.9730640\tbest: 0.9730640 (419)\ttotal: 1.18s\tremaining: 1.12s\n",
      "513:\tlearn: 0.9730640\ttest: 0.9730640\tbest: 0.9730640 (419)\ttotal: 1.18s\tremaining: 1.11s\n",
      "514:\tlearn: 0.9730640\ttest: 0.9730640\tbest: 0.9730640 (419)\ttotal: 1.18s\tremaining: 1.11s\n",
      "515:\tlearn: 0.9730640\ttest: 0.9730640\tbest: 0.9730640 (419)\ttotal: 1.18s\tremaining: 1.11s\n",
      "516:\tlearn: 0.9730640\ttest: 0.9730640\tbest: 0.9730640 (419)\ttotal: 1.18s\tremaining: 1.1s\n",
      "517:\tlearn: 0.9730640\ttest: 0.9730640\tbest: 0.9730640 (419)\ttotal: 1.18s\tremaining: 1.1s\n",
      "518:\tlearn: 0.9730640\ttest: 0.9730640\tbest: 0.9730640 (419)\ttotal: 1.19s\tremaining: 1.1s\n",
      "519:\tlearn: 0.9730640\ttest: 0.9730640\tbest: 0.9730640 (419)\ttotal: 1.19s\tremaining: 1.1s\n",
      "Stopped by overfitting detector  (100 iterations wait)\n",
      "\n",
      "bestTest = 0.9730639731\n",
      "bestIteration = 419\n",
      "\n",
      "Shrink model to first 420 iterations.\n"
     ]
    },
    {
     "data": {
      "text/plain": [
       "<catboost.core.CatBoostClassifier at 0x224ab2a9708>"
      ]
     },
     "execution_count": 132,
     "metadata": {},
     "output_type": "execute_result"
    }
   ],
   "source": [
    "cat_boost.fit(train,y_train,eval_set=(train,y_train), early_stopping_rounds=100)"
   ]
  },
  {
   "cell_type": "code",
   "execution_count": 133,
   "metadata": {},
   "outputs": [],
   "source": [
    "prediction_cb = cat_boost.predict(test)"
   ]
  },
  {
   "cell_type": "code",
   "execution_count": 134,
   "metadata": {},
   "outputs": [],
   "source": [
    "pred15 = pd.DataFrame(prediction_cb)\n",
    "pred15.to_csv('titanic_submission_cb.csv')"
   ]
  },
  {
   "cell_type": "code",
   "execution_count": null,
   "metadata": {},
   "outputs": [],
   "source": []
  }
 ],
 "metadata": {
  "kernelspec": {
   "display_name": "Python 3",
   "language": "python",
   "name": "python3"
  },
  "language_info": {
   "codemirror_mode": {
    "name": "ipython",
    "version": 3
   },
   "file_extension": ".py",
   "mimetype": "text/x-python",
   "name": "python",
   "nbconvert_exporter": "python",
   "pygments_lexer": "ipython3",
   "version": "3.7.4"
  }
 },
 "nbformat": 4,
 "nbformat_minor": 2
}
